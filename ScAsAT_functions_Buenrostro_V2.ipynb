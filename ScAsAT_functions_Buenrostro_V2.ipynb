{
 "cells": [
  {
   "cell_type": "markdown",
   "metadata": {},
   "source": [
    "# Apllication of Scasat to Buenrostro data\n",
    "\n",
    "This is the python notebook that uses __S__ingle-__c__ell __A__TAC-seq __A__nalysis __T__ool (Scasat) to process single cell ATAC-seq data from [_Buenrostro et. al._](https://www.nature.com/articles/nature14590) which is publicly available. In this anlaysis we only used the human data from this public data.\n",
    "\n",
    "__Prerequisites:__\n",
    "\n",
    "In order to use Scasat, you have to have the following tools installed in the machine where you are running Scasat\n",
    "1. [samtools](http://www.htslib.org)\n",
    "2. [bedtools](http://bedtools.readthedocs.io/en/latest/)\n",
    "3. [macs2](https://github.com/taoliu/MACS)\n",
    "\n",
    "If you are using jupyter from anaconda installation then you can install the tools with the following command\n",
    "* samtools: conda install -c bioconda samtools\n",
    "* bedtools: conda install -c bioconda bedtools \n",
    "* macs2: conda install -c bioconda macs2 (please note that macs2 only runs on python2.7 so you have to create a python2.7 environment if you are using python3\n",
    "\n",
    "This jupyter notebook introduces __S__ingle-__c__ell __A__TAC-seq __A__nalysis __T__ool (Scasat) to deconvolute three cell types from a complex cell mixture. Scasat analyses single cell ATAC-seq data to identify regulatory regions that separates cells from a complex population. This notebook is the tool mentioned in [___Murtuza Baker et. al.___]()"
   ]
  },
  {
   "cell_type": "markdown",
   "metadata": {},
   "source": [
    "### Import python packages\n",
    "\n",
    "We import the python packages."
   ]
  },
  {
   "cell_type": "code",
   "execution_count": 2,
   "metadata": {},
   "outputs": [],
   "source": [
    "import subprocess, os, csv, signal, rpy2\n",
    "import numpy as np\n",
    "import readline\n",
    "import rpy2.robjects\n",
    "import matplotlib.pyplot as plt\n",
    "import csv\n",
    "from operator import itemgetter\n",
    "%matplotlib inline"
   ]
  },
  {
   "cell_type": "markdown",
   "metadata": {},
   "source": [
    "This code toggles between showing/hiding the codes. The outputs and the discussions would always be visible."
   ]
  },
  {
   "cell_type": "code",
   "execution_count": 2,
   "metadata": {},
   "outputs": [
    {
     "data": {
      "text/html": [
       "<script>\n",
       "code_show=true;\n",
       "function code_toggle() {\n",
       " if (code_show){\n",
       " $('div.input').hide();\n",
       " } else {\n",
       " $('div.input').show();\n",
       " }\n",
       " code_show = !code_show\n",
       "}\n",
       "$( document ).ready(code_toggle);\n",
       "</script>\n",
       "<form action=\"javascript:code_toggle()\"><input type=\"submit\" value=\"Click here to toggle on/off the raw code.\"></form>"
      ],
      "text/plain": [
       "<IPython.core.display.HTML object>"
      ]
     },
     "execution_count": 2,
     "metadata": {},
     "output_type": "execute_result"
    }
   ],
   "source": [
    "from IPython.display import HTML\n",
    "\n",
    "HTML('''<script>\n",
    "code_show=true;\n",
    "function code_toggle() {\n",
    " if (code_show){\n",
    " $('div.input').hide();\n",
    " } else {\n",
    " $('div.input').show();\n",
    " }\n",
    " code_show = !code_show\n",
    "}\n",
    "$( document ).ready(code_toggle);\n",
    "</script>\n",
    "<form action=\"javascript:code_toggle()\"><input type=\"submit\" value=\"Click here to toggle on/off the raw code.\"></form>''')\n",
    "\n"
   ]
  },
  {
   "cell_type": "markdown",
   "metadata": {},
   "source": [
    "rpy2 package provides a simple and robust access to `R` from within `Python`. The following cells loads the package to run `R` code within `Python` notebook. To write and execute `R` code we will use the magic command `%%R` at the top of the cell. "
   ]
  },
  {
   "cell_type": "code",
   "execution_count": 3,
   "metadata": {},
   "outputs": [],
   "source": [
    "%load_ext rpy2.ipython"
   ]
  },
  {
   "cell_type": "markdown",
   "metadata": {},
   "source": [
    "## Python Functions\n",
    "\n",
    "Below we define the python functions for Scasat. One of the advantage of Scasat is the use of both python and R programming language. We use python for file processing and R for doing the data analysis."
   ]
  },
  {
   "cell_type": "code",
   "execution_count": 4,
   "metadata": {},
   "outputs": [],
   "source": [
    "def formatSummitBed(summitFile, fileToSave):\n",
    "#fileToSave = 'location_toSave/AllFiles_Filtered_summits_shifted.bed' \n",
    "#peakFile = 'location_PeakFile/AllFiles_Filtered_summits.bed'\n",
    "\n",
    "    with open(summitFile,'r') as f:\n",
    "        peaks=[x.strip().split('\\t') for x in f]\n",
    "    for i in range(len(peaks)):\n",
    "        peaks[i][1] = str(int(peaks[i][1]) - 250)\n",
    "        peaks[i][2] = str(int(peaks[i][2]) + 250)\n",
    "\n",
    "    peaks.sort(key=lambda x: float(x[4]), reverse=True)\n",
    "\n",
    "    with open(fileToSave, \"w\") as f:\n",
    "        writer = csv.writer(f,delimiter='\\t')\n",
    "        writer.writerows(peaks)"
   ]
  },
  {
   "cell_type": "markdown",
   "metadata": {},
   "source": [
    "`formatSummitBed()`: \n",
    "> This functions formats the summit file by adding 500 bp distance from the summit position.\n",
    "\n",
    "Arguments:\n",
    "> `summitFile` : The name of the summit file. This has to be the file that is generated from the aggreagated `BAM` file<br>\n",
    "> `fileToSave`: The name of the file where the save the peak file with the 500 bp peaks.\n",
    "\n",
    "Value:\n",
    "> File with 500 bp peaks."
   ]
  },
  {
   "cell_type": "code",
   "execution_count": 5,
   "metadata": {},
   "outputs": [],
   "source": [
    "def getMergedBam(BAMFolder, BAMFilePattern):\n",
    "    \n",
    "    import pandas as pd\n",
    "    \n",
    "        \n",
    "    mergeFiles = ''\n",
    "    for root, folder, files in os.walk(BAMFolder):\n",
    "            files = [os.path.join(root, f) for f in files if (f.endswith(BAMFilePattern))]\n",
    "            for f in files:\n",
    "                mergeFiles = mergeFiles +  f + ' '\n",
    "    \n",
    "        \n",
    "    mergeCommand = 'samtools merge ' + BAMFolder + 'AllFiles_Filtered_Merged_nodup.bam' + ' ' + mergeFiles    \n",
    "    subprocess.call(mergeCommand, shell=True)   \n",
    "    \n",
    "    indexMergeCmd = 'samtools index ' + BAMFolder + 'AllFiles_Filtered_Merged_nodup.bam'\n",
    "    subprocess.call(indexMergeCmd, shell=True)\n",
    "    \n",
    "    cleanCommand = 'samtools view -b ' + BAMFolder + 'AllFiles_Filtered_Merged_nodup.bam' + ' ' \\\n",
    "                    + 'chr1 chr2 chr3 chr4 chr5 chr6 chr7 chr8 chr9 chr10 chr11 chr12 chr13 chr14' \\\n",
    "                    + ' chr15 chr16 chr17 chr18 chr19 chr20 chr21 chr22 chrX  > ' \\\n",
    "                    + BAMFolder + 'AllFiles_Filtered_Merged_nodup_cleaned.bam'\n",
    "    subprocess.call(cleanCommand, shell=True)            \n",
    "    \n",
    "    sortMergeCmd = 'samtools sort -o ' + BAMFolder + 'AllFiles_Filtered_Merged_nodup_cleaned_sorted.bam' \\\n",
    "                    + ' ' + BAMFolder + 'AllFiles_Filtered_Merged_nodup_cleaned.bam'        \n",
    "    subprocess.call(sortMergeCmd, shell=True)\n",
    "    \n",
    "    indexMergeCmd = 'samtools index ' + BAMFolder + 'AllFiles_Filtered_Merged_nodup_cleaned_sorted.bam'\n",
    "    subprocess.call(indexMergeCmd, shell=True) "
   ]
  },
  {
   "cell_type": "markdown",
   "metadata": {},
   "source": [
    "`getMergedBam()`:\n",
    "> merges all the individual `BAM` files for each of the cells and creates `AllFiles_Filtered_Merged_nodup.bam` file. This file is then sorted and indexed.\n",
    "\n",
    "Arguements:\n",
    "> `BAMFolder`: Location of the folder where all the BAM files for each of the single-cells are. <br>\n",
    "> `BAMFilePattern` : The end pattern of the `BAM` files to be merged.\n",
    "\n",
    "Value:\n",
    "> The merged `BAM` file `AllFiles_Filtered_Merged_nodup_sorted.bam`. "
   ]
  },
  {
   "cell_type": "code",
   "execution_count": 6,
   "metadata": {},
   "outputs": [],
   "source": [
    "def getAggregatedPeak(BAMFolder, BAMFilePattern):\n",
    "    getMergedBam(BAMFolder, BAMFilePattern)\n",
    "    \n",
    "    MergedMacs2Cmd = '/home/mqbsxsm2/anaconda3/envs/python2/bin/macs2 callpeak -t ' + BAMFolder + 'AllFiles_Filtered_Merged_nodup_cleaned_sorted.bam' +' -n ' \\\n",
    "                    + BAMFolder + 'AllFiles_Filtered' +' -q 0.2 -g hs -f BAMPE --nomodel --nolambda \\\n",
    "                    -B --call-summits --keep-dup all; source deactivate'\n",
    "    subprocess.run(MergedMacs2Cmd, shell=True)\n",
    "    \n",
    "    narrowPeakFile = BAMFolder + 'AllFiles_Filtered_peaks.narrowPeak'\n",
    "    mergedPeakFile = BAMFolder + 'mergedPeaks.bed'\n",
    "    tmpPeakFile = BAMFolder + 'tmpPeak.txt'\n",
    "    \n",
    "    \n",
    "    with open(narrowPeakFile,'r') as f:\n",
    "        peaks=[x.strip().split('\\t') for x in f]\n",
    "    peaks.sort(key=lambda x: float(x[8]), reverse=True)\n",
    "    \n",
    "    \n",
    "    peaksToWrite = list()\n",
    "    for i in range(len(peaks)):\n",
    "        peaksToWrite.insert(i, peaks[i][0:4])\n",
    "        peaksToWrite[i].append(peaks[i][8])      \n",
    "    \n",
    "    \n",
    "    with open(mergedPeakFile, \"w\") as f:\n",
    "        writer = csv.writer(f,delimiter='\\t')        \n",
    "        writer.writerows(peaksToWrite)        \n",
    "        \n",
    "    sortCmd = 'sort -k1,1 -k2,2n ' + mergedPeakFile + ' > ' + tmpPeakFile  \n",
    "    subprocess.call(sortCmd, shell=True)\n",
    "    \n",
    "    bedToolsCmd ='bedtools merge -i ' + tmpPeakFile + ' -c 5 -o last > ' + mergedPeakFile\n",
    "    subprocess.call(bedToolsCmd, shell=True)\n",
    "    \n",
    "    sortCmd = 'sort -nrk4 ' + mergedPeakFile + ' > ' + tmpPeakFile  \n",
    "    subprocess.call(sortCmd, shell=True)    \n",
    "    \n",
    "    copyCmd = 'cat ' + tmpPeakFile + ' > ' + mergedPeakFile\n",
    "    subprocess.call(copyCmd, shell=True)    "
   ]
  },
  {
   "cell_type": "markdown",
   "metadata": {},
   "source": [
    "`getAggregatedPeak()`:\n",
    "> This function calls `MACS2` on the aggregated `BAM` file and generates the peaks. If the user is following the merging BAM option then this is the function they need to call. Then the `getMergedBam()` is called within this function\n",
    "\n",
    "Arguements:\n",
    "> `BAMFolder`: Location of the folder where all the BAM files for each of the single-cells are. <br>\n",
    "> `BAMFilePattern` : The end pattern of the `BAM` files to be merged.\n",
    "\n",
    "Value:\n",
    "> Peak files from MACS2 call."
   ]
  },
  {
   "cell_type": "markdown",
   "metadata": {},
   "source": [
    "------------------\n",
    "## R functions"
   ]
  },
  {
   "cell_type": "markdown",
   "metadata": {},
   "source": [
    "### Loading R packages (if not available it will install it before loading)\n",
    "\n",
    "Pleae note that inorder to install `GenomicFeatures` the mysql library has to be alreay installed. If it is not available in your system the use the following command to install it\n",
    "\n",
    "`sudo apt-get install libdbd-mysql libmysqlclient-devthe`"
   ]
  },
  {
   "cell_type": "code",
   "execution_count": 59,
   "metadata": {
    "scrolled": true
   },
   "outputs": [],
   "source": [
    "%%R\n",
    "if (!require(\"pacman\")) install.packages(\"pacman\")\n",
    "pacman::p_load(ggplot2, GenomicFeatures, ComplexHeatmap, Rtsne, prabclus, GGally, rtracklayer, corrplot, \n",
    "               cluster, EnsDb.Hsapiens.v75, ChIPpeakAnno, org.Hs.eg.db, rGREAT, marge, tidyverse, tibble)"
   ]
  },
  {
   "cell_type": "markdown",
   "metadata": {},
   "source": [
    "### R functions for the Scasat\n",
    "\n",
    "Now I define all the R functions. These functions will be used for most of the downstream analysis. A short explanation of each function along with its input and output are also given below of each function. "
   ]
  },
  {
   "cell_type": "code",
   "execution_count": 9,
   "metadata": {},
   "outputs": [],
   "source": [
    "%%R\n",
    "peakAccessibility <- function(mergedPeakFile, peakFolder, peakFilePattern, outputFolder, outputPeakFileName){\n",
    "    if(length(list.files(path=peakFolder, pattern = paste0(peakFilePattern,'.bed'), full.names=TRUE))>0){\n",
    "        files = list.files(path=peakFolder, pattern = paste0(peakFilePattern,'.bed'), full.names=TRUE)\n",
    "        unlink(files)\n",
    "    }\n",
    "    formatingToBed(peakFolder, peakFilePattern, outputFolder)\n",
    "    peakFilePattern = paste0(peakFilePattern,'.bed')\n",
    "    query = import(mergedPeakFile)\n",
    "    queryDF <- data.frame(query)\n",
    "    #queryDF <- queryDF[order(queryDF$name, decreasing=TRUE),]    \n",
    "    \n",
    "    totalOverlap <- data.frame(seqnames = queryDF$seqnames, start = queryDF$start, end = queryDF$end)    \n",
    "    files <- list.files(path=peakFolder, pattern = peakFilePattern, full.names=TRUE)\n",
    "    cellName <- list.files(path=peakFolder, pattern = peakFilePattern)\n",
    "    for (i in 1:length(files)){\n",
    "        subject = import(files[i])\n",
    "        hits = findOverlaps(query, subject)\n",
    "        hitsDF <- data.frame(hits)\n",
    "        cellName[i] <- gsub(peakFilePattern, '', cellName[i])\n",
    "        totalOverlap[hitsDF$queryHits, cellName[i]] <- 1\n",
    "        totalOverlap[-hitsDF$queryHits, cellName[i]] <- 0\n",
    "    }\n",
    "    outputFile = paste0(outputFolder,outputPeakFileName)\n",
    "    write.table(totalOverlap, outputFile, row.names=FALSE)    \n",
    "}    \n"
   ]
  },
  {
   "cell_type": "markdown",
   "metadata": {},
   "source": [
    "`peakAccesibility()`:\n",
    "> This function calculates the accessible peaks for each of the cells. It looks at each of the peaks listed in _Aggregated-Peak_ table and tries to find out whether there is any overlap between these peaks and the peaks of each cell. If there is then it puts a 1 agains that cells for that peak. Otherwise it puts 0. Calling these function for each of the cell completes the _Aggregated-Peak_ for which rows represnt all the peaks and the column represents cells.\n",
    "\n",
    "Arguements:\n",
    "> `mergedPeakFile`: This is the name and location of `mergedPeaks.bed` file that were generated while calling `mergePeaks()` python function.<br>\n",
    "> `peakFolder`: This is the location of the folder where all the peaks for each of the single-cells are located. <br>\n",
    "> `peakFilePattern` : The end pattern of the `peak` files of each single cells found in the `peakFolder`. Currently the only two accepted patterns are `_peaks.narrowPeak` and `_summits_shifted.bed` <br>\n",
    "> `outputFolder`: Folder where all the outputs will be saved\n",
    "> `outputPeakFileName`: Name of the file where the peak accessibility table, _Aggregated-Peak_ would be saved. This file will contain all the accessibility information for all the cells.\n",
    "\n",
    "\n",
    "Value:\n",
    "> Peak accessibile table saved according to the name set in `outputPeakFileName`. The table will have the results in 1 or 0 expression peak opening or closing respectively."
   ]
  },
  {
   "cell_type": "code",
   "execution_count": 10,
   "metadata": {},
   "outputs": [],
   "source": [
    "%%R\n",
    "formatingToBed <- function(peakFolder, peakFilePattern, outputFolder){\n",
    "    files <- list.files(path=peakFolder, pattern = peakFilePattern, full.names=TRUE)\n",
    "    for (i in 1:length(files)){\n",
    "        narrowPeak <- read.csv(files[i], header=FALSE, sep='\\t')\n",
    "        write.table(narrowPeak[,1:4], paste0(files[i],'.bed'), \n",
    "                    row.names=FALSE, sep='\\t', col.names=FALSE, quote=FALSE)\n",
    "    }\n",
    "}"
   ]
  },
  {
   "cell_type": "markdown",
   "metadata": {},
   "source": [
    "`formatingToBed()`:\n",
    "> This function formats the bed file suitable for processing by ScAsAT. It adds a `.bed` extension at the end.\n",
    "\n",
    "Arguements:\n",
    "> `mergedPeakFile`: This is the name and location of `mergedPeaks.bed` file that were generated while calling `mergePeaks()` python function.<br>\n",
    "> `peakFolder`: This is the location of the folder where all the peaks for each of the single-cells are located. <br>\n",
    "> `peakFilePattern` : The end pattern of the `peak` files of each single cells found in the `peakFolder`. Currently the only two accepted patterns are `_peaks.narrowPeak` and `_summits_shifted.bed` <br>\n",
    "> `outputFolder`: Folder where all the outputs will be saved\n",
    "\n",
    "Value:\n",
    "> Formats the bed files with adding a `.bed` extesion."
   ]
  },
  {
   "cell_type": "code",
   "execution_count": 11,
   "metadata": {},
   "outputs": [],
   "source": [
    "%%R\n",
    "calcEntropy <- function(data){\n",
    "\tfreqs <- table(data)/sum(table(data))\n",
    "\treturn(-sum(freqs * log(freqs)))\n",
    "}"
   ]
  },
  {
   "cell_type": "markdown",
   "metadata": {},
   "source": [
    "`calcEntropy()`:\n",
    "> Calcuates entropy is calculated as\n",
    "$$\\sum_{i=1}^c -p_i log_2 p_i$$\n",
    "\n",
    "\n",
    "`Usage`:\n",
    "> `calcEntropy(count_data)`\n",
    "\n",
    "Arguements:\n",
    "> `count_data`: The peak information converted into binary. \n",
    "\n",
    "Value:\n",
    "> Returns entropy of the count data."
   ]
  },
  {
   "cell_type": "code",
   "execution_count": 12,
   "metadata": {},
   "outputs": [],
   "source": [
    "%%R\n",
    "getDiffAccessInformationGain <- function(cdBinary, groups=NULL){\n",
    "\n",
    "    if (length(levels(groups)) != 2) {\n",
    "        stop(paste(\"ERROR: wrong number of levels in the grouping factor (\", \n",
    "            paste(levels(groups), collapse = \" \"), \"), but must be two.\", \n",
    "            sep = \"\"))\n",
    "    }\n",
    "    if (is.null(groups)){\n",
    "        stop(\"ERROR: groups factor is not provided\")\n",
    "    }\n",
    "    \n",
    "    \n",
    "    SingleCell.Group1.CellNames <- names(groups[groups==levels(groups)[1]])\n",
    "    SingleCell.Group2.CellNames <- names(groups[groups==levels(groups)[2]])\n",
    "    \n",
    "    SingleCell.Group1.Binary <- cdBinary[,SingleCell.Group1.CellNames]\n",
    "    SingleCell.Group2.Binary <- cdBinary[,SingleCell.Group2.CellNames]\n",
    "    \n",
    "    CellType <- data.frame(CellType=gsub('_.*','',names(groups)))\n",
    "    \n",
    "         \n",
    "    SingleCell.Group1VsGroup2 <- cbind(SingleCell.Group1.Binary,SingleCell.Group2.Binary)\n",
    "    SingleCell.Group1VsGroup2 <- t(SingleCell.Group1VsGroup2)\n",
    "    #SingleCell.Group1VsGroup2 <- cbind(SingleCell.Group1VsGroup2,CellType)   \n",
    "\n",
    "    \n",
    "    dataDim = (dim(SingleCell.Group1VsGroup2)[2])\n",
    "    #dataDim = 5\n",
    "    \n",
    "    information.gain = vector(mode=\"numeric\", length=(ncol(SingleCell.Group1VsGroup2)-1))\n",
    "    SingleCell.Group1VsGroup2.res <- data.frame(Chr = cdBinary[1:dataDim,1],\n",
    "                                           Start = cdBinary[1:dataDim,2],\n",
    "                                           end = cdBinary[1:dataDim,3])        \n",
    "    \n",
    "    \n",
    "    for(i in 1:dataDim)\n",
    "    {\n",
    "        jointData = cbind(SingleCell.Group1VsGroup2[,i], CellType)\n",
    "        \n",
    "        gain <- calcEntropy(jointData[,2]) - \n",
    "                (sum(table(jointData)[c(1,3)])/length(jointData[,2]))*calcEntropy(jointData[jointData[,1]==0,]) - \n",
    "                (sum(table(jointData)[c(2,4)])/length(jointData[,2]))*calcEntropy(jointData[jointData[,1]==1,])\n",
    "        SingleCell.Group1VsGroup2.res$information.gain[i] <- gain        \n",
    "    }\n",
    "    \n",
    "        \n",
    "    SingleCell.Group1.rawAvg <- rowSums(SingleCell.Group1.Binary==1)/dim(SingleCell.Group1.Binary)[2]\n",
    "    SingleCell.Group2.rawAvg <- rowSums(SingleCell.Group2.Binary==1)/dim(SingleCell.Group2.Binary)[2]\n",
    "    \n",
    "    SingleCell.Group1VsGroup2.res$rawMeanGroup1 <- SingleCell.Group1.rawAvg\n",
    "    SingleCell.Group1VsGroup2.res$rawMeanGroup2 <- SingleCell.Group2.rawAvg\n",
    "    SingleCell.Group1VsGroup2.res$log2FoldChange <- log2(SingleCell.Group1VsGroup2.res$rawMeanGroup1/\n",
    "                                                       SingleCell.Group1VsGroup2.res$rawMeanGroup2)\n",
    "    \n",
    "\n",
    "    #write.csv(SingleCell.Group1VsGroup2[order(SingleCell.Group1VsGroup2$information.gain, decreasing=TRUE),], \n",
    "    #          paste0(levels(groups)[1],'_vs_',levels(groups)[2],'InformationGain.csv'), row.names=FALSE)\n",
    "    \n",
    "    SingleCell.Group1VsGroup2.res <- SingleCell.Group1VsGroup2.res[!is.nan(SingleCell.Group1VsGroup2.res$information.gain) &\n",
    "                                                                  !is.na(SingleCell.Group1VsGroup2.res$information.gain),]\n",
    "    \n",
    "    return(SingleCell.Group1VsGroup2.res)    \n",
    "}"
   ]
  },
  {
   "cell_type": "markdown",
   "metadata": {},
   "source": [
    "`getDiffAccessInformationGain()`:\n",
    "> Caculates differential accessibility between two groups of cells using entropy and information gain. For each peak the accessibility is encoded as a binary variable. For each peak we calculate the \"Information gain\" by having the peak divided into two groups of cells for which we are trying to find out the differential accessibilty. The Information gain is calculated as\n",
    "\n",
    "$$ \n",
    " Gain(P, P_{G_1}, P_{G_2}) = Entropy(P) - \\sum_{v \\epsilon\\{G_1,G_2 \\}} \\frac{|P_v|}{|P|}Entropy(P_v)\n",
    "$$\n",
    "\n",
    ">where Entropy is calculated as\n",
    "$$\\sum_{i=1}^c -p_i log_2 p_i$$\n",
    "\n",
    "> The peaks are then sorted based on the informatin gain and the user can choose the cutoff value for selecting the DA peaks. A suggested value for this would be values < 0.01\n",
    "\n",
    "\n",
    "`Usage`:\n",
    "> `getDiffAccessLogsitic(count_data, groups)`\n",
    "\n",
    "Arguements:\n",
    "> `cdBinary`: The peak information converted into binary. Ideally this would be file that set in the `outputPeakFileName`. `cdBinary` would be used to calculate the Jaccard distance which would then be used as d matrix in MDS calculation<br>\n",
    "\n",
    ">`groups` : groups into which each cell belong to.\n",
    "\n",
    "Value:\n",
    "> Returns a table with the peaks along with Information gain."
   ]
  },
  {
   "cell_type": "code",
   "execution_count": 13,
   "metadata": {},
   "outputs": [],
   "source": [
    "%%R\n",
    "getDiffAccess <- function(cdBinary, groups=NULL){\n",
    "\n",
    "    if (length(levels(groups)) != 2) {\n",
    "        stop(paste(\"ERROR: wrong number of levels in the grouping factor (\", \n",
    "            paste(levels(groups), collapse = \" \"), \"), but must be two.\", \n",
    "            sep = \"\"))\n",
    "    }\n",
    "    if (is.null(groups)){\n",
    "        stop(\"ERROR: groups factor is not provided\")\n",
    "    }\n",
    "    \n",
    "    \n",
    "    SingleCell.Group1.CellNames <- names(groups[groups==levels(groups)[1]])\n",
    "    SingleCell.Group2.CellNames <- names(groups[groups==levels(groups)[2]])\n",
    "    \n",
    "    SingleCell.Group1.Binary <- cdBinary[,SingleCell.Group1.CellNames]\n",
    "    SingleCell.Group2.Binary <- cdBinary[,SingleCell.Group2.CellNames]\n",
    "\n",
    "    SingleCell.Group1.ZeroCount <- rowSums(SingleCell.Group1.Binary==0)\n",
    "    SingleCell.Group2.ZeroCount <- rowSums(SingleCell.Group2.Binary==0)\n",
    "    SingleCell.Group1.OneCount <- rowSums(SingleCell.Group1.Binary==1)\n",
    "    SingleCell.Group2.OneCount <- rowSums(SingleCell.Group2.Binary==1)\n",
    "    \n",
    "    SingleCell.Group1VsGroup2 <- data.frame(Chr = cdBinary[,1],\n",
    "                                           Start = cdBinary[,2],\n",
    "                                           end = cdBinary[,3])\n",
    "\n",
    "    SingleCell.Group1VsGroup2$group1OneCounts <- SingleCell.Group1.OneCount\n",
    "    SingleCell.Group1VsGroup2$group2OneCounts <- SingleCell.Group2.OneCount\n",
    "    SingleCell.Group1VsGroup2$log2Fold <- log2((SingleCell.Group1.OneCount+1)/dim(SingleCell.Group1.Binary)[2]) - \n",
    "                                            log2(((SingleCell.Group2.OneCount+1)/dim(SingleCell.Group2.Binary)[2]))\n",
    "    pvalue = vector(mode=\"numeric\", length=length(SingleCell.Group2.OneCount))\n",
    "    nGenes <- nrow(SingleCell.Group1.Binary)\n",
    "    \n",
    "    \n",
    "    for(i in 1:length(SingleCell.Group2.OneCount))\n",
    "    {\n",
    "        contingencyTable <- matrix(c(SingleCell.Group1.ZeroCount[i], SingleCell.Group2.ZeroCount[i],\n",
    "                                     SingleCell.Group1.OneCount[i], SingleCell.Group2.OneCount[i]), ncol=2)\n",
    "        SingleCell.Group1VsGroup2$pvalue[i] <- fisher.test(contingencyTable)$p.value        \n",
    "    }\n",
    "    \n",
    "    # Bonferroni correction\n",
    "    SingleCell.Group1VsGroup2$p_adjust <- p.adjust(SingleCell.Group1VsGroup2$pvalue, method=\"bonferroni\")\n",
    "\n",
    "    write.csv(SingleCell.Group1VsGroup2[order(SingleCell.Group1VsGroup2$p_adjust, decreasing=FALSE),], \n",
    "              paste0(levels(groups)[1],'_vs_',levels(groups)[2],'.csv'), row.names=FALSE)\n",
    "    \n",
    "    return(SingleCell.Group1VsGroup2)    \n",
    "}"
   ]
  },
  {
   "cell_type": "markdown",
   "metadata": {},
   "source": [
    "`getDiffAccess()`:\n",
    "> Caculates differential accessibility between two groups of cells. For each peak it creates a contingency table with number of 0's and 1's for the two groups. <br>\n",
    "\n",
    ">|               \t| Group-1 \t| Group-2 \t|\n",
    "|---------------\t|---------\t|---------\t|\n",
    "| Number of 0's \t|         \t|         \t|\n",
    "| Number of 1's \t|         \t|         \t| \n",
    "<br>\n",
    "It then runs Fisher exact test to calculate the p-values. These p-values are then corrected for multiple testing with Bonferroni correction. Finally the function returns a table with the peaks, their count of 1's in each group, the p-value and the q-value (corrected p-value).\n",
    "\n",
    "Arguements:\n",
    "> `cdBinary`: The peak information converted into binary. Ideally this would be file that set in the `outputPeakFileName`. `cdBinary` would be used to calculate the Jaccard distance which would then be used as d matrix in MDS calculation<br>\n",
    "\n",
    "Value:\n",
    "> Returns a table with the peaks, their count of 1's in each group, the p-value and the q-value (corrected p-value)."
   ]
  },
  {
   "cell_type": "code",
   "execution_count": 14,
   "metadata": {},
   "outputs": [],
   "source": [
    "%%R\n",
    "getPeakVsPrecision <- function(peakA, peakB,start=100,stepSize=100){\n",
    "    \n",
    "    if (colnames(peakA)[1] != 'chr' | colnames(peakA)[2] != 'start' | colnames(peakA)[3] != 'end') {\n",
    "        stop(paste(\"ERROR: Column name should have 'Chr' 'Start' 'End'\"))\n",
    "    }\n",
    "\n",
    "    dimToRun <- min(dim(peakA)[1],dim(peakB)[1])\n",
    "    if(dim(peakB)[1]>dimToRun){\n",
    "        peakB <- peakB[1:dimToRun,]\n",
    "    }\n",
    "    GenomicRangeObjA <- makeGRangesFromDataFrame(peakA,\n",
    "                         keep.extra.columns=FALSE,\n",
    "                         ignore.strand=TRUE,\n",
    "                         seqinfo=NULL,\n",
    "                         seqnames.field=c(\"chr\"),\n",
    "                         start.field=\"start\",\n",
    "                         end.field=c(\"end\"),\n",
    "                         starts.in.df.are.0based=FALSE)\n",
    "    j=1\n",
    "    Recall <- vector(mode=\"numeric\", length=0)\n",
    "    Precision <- vector(mode=\"numeric\", length=0)\n",
    "    for(i in seq(100,(dimToRun-stepSize),stepSize)){\n",
    "           GenomicRangeObjB <- makeGRangesFromDataFrame(peakB[1:i,],\n",
    "                         keep.extra.columns=FALSE,\n",
    "                         ignore.strand=TRUE,\n",
    "                         seqinfo=NULL,\n",
    "                         seqnames.field=c(\"chr\"),\n",
    "                         start.field=\"start\",\n",
    "                         end.field=c(\"end\"),\n",
    "                         starts.in.df.are.0based=FALSE)\n",
    "\n",
    "           write.table(GenomicRangeObjA, 'tmpPeakA.bed', sep='\\t', row.names=FALSE, quote=FALSE, col.names=FALSE)\n",
    "\t   write.table(GenomicRangeObjB, 'tmpPeakB.bed', sep='\\t', row.names=FALSE, quote=FALSE, col.names=FALSE)\n",
    "           bedToolsCmd = 'bedtools intersect -a tmpPeakB.bed -b tmpPeakA.bed -u'\n",
    "           intersectRes = system(bedToolsCmd, intern=TRUE)\n",
    "           \n",
    "           FP = dim(peakB[1:i,])[1] - length(intersectRes)\n",
    "           TP = length(intersectRes)\n",
    "           \n",
    "           GenomicRangeObjB <- makeGRangesFromDataFrame(peakB[(i+1):dim(peakB)[1],],\n",
    "                         keep.extra.columns=FALSE,\n",
    "                         ignore.strand=TRUE,\n",
    "                         seqinfo=NULL,\n",
    "                         seqnames.field=c(\"Chr\"),\n",
    "                         start.field=\"Start\",\n",
    "                         end.field=c(\"End\"),\n",
    "                         starts.in.df.are.0based=FALSE)\n",
    "                         \n",
    "           write.table(GenomicRangeObjA, 'tmpPeakA.bed', sep='\\t', row.names=FALSE, quote=FALSE, col.names=FALSE)\n",
    "\t   write.table(GenomicRangeObjB, 'tmpPeakB.bed', sep='\\t', row.names=FALSE, quote=FALSE, col.names=FALSE)\n",
    "           bedToolsCmd = 'bedtools intersect -a tmpPeakB.bed -b tmpPeakA.bed -u'\n",
    "           intersectRes = system(bedToolsCmd, intern=TRUE)\n",
    "\n",
    "           TN = dim(peakB[(i+1):dim(peakB)[1],]) - length(intersectRes)\n",
    "           FN = length(intersectRes)\n",
    "           Recall[j] = 100*(TP/(TP + FN))\n",
    "           Precision[j] = 100*(TP / (TP + FP))\n",
    "           j = j +1\n",
    "           \n",
    "   \n",
    "    }\n",
    "    df<-data.frame(x=Recall,y=Precision)\n",
    "    p <- ggplot(df, aes_string(x=\"x\",y =\"y\"))+ scale_colour_hue(l=40)\n",
    "    \n",
    "    p <- p + ggtitle(\"Recall vs Precision\") + theme(plot.title = element_text(size = 16, face = \"bold\"))\n",
    "    p <- p + geom_point(size = 2)\n",
    "    p <- p + xlab(\"Recall%\") \n",
    "    p <- p + ylab(\"Precision%\")+\n",
    "\ttheme_light(base_size=15) +\n",
    "        theme(strip.background = element_blank(),\n",
    "              panel.border     = element_blank(),\n",
    "              plot.title = element_text(hjust = 0.5))\n",
    "    print(p)\n",
    "    \n",
    "    GenomicRangeObjB <- makeGRangesFromDataFrame(peakB,\n",
    "                         keep.extra.columns=FALSE,\n",
    "                         ignore.strand=TRUE,\n",
    "                         seqinfo=NULL,\n",
    "                         seqnames.field=c(\"Chr\"),\n",
    "                         start.field=\"Start\",\n",
    "                         end.field=c(\"End\"),\n",
    "                         starts.in.df.are.0based=FALSE)\n",
    "                         \n",
    "     write.table(GenomicRangeObjA, 'tmpPeakA.bed', sep='\\t', row.names=FALSE, quote=FALSE, col.names=FALSE)\n",
    "     write.table(GenomicRangeObjB, 'tmpPeakB.bed', sep='\\t', row.names=FALSE, quote=FALSE, col.names=FALSE)\n",
    "     bedToolsCmd = 'bedtools intersect -a tmpPeakB.bed -b tmpPeakA.bed -u'\n",
    "     intersectRes = system(bedToolsCmd, intern=TRUE)\n",
    "   \n",
    "   return(intersectRes) \n",
    "}"
   ]
  },
  {
   "cell_type": "markdown",
   "metadata": {},
   "source": [
    "`getPeakVsPrecision()`:\n",
    "> This function is used to see how many peaks from the Bulk data the single-cell have been able to capture. For that we calculate the Peak and the Precision of the single-cell data against its Bulk counterpart and then plot it. The way these two values are calculated are\n",
    "\n",
    "$$\n",
    "Recall = 100  \\frac{TP}{TP + FN}\n",
    "$$\n",
    "$$\n",
    "Precision = 100  \\frac{TP}{TP + FP}\n",
    "$$\n",
    "> where <br>\n",
    "> TP = True Positive <br>\n",
    "> TN = True Negative <br>\n",
    "> FP = False Positive <br>\n",
    "> FN = False Negative <br>\n",
    "\n",
    "`Usage`:\n",
    "> `getPeakVsPrecision(peakA, peakB,start,stepSize)`\n",
    "\n",
    "Arguements:\n",
    "> `peakA`: Peak of the BULK data <br>\n",
    "> `peakB`: Single-cell Peak <br>\n",
    "> `start`: Number of peaks to start with the calculation, default is `100`. <br>\n",
    "> `stepSize`: Size of the increase steps\n",
    "\n",
    "Value:\n",
    "> Plots Recall vs. Precision and returns a summary"
   ]
  },
  {
   "cell_type": "code",
   "execution_count": 15,
   "metadata": {},
   "outputs": [],
   "source": [
    "%%R\n",
    "getJaccardDist <- function(cdBinary){\n",
    "        \n",
    "    if(colnames(cdBinary[,2:3])[1] == 'start' && colnames(cdBinary[,2:3])[2] == 'end'){\n",
    "        SingleCell.Binary <- cdBinary[,4:(dim(cdBinary)[2])]\n",
    "    }\n",
    "    else\n",
    "        SingleCell.Binary <- cdBinary\n",
    "    \n",
    "    \n",
    "    SingleCell.Binary.Jaccard <- jaccard(as.matrix(SingleCell.Binary))\n",
    "    \n",
    "    return(SingleCell.Binary.Jaccard)\n",
    "}"
   ]
  },
  {
   "cell_type": "markdown",
   "metadata": {},
   "source": [
    "`getJaccardDist()`:\n",
    "> This function calculates the jaccard distance between each of the cells. Jaccard distance calculates the ratio between the differences of the sizes of the union and intersection against the size of the union. The equation for calculating this distance is <br><br>$$d_J(A,B)=\\frac{|A \\cup B| - |A \\cap B|}{|A \\cup B|}$$\n",
    "\n",
    "Arguements:\n",
    "> `cdBinary`: The peak information converted into binary. Ideally this would be file that set in the `outputPeakFileName`. \n",
    "\n",
    "\n",
    "Value:\n",
    "> Jaccard distance between each of the cell."
   ]
  },
  {
   "cell_type": "code",
   "execution_count": 16,
   "metadata": {},
   "outputs": [],
   "source": [
    "%%R\n",
    "plotMDS <- function(cdBinary, k, groups=NULL, cellName, ret.val=FALSE, text.label=FALSE, \n",
    "                    title=\"\"){\n",
    "\n",
    "    if(missing(ret.val)){\n",
    "        ret.val = FALSE\n",
    "    }\n",
    "    if(text.label==TRUE & missing(cellName)){\n",
    "        stop(\"ERROR: Please give cellName\")\n",
    "    }\n",
    "    \n",
    "    SingleCell.Binary.Jaccard <- getJaccardDist(cdBinary)\n",
    "    fit <- cmdscale(as.dist(SingleCell.Binary.Jaccard),eig=TRUE, k=k)\n",
    " \n",
    "    if(is.null(groups)){\n",
    "        df<-data.frame(x=fit$points[,1],y=fit$points[,2], Cell=colnames(SingleCell.Binary.Jaccard))\n",
    "        p <- ggplot(df, aes_string(x=\"x\",y =\"y\"))+ scale_colour_hue(l=40)\n",
    "    }\n",
    "    else{\n",
    "        df<-data.frame(x=fit$points[,1],y=fit$points[,2], Cell=colnames(SingleCell.Binary.Jaccard), Batch=groups)\n",
    "        p <- ggplot(df, aes_string(x=\"x\",y =\"y\", color=\"Batch\"))\n",
    "            #scale_colour_hue(l=40)\n",
    "            #scale_fill_manual(values = getPalette(15))\n",
    "    }\n",
    "\n",
    "    \n",
    "    p <- p + ggtitle(title) + theme(plot.title = element_text(size = 20, face = \"bold\"))\n",
    "    p <- p + geom_point(size = 4)\n",
    "    p <- p + xlab(\"Cordinate 1\") \n",
    "    p <- p + ylab(\"Codinate 2\")+\n",
    "\ttheme_light(base_size=24) +\n",
    "        theme(strip.background = element_blank(),\n",
    "              panel.border     = element_blank(),\n",
    "              plot.title = element_text(hjust = 0.5))\n",
    "\n",
    "       \n",
    "    if(text.label==TRUE)\n",
    "        p <- p + geom_text(data=df,aes(label=cellName),alpha=0.5,size=4, vjust=1,hjust=0.5,angle=45)\n",
    "\n",
    "    #p <- p + theme(axis.title = element_text(size = 14), axis.text = element_text(size = 14),\n",
    "    #legend.text = element_text(size = 14), legend.title = element_text(size = 14))\n",
    "    \n",
    "    print(p)\n",
    "    \n",
    "    if(ret.val == TRUE)\n",
    "        return(fit)\n",
    "}"
   ]
  },
  {
   "cell_type": "markdown",
   "metadata": {},
   "source": [
    "`plotMDS()`:\n",
    "> This function calculates the Multidimensional Scaling (MDS) and plots the cells based on Jaccard distance to visualize the level of similarity between the cells.\n",
    "\n",
    "Arguements:\n",
    "> `cdBinary`: The peak information converted into binary. Ideally this would be file that set in the `outputPeakFileName`. `cdBinary` would be used to calculate the Jaccard distance which would then be used as d matrix in MDS calculation<br>\n",
    "`k`: The maximum dimension of the space which the data are to be represented in; must be in {1, 2, ..., n-1}. <br>\n",
    "`groups`: If the cells can be organized into different groups (for eg. different batches), then they are passed as groups making them factor variable.<br>\n",
    "`cellName`: If `text.label` is set to `TRUE` then you have to supply `cellName`.\n",
    "`ret.val`: Need to set this TRUE for the function to return the MDS values <br>\n",
    "`text.label`: Need to set this TRUE if label of each of the cells are to be printed in the plot.\n",
    "\n",
    "\n",
    "Value:\n",
    "> Calculates the MDS and plots the cells based on their MDS dimension. It returns the MDS values if `ret.val` is set to TRUE."
   ]
  },
  {
   "cell_type": "code",
   "execution_count": 17,
   "metadata": {},
   "outputs": [],
   "source": [
    "%%R\n",
    "plotPCAJaccard <- function(cdBinary, groups=NULL, ret.val=FALSE , cellName, text.label=FALSE, title){\n",
    "    \n",
    "   \n",
    "    if(missing(ret.val)){\n",
    "        ret.val = FALSE\n",
    "    }\n",
    "    if(text.label==TRUE & missing(cellName)){\n",
    "        stop(\"ERROR: Please give cellName\")\n",
    "    }\n",
    "    \n",
    "    SingleCell.Binary.Jaccard <- getJaccardDist(cdBinary)\n",
    "    FinalPCAData <- t(SingleCell.Binary.Jaccard)\n",
    "    PCx=1\n",
    "    PCy=2\n",
    "    pcaPRComp <- prcomp(FinalPCAData)\n",
    "    percentVar <- pcaPRComp$sdev^2/sum(pcaPRComp$sdev^2)\n",
    " \n",
    "    if(is.null(groups)){\n",
    "        df<-data.frame(PCX=pcaPRComp$x[,PCx],PCY=pcaPRComp$x[,PCy])\n",
    "        p1<-ggplot(df, aes_string(x=\"PCX\",y =\"PCY\"))        \n",
    "    }\n",
    "    else{\n",
    "        df<-data.frame(PCX=pcaPRComp$x[,PCx],PCY=pcaPRComp$x[,PCy], groups=groups)\n",
    "        p1<-ggplot(df, aes_string(x=\"PCX\",y =\"PCY\", color=\"groups\"))             \n",
    "    }          \n",
    "    if(missing(title))\n",
    "        p1<-p1+ggtitle(\"PCA with Jacard Matrix\")\n",
    "    else\n",
    "        p1<-p1+ggtitle(title)\n",
    "        \n",
    "    p1<-p1+geom_point(size = 3)\n",
    "    p1<-p1+xlab(paste(\"PC\",PCx,\": \", round(percentVar[PCx] * 100), \"% variance\"))\n",
    "    p1<-p1+ylab(paste(\"PC\",PCy,\": \", round(percentVar[PCy] * 100), \"% variance\"))\n",
    "    if(text.label == TRUE){\n",
    "        p1<-p1+geom_text(data=df,aes(label=cellName),\n",
    "                       alpha=0.5,size=4, vjust=1,hjust=0.5,angle=45, color=\"black\")\n",
    "    }\n",
    "    \n",
    "    p1<-p1 +\n",
    "    theme_light(base_size=15)+     \n",
    "         theme(plot.title = element_text(hjust = 0.5),\n",
    "              panel.border     = element_blank())\n",
    "\n",
    "    if(length(levels(groups)) < 12)\n",
    "        p1 <- p1 + scale_colour_brewer(palette=\"Set1\")\n",
    "    \n",
    "    print(p1)\n",
    "        \n",
    "    if(ret.val == TRUE)\n",
    "        return(pcaPRComp)\n",
    "}"
   ]
  },
  {
   "cell_type": "markdown",
   "metadata": {},
   "source": [
    "`plotPCAJaccard()`:\n",
    "> This function calculates the Principle Component Analysis (PCA) and plots the cells based on Jaccard distance in a reduced dimension to visualize how the cells cluster together.\n",
    "\n",
    "Arguements:\n",
    "> `cdBinary`: The peak information converted into binary. Ideally this would be file that set in the `outputPeakFileName`. `cdBinary` would be used to calculate the Jaccard distance which would then be used as d matrix in MDS calculation<br>\n",
    "`groups`: If the cells can be organized into different groups (for eg. different batches), then they are passed as groups making them factor variable.<br>\n",
    "`ret.val`: Need to set this TRUE for the function to return the MDS values <br>\n",
    "`text.label`: Need to set this TRUE if label of each of the cells are to be printed in the plot.<br>\n",
    "`title`: Sets the title of the plot.\n",
    "\n",
    "\n",
    "Value:\n",
    "> Calculates PCA and plots the cells in reduced dimension. If`ret.val` is set to TRUE it returns the PCA components along with standard deviations. "
   ]
  },
  {
   "cell_type": "code",
   "execution_count": 18,
   "metadata": {},
   "outputs": [],
   "source": [
    "%%R\n",
    "plotMultiplePCAJaccard <- function(cdBinary, nPCAToDisplay, groups=NULL, ret.val=FALSE , text.label=FALSE, title=\"\"){\n",
    "    \n",
    "    if(missing(nPCAToDisplay)){\n",
    "    \tstop(\"ERROR: Number of PCA's \\\"nPCAToDisplay\\\" to display is missing\")\n",
    "    }\n",
    "    if(missing(ret.val)){\n",
    "        ret.val = FALSE\n",
    "    }\n",
    "    \n",
    "    SingleCell.Binary.Jaccard <- getJaccardDist(cdBinary)\n",
    "    FinalPCAData <- t(SingleCell.Binary.Jaccard)\n",
    "    PCx=1\n",
    "    PCy=2\n",
    "    pcaPRComp <- prcomp(FinalPCAData)\n",
    "\n",
    "    nmax = nPCAToDisplay\n",
    "    plotTitle = paste0('Plotting first ',nmax,' PCAs')\n",
    "    \n",
    "    txt1 <- paste(\"Percent_PC_Var_onfirst\",nmax,\"PCs\",sep=\"\")\n",
    "    pca_var = pcaPRComp$sdev ^ 2\n",
    "    pca_var_percent <- 100 * pca_var / sum(pca_var)\n",
    "    pca_var_percent_first10 <- NA * pca_var\n",
    "    pca_var_percent_first10[1:nmax] <- 100 * pca_var[1:nmax] / sum(pca_var[1:nmax])\n",
    "\n",
    "    pca_var_out <- data.frame(round(pca_var,3),round(pca_var_percent,1),\n",
    "                          round(pca_var_percent_first10,1))\n",
    "    rownames(pca_var_out) <- colnames(pcaPRComp$x)\n",
    "    colnames(pca_var_out) <- c(\"PC_Var\",\"PC_Var_percent\",txt1)\n",
    "\n",
    "\n",
    "    if(is.null(groups)){\n",
    "        df <- as.data.frame(pcaPRComp$x)\n",
    "        p <- ggpairs(df, columns=1:nPCAToDisplay, upper=list(continuous=\"points\"), \n",
    "             title=plotTitle,              \n",
    "             columnLabels = as.character(paste0(colnames(df[,1:nPCAToDisplay]), ' : ', \n",
    "                                                pca_var_out$PC_Var_percent[1:nPCAToDisplay], '% variance')))+\n",
    "    \t     theme_light(base_size=15)+     \n",
    "             theme(plot.title = element_text(hjust = 0.5))        \n",
    "    }\n",
    "    else{\n",
    "        df <- as.data.frame(pcaPRComp$x)\n",
    "        df$Cell=groups        \n",
    "        p <- ggpairs(df, columns=1:nPCAToDisplay, upper=list(continuous=\"points\"), \n",
    "             title=plotTitle, \n",
    "             mapping = aes_string(color=\"Cell\"),\n",
    "             legend = c(1,nPCAToDisplay),\n",
    "             columnLabels = as.character(paste0(colnames(df[,1:nPCAToDisplay]), ' : ', \n",
    "                                                pca_var_out$PC_Var_percent[1:nPCAToDisplay], '% variance')))+\n",
    "             theme_light(base_size=15)+     \n",
    "             theme(plot.title = element_text(hjust = 0.5))\n",
    "    }          \n",
    "    \n",
    "    print(p)\n",
    "}"
   ]
  },
  {
   "cell_type": "markdown",
   "metadata": {},
   "source": [
    "`plotMultiplePCAJaccard()`:\n",
    "> This function calculates the Principle Component Analysis (PCA) based on Jacard distance and plots the first `n` components of the PCA.\n",
    "\n",
    "Arguements:\n",
    "> `cdBinary`: The peak information converted into binary. Ideally this would be file that set in the `outputPeakFileName`. `cdBinary` would be used to calculate the Jaccard distance which would then be used as d matrix in MDS calculation<br>\n",
    "`nPCAToDisplay` : Number of PCAs to display. <br>\n",
    "`groups`: If the cells can be organized into different groups (for eg. different batches), then they are passed as groups making them factor variable.<br>\n",
    "`ret.val`: Need to set this TRUE for the function to return the MDS values <br>\n",
    "`text.label`: Need to set this TRUE if label of each of the cells are to be printed in the plot.<br>\n",
    "`title`: Sets the title of the plot.\n",
    "\n",
    "\n",
    "Value:\n",
    "> Calculates PCA and plots the cells in first `n` components. If`ret.val` is set to TRUE it returns the PCA components along with standard deviations. "
   ]
  },
  {
   "cell_type": "code",
   "execution_count": 19,
   "metadata": {},
   "outputs": [],
   "source": [
    "%%R\n",
    "plotVarExplained <- function(cdBinary, nPCAToDisplay, groups=NULL, ret.val=FALSE , text.label=FALSE, title=\"\"){\n",
    "\n",
    "    if(missing(nPCAToDisplay)){\n",
    "    \tstop(\"ERROR: Number of PCA's \\\"nPCAToDisplay\\\" to display is missing\")\n",
    "    }\n",
    "    if(missing(ret.val)){\n",
    "        ret.val = FALSE\n",
    "    }\n",
    "    \n",
    "    SingleCell.Binary.Jaccard <- getJaccardDist(cdBinary)\n",
    "    FinalPCAData <- t(SingleCell.Binary.Jaccard)\n",
    "    PCx=1\n",
    "    PCy=2\n",
    "    pcaPRComp <- prcomp(FinalPCAData)\n",
    "\n",
    "    nmax = nPCAToDisplay\n",
    "    plotTitle = paste0('Plotting first ',nmax,' PCAs')\n",
    "    \n",
    "    txt1 <- paste(\"Percent_PC_Var_onfirst\",nmax,\"PCs\",sep=\"\")\n",
    "    pca_var = pcaPRComp$sdev ^ 2\n",
    "    pca_var_percent <- 100 * pca_var / sum(pca_var)\n",
    "    pca_var_percent_first10 <- NA * pca_var\n",
    "    pca_var_percent_first10[1:nmax] <- 100 * pca_var[1:nmax] / sum(pca_var[1:nmax])\n",
    "\n",
    "    pca_var_out <- data.frame(round(pca_var,3),round(pca_var_percent,1),round(pca_var_percent_first10,1))\n",
    "    rownames(pca_var_out) <- colnames(pcaPRComp$x)\n",
    "    colnames(pca_var_out) <- c(\"PC_Var\",\"PC_Var_percent\",\"PC_Var_n_percent\")\n",
    "\n",
    "\n",
    "    p <- ggplot(pca_var_out[1:nmax,]) + scale_colour_hue(l=40) \n",
    "    p <- p + geom_line(aes(x=c(1:nmax), y = PC_Var_percent, color=\"PC_Var_percent\"), size=1.5)+\n",
    "         geom_point(aes(x=c(1:nmax), y = PC_Var_percent, color=\"PC_Var_percent\"), size = 2)+\n",
    "         geom_line(aes(x=c(1:nmax), y = PC_Var_n_percent, color=\"PC_Var_n_percent\"), size=1.5)+\n",
    "         geom_point(aes(x=c(1:nmax), y = PC_Var_n_percent, color=\"PC_Var_n_percent\"), size = 2)+\n",
    "         ggtitle(\"Total variance by the PCAs considered\")+\n",
    "         xlab(paste(\"PC1 to PC10\"))+\n",
    "         ylab(paste(\"% of Variance\"))+     \n",
    "         theme_light(base_size=15)+     \n",
    "         theme(plot.title = element_text(hjust = 0.5),\n",
    "              panel.border     = element_blank())+\n",
    "         scale_x_continuous(breaks=c(1:nmax))+\n",
    "         scale_colour_brewer(palette=\"Set1\")\n",
    "         \n",
    "   print(p)\n",
    "}"
   ]
  },
  {
   "cell_type": "markdown",
   "metadata": {},
   "source": [
    "`plotVarExplained()`:\n",
    "> This function calculates the percent of variance explained by the PCAs and plots it.\n",
    "\n",
    "Arguements:\n",
    "> `cdBinary`: The peak information converted into binary. Ideally this would be file that set in the `outputPeakFileName`. `cdBinary` would be used to calculate the Jaccard distance which would then be used as d matrix in MDS calculation<br>\n",
    "`nPCAToDisplay` : Number of PCAs to display. <br>\n",
    "`groups`: If the cells can be organized into different groups (for eg. different batches), then they are passed as groups making them factor variable.<br>\n",
    "`ret.val`: Need to set this TRUE for the function to return the MDS values <br>\n",
    "`text.label`: Need to set this TRUE if label of each of the cells are to be printed in the plot.<br>\n",
    "`title`: Sets the title of the plot.\n",
    "\n",
    "\n",
    "Value:\n",
    "> Calculates the percent of variance explained by the PCAs and the plots thsoe percentage. "
   ]
  },
  {
   "cell_type": "code",
   "execution_count": 20,
   "metadata": {},
   "outputs": [],
   "source": [
    "%%R\n",
    "plot_tSNE <- function(cdBinary, nDimToUSE, groups=NULL, cellName, perplexity_division, ret.val=FALSE , text.label=FALSE, title=\"\"){\n",
    "\n",
    "    if(missing(nDimToUSE)){\n",
    "    \tstop(\"ERROR: Number of PCA's \\\"nDimToUSE\\\" to use is missing\")\n",
    "    }\n",
    "    if(missing(ret.val)){\n",
    "        ret.val = FALSE\n",
    "    }\n",
    "    \n",
    "    if(text.label==TRUE & missing(cellName)){\n",
    "        stop(\"ERROR: Please give cellName\")\n",
    "    }\n",
    "    \n",
    "    if(missing(perplexity_division)){\n",
    "        stop(\"ERROR: Please enter the number with which you want to divide the dimension of your data for perplexity setting\")\n",
    "    }\n",
    "        \n",
    "    \n",
    "    #SingleCell.Binary.Jaccard <- getJaccardDist(cdBinary)\n",
    "    #FinalPCAData <- t(SingleCell.Binary.Jaccard)\n",
    "    \n",
    "    SingleCell.Binary.Jaccard <- getJaccardDist(cdBinary)\n",
    "    fit <- cmdscale(as.dist(SingleCell.Binary.Jaccard),eig=TRUE, k=nDimToUSE)\n",
    "\n",
    "    #pcaPRComp <- prcomp(FinalPCAData)\n",
    "\n",
    "    \n",
    "    #rtsne_pca_out <- Rtsne(as.matrix(pcaPRComp$x[,1:nPCAToUSE]), perplexity = dim(pcaPRComp$x)[1]/perplexity_division, check_duplicates = FALSE)\n",
    "    rtsne_pca_out <- Rtsne(as.matrix(fit$points[,1:nDimToUSE]), perplexity = perplexity_division, \n",
    "                           check_duplicates = FALSE, pca=FALSE, theta=0.01, max_iter=3000)\n",
    "    \n",
    "    if(is.null(groups)){\n",
    "        if(ret.val==TRUE)\n",
    "            df<-data.frame(X=rtsne_pca_out$Y[,1],Y=rtsne_pca_out$Y[,2], cellName=cellName)\n",
    "        else\n",
    "            df<-data.frame(X=rtsne_pca_out$Y[,1],Y=rtsne_pca_out$Y[,2])\n",
    "        p1 <- ggplot(df, aes_string(x=\"X\",y =\"Y\"))\n",
    "    }\n",
    "    else{\n",
    "        if(ret.val==TRUE)\n",
    "            df<-data.frame(X=rtsne_pca_out$Y[,1],Y=rtsne_pca_out$Y[,2], Cell=colnames(SingleCell.Binary.Jaccard), Batch=groups, cellName=cellName)\n",
    "        else\n",
    "            df<-data.frame(X=rtsne_pca_out$Y[,1],Y=rtsne_pca_out$Y[,2], Cell=colnames(SingleCell.Binary.Jaccard), Batch=groups)\n",
    "        p1 <- ggplot(df, aes_string(x=\"X\",y =\"Y\", color=\"Batch\"))\n",
    "    }\n",
    "    \n",
    "\n",
    "    p1<-p1 + ggtitle(\"t-SNE plot\")\n",
    "    p1<-p1 + geom_point(size = 2) \n",
    "    p1<-p1 + xlab(paste(\"Dim-1\"))\n",
    "    p1<-p1 + ylab(\"Dim-2\")+\n",
    "        theme_light(base_size=15) +\n",
    "        theme(strip.background = element_blank(),\n",
    "              panel.border     = element_blank(),\n",
    "              plot.title = element_text(hjust = 0.5))\n",
    "    if(length(levels(groups)) < 12)\n",
    "        p1 <- p1 + scale_colour_brewer(palette=\"Set1\")\n",
    "    if(text.label==TRUE)\n",
    "        p1<-p1 + geom_text(data=df,aes(label=cellName),alpha=0.5,size=4, vjust=1,hjust=0.5,angle=45)\n",
    "    print(p1)\n",
    "    return(df)\n",
    "}"
   ]
  },
  {
   "cell_type": "markdown",
   "metadata": {},
   "source": [
    "`plot_tSNE()`:\n",
    "> Caculates the t-distributed stochastic neighbor embedding (t-SNE) which is a non-linear dimensionality reduction technique particualrly suitable for embedding high-dimensional data into a space of two or three dimensions. This function then plots the lower dimensional representation of the cells in a 2-D scatter plot.\n",
    "\n",
    "Arguements:\n",
    "> `cdBinary`: The peak information converted into binary. Ideally this would be file that set in the `outputPeakFileName`. `cdBinary` would be used to calculate the Jaccard distance which would then be used as d matrix in MDS calculation<br>\n",
    "`nPCAToDisplay` : Number of PCAs to be used to calcualte the t-SNE values. <br>\n",
    "`groups`: If the cells can be organized into different groups (for eg. different batches), then they are passed as groups making them factor variable.<br>\n",
    "`ret.val`: Need to set this TRUE for the function to return the MDS values <br>\n",
    "`text.label`: Need to set this TRUE if label of each of the cells are to be printed in the plot.<br>\n",
    "`title`: Sets the title of the plot.\n",
    "\n",
    "\n",
    "Value:\n",
    "> Calculates and plots the t-SNE representation of the cells. "
   ]
  },
  {
   "cell_type": "code",
   "execution_count": 21,
   "metadata": {},
   "outputs": [],
   "source": [
    "%%R\n",
    "clean.count.peaks <- function(cd, min.cell.peaks.obs = 10, min.peaks.cell = 50){\n",
    "    cdFilt <- cd[,1:3]\n",
    "    cdCells <- cd[,4:dim(cd)[2]]\n",
    "    valid.cell.ix <- which(colSums(cdCells) >= min.peaks.cell)\n",
    "    cdFilt <- cbind(cdFilt,cdCells[,valid.cell.ix])\n",
    "    cdFilt <- cdFilt[rowSums(cdFilt[,4:dim(cdFilt)[2]]) >=min.cell.peaks.obs ,]\n",
    "    cdFiltTemp <- cdFilt[,1:3]\n",
    "    cdCells <- cdFilt[,4:dim(cdFilt)[2]]\n",
    "    valid.cell.ix <- which(colSums(cdCells) > 0)\n",
    "    cdFilt <- cbind(cdFiltTemp,cdCells[,valid.cell.ix])\n",
    "    return(cdFilt)\n",
    "}"
   ]
  },
  {
   "cell_type": "markdown",
   "metadata": {},
   "source": [
    "`clean.count.peaks()`:\n",
    "> This function filter peaks and cells based on peak and cell requirements.\n",
    "\n",
    "Usage:\n",
    "> `clean.count.peaks(cd, min.cell.peaks.obs = 10, min.peaks.cell = 50)`\n",
    "\n",
    "Arguements:\n",
    "> `cd`: A binay matrix with the peak accessiblity of all the single-cells. The row would reprsent each of the peaks unique name and the columns would be each cell. Each entry in the matrix is 0/1 representing either the peak is close/open for that cell. <br>\n",
    "> `min.cell.peaks.obs`: Minimum number of cells that a peak has to be observed in order for that peak to be a valid peak. <br>\n",
    "> `min.peaks.cell` : Minimum number of peaks that a cell needs to have in order for that cell to be called a valid cell. <br>\n",
    "\n",
    "Value:\n",
    "> A matrix with valid accessible peaks."
   ]
  },
  {
   "cell_type": "code",
   "execution_count": 22,
   "metadata": {},
   "outputs": [],
   "source": [
    "%%R\n",
    "multiplot <- function(..., plotList=NULL, File, cols=1, layout=NULL) {\n",
    "\n",
    "  # Adopted from Cookbook for R\n",
    "  library(grid)\n",
    "\n",
    "  plots <- c(list(...), plotList)\n",
    "\n",
    "  numPlots = length(plots)\n",
    "\n",
    "  if (is.null(layout)) {\n",
    "    layout <- matrix(seq(1, cols * ceiling(numPlots/cols)),\n",
    "                    ncol = cols, nrow = ceiling(numPlots/cols))\n",
    "  }\n",
    "\n",
    " if (numPlots==1) {\n",
    "    print(plots[[1]])\n",
    "\n",
    "  } else {\n",
    "    grid.newpage()\n",
    "    pushViewport(viewport(layout = grid.layout(nrow(layout), ncol(layout))))\n",
    "\n",
    "    # Make each plot, in the correct location\n",
    "    for (i in 1:numPlots) {\n",
    "      # Get the i,j matrix positions of the regions that contain this subplot\n",
    "      matchidx <- as.data.frame(which(layout == i, arr.ind = TRUE))\n",
    "\n",
    "      print(plots[[i]], vp = viewport(layout.pos.row = matchidx$row,\n",
    "                                      layout.pos.col = matchidx$col))\n",
    "    }\n",
    "  }\n",
    "}"
   ]
  },
  {
   "cell_type": "markdown",
   "metadata": {},
   "source": [
    "--------------"
   ]
  },
  {
   "cell_type": "markdown",
   "metadata": {},
   "source": [
    "# Analysis\n",
    "Below we start the analysis with Buenrostro data. \n",
    "\n",
    "### Configuration Cell\n",
    "Following is the cell where we configure all the parameters for the tool."
   ]
  },
  {
   "cell_type": "code",
   "execution_count": 23,
   "metadata": {},
   "outputs": [],
   "source": [
    "# This cell holds the parameters for the tools\n",
    "\n",
    "# Set this parameter to the folder where all the Peak Files are. This has to be the folder\n",
    "# where each of the individual cells peak files reside\n",
    "peakFolder = '/home/mqbsxsm2/my-scratch-share/Buenrostro_pipeline_Final/Human_data_analysis/output/Filtered_Macs2_files'\n",
    "\n",
    "\n",
    "# Set this parameter to the folder where the peaks for the merge files are. This can be the same folder\n",
    "# of all the individual cells peak folder or can be a single peak file that is generated from merging BAM files\n",
    "peakFolderToMerge = '/home/mqbsxsm2/my-scratch-share/Buenrostro_pipeline_Final/Human_data_analysis/output/Bam_Files_Filtered_on_Library_Size/'\n",
    "\n",
    "\n",
    "\n",
    "# Set up the pattern for the BAM file ending\n",
    "BAMFilePattern = '_nodup_sorted_cleaned.bam'\n",
    "\n",
    "# Set this parameter to the pattern that is common to all the peak file names that you wish to merge. \n",
    "# for eg, if you want to combine OE19_C01_peaks.narrowPeak and OE19_C02_peaks.narrowPeak then the\n",
    "# pattern would be '_peaks.narrowPeak'\n",
    "# Allowed patterns while calling with the pipeline provided here are\n",
    "# _summits_shifted.bed and '_peaks.narrowPeak'\n",
    "peakFilePattern = '_peaks.narrowPeak'\n",
    "\n",
    "# This would be automatically set to 'mergedPeaks.bed' file in peakFolder folder\n",
    "mergedPeakFile = '/home/mqbsxsm2/my-scratch-share/Buenrostro_pipeline_Final/Human_data_analysis/output/Bam_Files_Filtered_on_Library_Size/mergedPeaks.bed'\n",
    "\n",
    "# Set this folder to where the PeakHits.csv File would be saved\n",
    "outputFolder = peakFolderToMerge\n",
    "\n",
    "# Set the outputPeakFileName name here\n",
    "outputPeakFileName = 'All_Human_Bam_NoTrimmo_NoShift.csv'\n",
    "\n",
    "# This will be automatically set to the 'PeakHits.csv' file in outputFolder folder\n",
    "peakFile = outputFolder + outputPeakFileName"
   ]
  },
  {
   "cell_type": "markdown",
   "metadata": {},
   "source": [
    "We now call `getAggregatedPeak()` to merge all the BAM files and generated the aggregated peak from the merged BAM file."
   ]
  },
  {
   "cell_type": "code",
   "execution_count": 28,
   "metadata": {},
   "outputs": [],
   "source": [
    "getAggregatedPeak(peakFolderToMerge, BAMFilePattern)"
   ]
  },
  {
   "cell_type": "markdown",
   "metadata": {},
   "source": [
    "To calculates the accessiblity of each of the peaks for all the cells we call the following function."
   ]
  },
  {
   "cell_type": "code",
   "execution_count": 29,
   "metadata": {
    "scrolled": true
   },
   "outputs": [],
   "source": [
    "%%R -i mergedPeakFile,peakFolder,peakFilePattern,outputFolder,outputPeakFileName\n",
    "peakAccessibility(mergedPeakFile, peakFolder, peakFilePattern, outputFolder, outputPeakFileName)"
   ]
  },
  {
   "cell_type": "markdown",
   "metadata": {},
   "source": [
    "Reading the peak files"
   ]
  },
  {
   "cell_type": "code",
   "execution_count": 38,
   "metadata": {
    "collapsed": true
   },
   "outputs": [],
   "source": [
    "%%R\n",
    "peakFile <- 'All_Human_Bam.csv'\n",
    "cd <- read.csv(peakFile, sep=' ', header=TRUE)"
   ]
  },
  {
   "cell_type": "code",
   "execution_count": 24,
   "metadata": {},
   "outputs": [],
   "source": [
    "%%R -i peakFile\n",
    "cd <- read.csv(peakFile, sep=' ', header=TRUE)"
   ]
  },
  {
   "cell_type": "code",
   "execution_count": 25,
   "metadata": {},
   "outputs": [
    {
     "data": {
      "text/plain": [
       "[1] 113343    743\n"
      ]
     },
     "metadata": {},
     "output_type": "display_data"
    }
   ],
   "source": [
    "%%R\n",
    "dim(cd)"
   ]
  },
  {
   "cell_type": "markdown",
   "metadata": {},
   "source": [
    "## Filtering accessible peaks\n",
    "\n",
    "Now we filter all the low quality cells and peaks.\n",
    "\n",
    "As there are 740 cells we would consider a cell to be a valid cell if it has at least 114 peaks (at least 0.1% of the total peaks). Also a peak is valid peak to be valid if it is observed in at least 2% of the cells."
   ]
  },
  {
   "cell_type": "code",
   "execution_count": 26,
   "metadata": {},
   "outputs": [
    {
     "data": {
      "text/plain": [
       "[1] 113343    743\n",
       "[1] 32241   743\n"
      ]
     },
     "metadata": {},
     "output_type": "display_data"
    }
   ],
   "source": [
    "%%R\n",
    "cdFilt <- clean.count.peaks(cd,min.peaks.cell = 114, min.cell.peaks.obs = 15)\n",
    "print(dim(cd))\n",
    "print(dim(cdFilt))\n",
    "cdFiltTop <- cdFilt"
   ]
  },
  {
   "cell_type": "code",
   "execution_count": 178,
   "metadata": {},
   "outputs": [],
   "source": [
    "%%R\n",
    "write.csv(cdFiltTop, 'cdTop_Buenrostro_updated.csv', sep='\\t')"
   ]
  },
  {
   "cell_type": "code",
   "execution_count": 27,
   "metadata": {},
   "outputs": [],
   "source": [
    "%%R\n",
    "colnames(cdFiltTop) <- gsub('_.*','',colnames(cdFiltTop))"
   ]
  },
  {
   "cell_type": "code",
   "execution_count": 28,
   "metadata": {},
   "outputs": [
    {
     "data": {
      "text/plain": [
       "[1] \"seqnames\"   \"start\"      \"end\"        \"SRR1779589\" \"SRR1779592\"\n",
       "[6] \"SRR1779594\"\n"
      ]
     },
     "metadata": {},
     "output_type": "display_data"
    }
   ],
   "source": [
    "%%R\n",
    "head(colnames(cdFiltTop))"
   ]
  },
  {
   "cell_type": "markdown",
   "metadata": {},
   "source": [
    "Read annotation file"
   ]
  },
  {
   "cell_type": "code",
   "execution_count": 29,
   "metadata": {},
   "outputs": [
    {
     "data": {
      "text/plain": [
       "           run_accession organism_ch1     CellInfo\n",
       "SRR1779587    SRR1779587 Homo sapiens H1ESC-well-1\n",
       "SRR1779588    SRR1779588 Homo sapiens H1ESC-well-2\n",
       "SRR1779589    SRR1779589 Homo sapiens H1ESC-well-3\n",
       "SRR1779590    SRR1779590 Homo sapiens H1ESC-well-4\n",
       "SRR1779591    SRR1779591 Homo sapiens H1ESC-well-5\n",
       "SRR1779592    SRR1779592 Homo sapiens H1ESC-well-6\n"
      ]
     },
     "metadata": {},
     "output_type": "display_data"
    }
   ],
   "source": [
    "%%R\n",
    "annot <- read.csv('sraAnnotWithSpecies.csv')\n",
    "rownames(annot) <- annot$run_accession\n",
    "head(annot)"
   ]
  },
  {
   "cell_type": "code",
   "execution_count": 30,
   "metadata": {},
   "outputs": [
    {
     "data": {
      "text/plain": [
       "[1] 740   3\n"
      ]
     },
     "metadata": {},
     "output_type": "display_data"
    }
   ],
   "source": [
    "%%R\n",
    "annotFilt <- annot[colnames(cdFiltTop[,4:dim(cdFiltTop)[2]]),]\n",
    "dim(annotFilt)"
   ]
  },
  {
   "cell_type": "code",
   "execution_count": 31,
   "metadata": {},
   "outputs": [],
   "source": [
    "%%R\n",
    "write.csv(annotFilt,'sraAnnotWithSpeciesFilteredList.csv')"
   ]
  },
  {
   "cell_type": "code",
   "execution_count": 32,
   "metadata": {},
   "outputs": [
    {
     "data": {
      "text/plain": [
       "[1] \"BJ\"    \"GM\"    \"H1ESC\" \"HL60\"  \"K562\"  \"TF1\"  \n"
      ]
     },
     "metadata": {},
     "output_type": "display_data"
    }
   ],
   "source": [
    "%%R\n",
    "Batches <- levels(as.factor(sub('-.*','',annotFilt$CellInfo)))\n",
    "Batches"
   ]
  },
  {
   "cell_type": "code",
   "execution_count": 33,
   "metadata": {},
   "outputs": [],
   "source": [
    "%%R\n",
    "cellNames <- colnames(cdFiltTop[,4:dim(cdFiltTop)[2]])\n",
    "cellTypes <- as.factor(sub('-well.*','',annotFilt$CellInfo))\n",
    "#cellTypes <- as.factor(gsub('[0-9]','',colnames(cdFiltTumorTopSel[,4:dim(cdFiltTumorTopSel)[2]])))\n"
   ]
  },
  {
   "cell_type": "code",
   "execution_count": 34,
   "metadata": {},
   "outputs": [
    {
     "data": {
      "image/png": "[encoded data removed]"
     },
     "metadata": {},
     "output_type": "display_data"
    }
   ],
   "source": [
    "%%R -w 750 -h 550\n",
    "#pdf('MDS_with_batch_effect.pdf')\n",
    "MDSClust <- plotMDS(cdFiltTop, 4, groups=cellTypes, ret.val=TRUE, text.label=FALSE, title=\"MDS without additional filtering\")\n",
    "#dev.off()"
   ]
  },
  {
   "cell_type": "markdown",
   "metadata": {},
   "source": [
    "The cells largeley seprate based on the cell types although no obvous cluster comes up."
   ]
  },
  {
   "cell_type": "code",
   "execution_count": 35,
   "metadata": {},
   "outputs": [],
   "source": [
    "%%R\n",
    "cellTypesRepComb <- as.factor(sub('-.*','',annotFilt$CellInfo))"
   ]
  },
  {
   "cell_type": "code",
   "execution_count": 36,
   "metadata": {},
   "outputs": [
    {
     "data": {
      "image/png": "[encoded data removed]"
     },
     "metadata": {},
     "output_type": "display_data"
    }
   ],
   "source": [
    "%%R -w 750 -h 550\n",
    "#pdf('MDS_with_Buenrostro_data.pdf')\n",
    "MDSClust <- plotMDS(cdFiltTop, 4, groups=cellTypesRepComb, ret.val=TRUE, text.label=FALSE, title=\"MDS with Buenrostro Data\")\n",
    "#dev.off()"
   ]
  },
  {
   "cell_type": "code",
   "execution_count": 37,
   "metadata": {},
   "outputs": [
    {
     "data": {
      "image/png": "[encoded data removed]"
     },
     "metadata": {},
     "output_type": "display_data"
    }
   ],
   "source": [
    "%%R\n",
    "set.seed(100)\n",
    "#pdf('tSNE-All-Batch.pdf')\n",
    "tsNE_out_2PCs <- plot_tSNE(cdFiltTop, 14, groups=cellTypesRepComb, perplexity=30, \n",
    "                              cellName=cellNames,ret.val=TRUE, text.label=F)"
   ]
  },
  {
   "cell_type": "code",
   "execution_count": null,
   "metadata": {},
   "outputs": [],
   "source": []
  },
  {
   "cell_type": "code",
   "execution_count": 38,
   "metadata": {},
   "outputs": [
    {
     "data": {
      "image/png": "[encoded data removed]"
     },
     "metadata": {},
     "output_type": "display_data"
    }
   ],
   "source": [
    "%%R\n",
    "set.seed(100)\n",
    "#pdf('tSNE-All-Batch.pdf')\n",
    "tsNE_out_2PCs <- plot_tSNE(cdFiltTop, 14, groups=cellTypes, perplexity=30, \n",
    "                              cellName=cellNames,ret.val=TRUE, text.label=F)"
   ]
  },
  {
   "cell_type": "markdown",
   "metadata": {},
   "source": [
    "## Clustering\n",
    "Now I would do clustering of the cells. I will use the `dynamicTreeCut` method for which I do not need to mention the number of clusters beforehand."
   ]
  },
  {
   "cell_type": "code",
   "execution_count": 39,
   "metadata": {},
   "outputs": [],
   "source": [
    "%%R\n",
    "my.dist <- as.dist(getJaccardDist(cdFiltTop))"
   ]
  },
  {
   "cell_type": "code",
   "execution_count": 40,
   "metadata": {},
   "outputs": [
    {
     "data": {
      "text/plain": [
       "[1] \"1\" \"2\" \"3\" \"4\" \"5\" \"6\" \"7\" \"8\" \"9\"\n"
      ]
     },
     "metadata": {},
     "output_type": "display_data"
    }
   ],
   "source": [
    "%%R\n",
    "#chosen.exprs <- as.matrix(cdTmpIndex)\n",
    "#my.dist <- dist(t(chosen.exprs), method=\"binary\")\n",
    "my.tree <- hclust(my.dist, method = \"ward.D2\")\n",
    "\n",
    "\n",
    "library(dynamicTreeCut)\n",
    "my.clusters <- unname(cutreeDynamic(my.tree, distM=as.matrix(my.dist), verbose=0))\n",
    "\n",
    "\n",
    "levels(as.factor(my.clusters))"
   ]
  },
  {
   "cell_type": "code",
   "execution_count": 41,
   "metadata": {},
   "outputs": [
    {
     "data": {
      "image/png": "[encoded data removed]"
     },
     "metadata": {},
     "output_type": "display_data"
    }
   ],
   "source": [
    "%%R -w 950 -h 700\n",
    "df<-data.frame(X=tsNE_out_2PCs$X,Y=tsNE_out_2PCs$Y,  \n",
    "               Cluster = as.factor(my.clusters), \n",
    "               cellType = as.factor(cellTypes),\n",
    "               cellTypesRepComb = as.factor(cellTypesRepComb))\n",
    "p1 <- ggplot(df, aes_string(x=\"X\",y =\"Y\", color=\"Cluster\")) + geom_point() + theme_classic()\n",
    "p2 <- ggplot(df, aes_string(x=\"X\",y =\"Y\", color=\"cellType\")) + geom_point() + theme_classic()\n",
    "p3 <- ggplot(df, aes_string(x=\"X\",y =\"Y\", color=\"cellTypesRepComb\")) + geom_point() + theme_classic()\n",
    "cellTypesRepComb\n",
    "\n",
    "multiplot(p1,p2,p3,cols=2)"
   ]
  },
  {
   "cell_type": "markdown",
   "metadata": {},
   "source": [
    "The clusters nicely overlays on the t-SNE visualization. Inspecting the t-SNE plots we can see that some of the cell-types are getting more than one cluster. As mentioned by [Weber & Robinson et. al. Cytometry A. 2016 Dec;89(12):1084-1096](https://www.ncbi.nlm.nih.gov/pubmed/27992111), it is better to start with slightly higher number of clusters and then using expert knowledge to manually merge clusters with similar phenotypes. We can merge those clusters by visually inspecting it or by characterizing the peaks associated with each cluster. In this notebook we took the first approach."
   ]
  },
  {
   "cell_type": "markdown",
   "metadata": {},
   "source": [
    "# Characterizing the cell types\n",
    "\n",
    "Now we will try to characterize the different cell types using the differentially accessible peaks. For this we identify the differentially accessible peaks associated with each cell-type and then characterize the cells based on the motifs associated with the peaks as well as the functional analysis based on `Great`."
   ]
  },
  {
   "cell_type": "markdown",
   "metadata": {},
   "source": [
    "## Detecting motifs for cell-types (K562)\n",
    "We now identify the motifs associated with K562 cells. For this we first calculate Differential Accessibility to find out the peaks that are differentially accessible in K562 vs all cells."
   ]
  },
  {
   "cell_type": "markdown",
   "metadata": {},
   "source": [
    "We first identify the K562 cells and the cells that are not K562"
   ]
  },
  {
   "cell_type": "code",
   "execution_count": 48,
   "metadata": {},
   "outputs": [],
   "source": [
    "%%R\n",
    "c1CellName <- rownames(annotFilt[sub('-.*','',annotFilt$CellInfo) == 'K562',])\n",
    "c2CellName <-  rownames(annotFilt[sub('-.*','',annotFilt$CellInfo) != 'K562',])\n",
    "c1CountData <- cdFiltTop[,as.character(c1CellName)]\n",
    "colnames(c1CountData) <- paste0('C1_', colnames(c1CountData))\n",
    "c2CountData <- cdFiltTop[,as.character(c2CellName)]\n",
    "colnames(c2CountData) <- paste0('C2_', colnames(c2CountData))"
   ]
  },
  {
   "cell_type": "markdown",
   "metadata": {},
   "source": [
    "We prepare for the Differential Accessibility analysis"
   ]
  },
  {
   "cell_type": "code",
   "execution_count": 52,
   "metadata": {},
   "outputs": [
    {
     "data": {
      "text/plain": [
       "sg\n",
       " C1  C2 \n",
       "278 462 \n"
      ]
     },
     "metadata": {},
     "output_type": "display_data"
    }
   ],
   "source": [
    "%%R\n",
    "CellCluster.Annot.counts <- cbind(cdFiltTop[,1:3], c1CountData ,c2CountData)\n",
    "rownames(CellCluster.Annot.counts) <- paste0(cdFiltTop[,1],'_',cdFiltTop[,2],'_',cdFiltTop[,3])\n",
    "sg <- factor(gsub(\"(C1|C2).*\", \"\\\\1\", colnames(CellCluster.Annot.counts[,4:dim(CellCluster.Annot.counts)[2]])), \n",
    "             levels = c(\"C1\", \"C2\"))\n",
    "# the group factor should be named accordingly\n",
    "names(sg) <- colnames(CellCluster.Annot.counts[,4:dim(CellCluster.Annot.counts)[2]]) \n",
    "table(sg)"
   ]
  },
  {
   "cell_type": "code",
   "execution_count": 53,
   "metadata": {},
   "outputs": [
    {
     "data": {
      "text/plain": [
       "Time difference of 2.022394 mins\n"
      ]
     },
     "metadata": {},
     "output_type": "display_data"
    }
   ],
   "source": [
    "%%R\n",
    "start.time <- Sys.time()\n",
    "diffRes <- getDiffAccessInformationGain(CellCluster.Annot.counts, groups=sg)\n",
    "end.time <- Sys.time()\n",
    "time.taken <- end.time - start.time\n",
    "time.taken"
   ]
  },
  {
   "cell_type": "markdown",
   "metadata": {},
   "source": [
    "We consider all the peaks that have an information gain of above 0.01 to be significant. So we extract those peaks."
   ]
  },
  {
   "cell_type": "code",
   "execution_count": 131,
   "metadata": {},
   "outputs": [
    {
     "data": {
      "text/plain": [
       "[1] 3945    7\n"
      ]
     },
     "metadata": {},
     "output_type": "display_data"
    }
   ],
   "source": [
    "%%R\n",
    "significantDEpeaks <- diffRes\n",
    "significantDEpeaks <- significantDEpeaks[order(significantDEpeaks$information.gain, decreasing=TRUE),]\n",
    "significantDEpeaks <- significantDEpeaks[significantDEpeaks$information.gain>0.01,]\n",
    "rownames(significantDEpeaks) <- paste0(significantDEpeaks[,1],'_',significantDEpeaks[,2],'_',significantDEpeaks[,3])\n",
    "print(dim(significantDEpeaks))"
   ]
  },
  {
   "cell_type": "markdown",
   "metadata": {},
   "source": [
    "There are 3945 peaks that are significantly differentially accessible in K562 cells compared with all other cells indicating that these can be marker peaks for these cells."
   ]
  },
  {
   "cell_type": "code",
   "execution_count": 132,
   "metadata": {},
   "outputs": [
    {
     "data": {
      "text/plain": [
       "                           Chr     Start       end information.gain\n",
       "chr22_22899001_22902550  chr22  22899001  22902550        0.1796699\n",
       "chr9_133999990_134002602  chr9 133999990 134002602        0.1440533\n",
       "chr22_22873690_22876012  chr22  22873690  22876012        0.1297814\n",
       "chr22_22107612_22111638  chr22  22107612  22111638        0.1238037\n",
       "chr22_21995184_21998492  chr22  21995184  21998492        0.1234496\n",
       "chr9_134147539_134155387  chr9 134147539 134155387        0.1223317\n",
       "                         rawMeanGroup1 rawMeanGroup2 log2FoldChange\n",
       "chr22_22899001_22902550      0.5179856   0.025974026       4.317770\n",
       "chr9_133999990_134002602     0.5611511   0.077922078       2.848285\n",
       "chr22_22873690_22876012      0.3417266   0.004329004       6.302664\n",
       "chr22_22107612_22111638      0.4316547   0.036796537       3.552236\n",
       "chr22_21995184_21998492      0.6618705   0.173160173       1.934442\n",
       "chr9_134147539_134155387     0.6510791   0.166666667       1.965867\n"
      ]
     },
     "metadata": {},
     "output_type": "display_data"
    }
   ],
   "source": [
    "%%R\n",
    "head(significantDEpeaks)"
   ]
  },
  {
   "cell_type": "code",
   "execution_count": 140,
   "metadata": {},
   "outputs": [],
   "source": [
    "%%R\n",
    "sigK562 <- significantDEpeaks"
   ]
  },
  {
   "cell_type": "code",
   "execution_count": 177,
   "metadata": {},
   "outputs": [
    {
     "data": {
      "text/plain": [
       "[1] 3945    7\n"
      ]
     },
     "metadata": {},
     "output_type": "display_data"
    }
   ],
   "source": [
    "%%R\n",
    "dim(sigK562)"
   ]
  },
  {
   "cell_type": "markdown",
   "metadata": {},
   "source": [
    "## Annotating peaks\n",
    "\n",
    "We annotate the these peaks. We use `marge`, an `R` package working as an API for `homer` to annotate the motifs associated with these peaks."
   ]
  },
  {
   "cell_type": "code",
   "execution_count": 142,
   "metadata": {},
   "outputs": [],
   "source": [
    "%%R\n",
    "dat <- as_tibble(sigK562[, c(1:3)])"
   ]
  },
  {
   "cell_type": "markdown",
   "metadata": {},
   "source": [
    "### Find Motifs Across the Genome\n",
    "From the highly open regions we now find the enriched _de  novo_ and/or _known motifs_ via the `find_motifs_genome()`\n",
    "function. This function makes a connection to the HOMER utility `findMotifsGenome.pl`. A de novo and known motifs enrichment analysis is run on the test regions loaded prior, and writes results to the designated path directory. "
   ]
  },
  {
   "cell_type": "code",
   "execution_count": 178,
   "metadata": {},
   "outputs": [],
   "source": [
    "%%R\n",
    "## Create a temporary directory to write results\n",
    "## This directory is erased once R session is closed\n",
    "#results_dir <-tempfile(pattern ='test-dir_')\n",
    "results_dir <- '/home/mqbsxsm2/Rna-seq_Data-Analysis/ScAsAT_notebooks_Updated/HOMER_results/K562'"
   ]
  },
  {
   "cell_type": "code",
   "execution_count": 179,
   "metadata": {},
   "outputs": [],
   "source": [
    "%%R\n",
    "find_motifs_genome(dat,path = results_dir, genome ='hg38', overwrite = TRUE, motif_length=16)"
   ]
  },
  {
   "cell_type": "markdown",
   "metadata": {},
   "source": [
    "### Load Denovo and Known Motif Enrichment Results\n",
    "By default `HOMER` produces two distinct files for _de novo_ and _known motif_ enrichments within the results\n",
    "directory, in `homerMotifs.all.motif` and `knownResults.txt` file respectively. In `marger`, these results can be\n",
    "read in using the respective `read_*_results()` functions, where * is either denovo or known."
   ]
  },
  {
   "cell_type": "code",
   "execution_count": 180,
   "metadata": {},
   "outputs": [],
   "source": [
    "%%R\n",
    "known  <- read_known_results(path = '/home/mqbsxsm2/Rna-seq_Data-Analysis/ScAsAT_notebooks_Updated/HOMER_results/K562/knownResults.txt'\n",
    "                             , homer_dir = FALSE)\n",
    "#denovo <- read_denovo_results(path = results_dir, homer_dir = TRUE)"
   ]
  },
  {
   "cell_type": "code",
   "execution_count": 181,
   "metadata": {},
   "outputs": [
    {
     "data": {
      "text/plain": [
       "\u001b[90m# A tibble: 363 x 14\u001b[39m\n",
       "   motif_name  motif_family experiment accession database consensus log_p_value\n",
       "   \u001b[3m\u001b[90m<chr>\u001b[39m\u001b[23m       \u001b[3m\u001b[90m<chr>\u001b[39m\u001b[23m        \u001b[3m\u001b[90m<chr>\u001b[39m\u001b[23m      \u001b[3m\u001b[90m<chr>\u001b[39m\u001b[23m     \u001b[3m\u001b[90m<chr>\u001b[39m\u001b[23m    \u001b[3m\u001b[90m<chr>\u001b[39m\u001b[23m           \u001b[3m\u001b[90m<dbl>\u001b[39m\u001b[23m\n",
       "\u001b[90m 1\u001b[39m ZNF382      Zf           HEK293-ZN… GSE58341  Homer    GNCTGTAS…           3\n",
       "\u001b[90m 2\u001b[39m Egr2        Zf           Thymocyte… GSE34254  Homer    NGCGTGGG…           3\n",
       "\u001b[90m 3\u001b[39m ETS1        ETS          Jurkat-ET… GSE17954  Homer    ACAGGAAG…           3\n",
       "\u001b[90m 4\u001b[39m Ets1-distal ETS          CD4+-PolI… Barski_e… Homer    MACAGGAA…           2\n",
       "\u001b[90m 5\u001b[39m PU.1        ETS          ThioMac-P… GSE21512  Homer    AGAGGAAG…           2\n",
       "\u001b[90m 6\u001b[39m STAT6       Stat         Macrophag… GSE38377  Homer    TTCCKNAG…           2\n",
       "\u001b[90m 7\u001b[39m Etv2        ETS          ES-ER71-C… GSE59402  Homer(0… NNAYTTCC…           1\n",
       "\u001b[90m 8\u001b[39m ERG         ETS          VCaP-ERG-… GSE14097  Homer    ACAGGAAG…           1\n",
       "\u001b[90m 9\u001b[39m RARg        NR           ES-RARg-C… GSE30538  Homer    AGGTCAAG…           1\n",
       "\u001b[90m10\u001b[39m RBPJ:Ebox   ?,bHLH       Panc1-Rbp… GSE47459  Homer    GGGRAARR…           1\n",
       "\u001b[90m# ... with 353 more rows, and 7 more variables: fdr \u001b[3m\u001b[90m<dbl>\u001b[90m\u001b[23m, tgt_num \u001b[3m\u001b[90m<dbl>\u001b[90m\u001b[23m,\n",
       "#   tgt_pct \u001b[3m\u001b[90m<dbl>\u001b[90m\u001b[23m, bgd_num \u001b[3m\u001b[90m<dbl>\u001b[90m\u001b[23m, bgd_pct \u001b[3m\u001b[90m<dbl>\u001b[90m\u001b[23m, motif_pwm \u001b[3m\u001b[90m<list>\u001b[90m\u001b[23m,\n",
       "#   log_odds_detection \u001b[3m\u001b[90m<dbl>\u001b[90m\u001b[23m\u001b[39m\n"
      ]
     },
     "metadata": {},
     "output_type": "display_data"
    }
   ],
   "source": [
    "%%R\n",
    "known"
   ]
  },
  {
   "cell_type": "code",
   "execution_count": 151,
   "metadata": {},
   "outputs": [],
   "source": [
    "%%R\n",
    "write.csv(data.frame(motifName=known[[1]], log_p_value=known[[7]], FDR=known[[8]]),'K562_motifs.csv')"
   ]
  },
  {
   "cell_type": "markdown",
   "metadata": {},
   "source": [
    "## Disease ontology analysis\n",
    "\n",
    "We now do a disease ontology analysis with the K562 significant peaks."
   ]
  },
  {
   "cell_type": "code",
   "execution_count": 182,
   "metadata": {},
   "outputs": [],
   "source": [
    "%%R\n",
    "sigK562Sel <- sigK562[sigK562$log2FoldChange>2,]"
   ]
  },
  {
   "cell_type": "code",
   "execution_count": 183,
   "metadata": {},
   "outputs": [],
   "source": [
    "%%R\n",
    "bedg1 = sigK562Sel\n",
    "jobg1 = submitGreatJob(bedg1, version = \"3.0\", species='hg19')"
   ]
  },
  {
   "cell_type": "code",
   "execution_count": 184,
   "metadata": {},
   "outputs": [],
   "source": [
    "%%R\n",
    "tbDisG1 = getEnrichmentTables(jobg1, ontolog=\"Disease Ontology\")\n",
    "dftbDisG1 = data.frame(Name = tbDisG1[[1]][,2], Binom_p=-log10(tbDisG1[[1]][,8]))"
   ]
  },
  {
   "cell_type": "code",
   "execution_count": 186,
   "metadata": {},
   "outputs": [
    {
     "data": {
      "text/plain": [
       "                         Name  Binom_p\n",
       "1           lymphoid leukemia 21.05432\n",
       "2            myeloid leukemia 18.18818\n",
       "3     alveolar echinococcosis 18.02069\n",
       "4    chronic myeloid leukemia 17.93534\n",
       "5              echinococcosis 16.62967\n",
       "6  gallbladder adenocarcinoma 15.57111\n",
       "7                    leukemia 13.48804\n",
       "8      lymphoblastic leukemia 13.04917\n",
       "9         hemorrhagic disease 12.62245\n",
       "10  blood coagulation disease 12.24694\n"
      ]
     },
     "metadata": {},
     "output_type": "display_data"
    }
   ],
   "source": [
    "%%R\n",
    "dftbDisG1[1:10,]"
   ]
  },
  {
   "cell_type": "markdown",
   "metadata": {},
   "source": [
    "We know that __K562__ cells are the human myelogenous leukemia cell lines. This is the exact disease ontology picked up from the first 2 disease ontology in the GREAT analysis confirming our pipeline's efficieny in characterizing the cells correcting. "
   ]
  },
  {
   "cell_type": "markdown",
   "metadata": {},
   "source": [
    "## Detecting motifs for cell-types (H1ESC)\n",
    "We now identify the motifs associated with H1ESC cells."
   ]
  },
  {
   "cell_type": "markdown",
   "metadata": {},
   "source": [
    "Agia, we first identify the H1ESC cells and the cells that are not H1ESC"
   ]
  },
  {
   "cell_type": "code",
   "execution_count": 152,
   "metadata": {},
   "outputs": [],
   "source": [
    "%%R\n",
    "c1CellName <- rownames(annotFilt[sub('-.*','',annotFilt$CellInfo) == 'H1ESC',])\n",
    "c2CellName <-  rownames(annotFilt[sub('-.*','',annotFilt$CellInfo) != 'H1ESC',])\n",
    "c1CountData <- cdFiltTop[,as.character(c1CellName)]\n",
    "colnames(c1CountData) <- paste0('C1_', colnames(c1CountData))\n",
    "c2CountData <- cdFiltTop[,as.character(c2CellName)]\n",
    "colnames(c2CountData) <- paste0('C2_', colnames(c2CountData))"
   ]
  },
  {
   "cell_type": "markdown",
   "metadata": {},
   "source": [
    "We prepare for the Differential Accessibility analysis"
   ]
  },
  {
   "cell_type": "code",
   "execution_count": 153,
   "metadata": {},
   "outputs": [
    {
     "data": {
      "text/plain": [
       "sg\n",
       " C1  C2 \n",
       " 60 680 \n"
      ]
     },
     "metadata": {},
     "output_type": "display_data"
    }
   ],
   "source": [
    "%%R\n",
    "CellCluster.Annot.counts <- cbind(cdFiltTop[,1:3], c1CountData ,c2CountData)\n",
    "rownames(CellCluster.Annot.counts) <- paste0(cdFiltTop[,1],'_',cdFiltTop[,2],'_',cdFiltTop[,3])\n",
    "sg <- factor(gsub(\"(C1|C2).*\", \"\\\\1\", colnames(CellCluster.Annot.counts[,4:dim(CellCluster.Annot.counts)[2]])), \n",
    "             levels = c(\"C1\", \"C2\"))\n",
    "# the group factor should be named accordingly\n",
    "names(sg) <- colnames(CellCluster.Annot.counts[,4:dim(CellCluster.Annot.counts)[2]]) \n",
    "table(sg)"
   ]
  },
  {
   "cell_type": "code",
   "execution_count": 154,
   "metadata": {},
   "outputs": [
    {
     "data": {
      "text/plain": [
       "Time difference of 2.069025 mins\n"
      ]
     },
     "metadata": {},
     "output_type": "display_data"
    }
   ],
   "source": [
    "%%R\n",
    "start.time <- Sys.time()\n",
    "diffRes <- getDiffAccessInformationGain(CellCluster.Annot.counts, groups=sg)\n",
    "end.time <- Sys.time()\n",
    "time.taken <- end.time - start.time\n",
    "time.taken"
   ]
  },
  {
   "cell_type": "markdown",
   "metadata": {},
   "source": [
    "We consider all the peaks that have an information gain of above 0.01 to be significant. So we extract those peaks."
   ]
  },
  {
   "cell_type": "code",
   "execution_count": 155,
   "metadata": {},
   "outputs": [
    {
     "data": {
      "text/plain": [
       "[1] 617   7\n"
      ]
     },
     "metadata": {},
     "output_type": "display_data"
    }
   ],
   "source": [
    "%%R\n",
    "significantDEpeaks <- diffRes\n",
    "significantDEpeaks <- significantDEpeaks[order(significantDEpeaks$information.gain, decreasing=TRUE),]\n",
    "significantDEpeaks <- significantDEpeaks[significantDEpeaks$information.gain>0.01,]\n",
    "rownames(significantDEpeaks) <- paste0(significantDEpeaks[,1],'_',significantDEpeaks[,2],'_',significantDEpeaks[,3])\n",
    "print(dim(significantDEpeaks))"
   ]
  },
  {
   "cell_type": "markdown",
   "metadata": {},
   "source": [
    "There are 617 peaks that are significantly differentially accessible in H1ESC cells compared with all other cells indicating that these can be marker peaks for these cells."
   ]
  },
  {
   "cell_type": "code",
   "execution_count": 156,
   "metadata": {},
   "outputs": [
    {
     "data": {
      "text/plain": [
       "                          Chr     Start       end information.gain\n",
       "chr8_105235368_105236506 chr8 105235368 105236506       0.04884215\n",
       "chr8_17270582_17271344   chr8  17270582  17271344       0.04852606\n",
       "chr3_67039181_67039625   chr3  67039181  67039625       0.04487596\n",
       "chr5_140345779_140347966 chr5 140345779 140347966       0.04240195\n",
       "chr1_95391852_95393214   chr1  95391852  95393214       0.04156323\n",
       "chr2_111489796_111490785 chr2 111489796 111490785       0.04062765\n",
       "                         rawMeanGroup1 rawMeanGroup2 log2FoldChange\n",
       "chr8_105235368_105236506     0.3166667   0.010294118       4.943073\n",
       "chr8_17270582_17271344       0.2500000   0.001470588       7.409391\n",
       "chr3_67039181_67039625       0.2333333   0.001470588       7.309855\n",
       "chr5_140345779_140347966     0.3000000   0.013235294       4.502500\n",
       "chr1_95391852_95393214       0.3500000   0.026470588       3.724893\n",
       "chr2_111489796_111490785     0.2500000   0.005882353       5.409391\n"
      ]
     },
     "metadata": {},
     "output_type": "display_data"
    }
   ],
   "source": [
    "%%R\n",
    "head(significantDEpeaks)"
   ]
  },
  {
   "cell_type": "code",
   "execution_count": 159,
   "metadata": {},
   "outputs": [],
   "source": [
    "%%R\n",
    "sigH1ESC <- significantDEpeaks"
   ]
  },
  {
   "cell_type": "code",
   "execution_count": 160,
   "metadata": {},
   "outputs": [
    {
     "data": {
      "text/plain": [
       "[1] 617   7\n"
      ]
     },
     "metadata": {},
     "output_type": "display_data"
    }
   ],
   "source": [
    "%%R\n",
    "dim(sigH1ESC)"
   ]
  },
  {
   "cell_type": "markdown",
   "metadata": {},
   "source": [
    "## Annotating peaks\n",
    "\n",
    "We annotate the these peaks. We use `marge`, an `R` package working as an API for `homer` to annotate the motifs associated with these peaks."
   ]
  },
  {
   "cell_type": "code",
   "execution_count": 161,
   "metadata": {},
   "outputs": [],
   "source": [
    "%%R\n",
    "dat <- as_tibble(sigH1ESC[, c(1:3)])"
   ]
  },
  {
   "cell_type": "markdown",
   "metadata": {},
   "source": [
    "### Find Motifs Across the Genome\n",
    "From the highly open regions we now find the enriched _de  novo_ and/or _known motifs_ via the `find_motifs_genome()`\n",
    "function. This function makes a connection to the HOMER utility `findMotifsGenome.pl`. A de novo and known motifs enrichment analysis is run on the test regions loaded prior, and writes results to the designated path directory. "
   ]
  },
  {
   "cell_type": "code",
   "execution_count": 162,
   "metadata": {},
   "outputs": [],
   "source": [
    "%%R\n",
    "## Create a temporary directory to write results\n",
    "## This directory is erased once R session is closed\n",
    "#results_dir <-tempfile(pattern ='test-dir_')\n",
    "results_dir <- '/home/mqbsxsm2/Rna-seq_Data-Analysis/ScAsAT_notebooks_Updated/HOMER_results/H1ESC'"
   ]
  },
  {
   "cell_type": "code",
   "execution_count": 163,
   "metadata": {},
   "outputs": [],
   "source": [
    "%%R\n",
    "find_motifs_genome(dat,path = results_dir, genome ='hg38', overwrite = TRUE)"
   ]
  },
  {
   "cell_type": "markdown",
   "metadata": {},
   "source": [
    "### Load Denovo and Known Motif Enrichment Results\n",
    "By default `HOMER` produces two distinct files for _de novo_ and _known motif_ enrichments within the results\n",
    "directory, in `homerMotifs.all.motif` and `knownResults.txt` file respectively. In `marger`, these results can be\n",
    "read in using the respective `read_*_results()` functions, where * is either denovo or known."
   ]
  },
  {
   "cell_type": "code",
   "execution_count": 164,
   "metadata": {},
   "outputs": [],
   "source": [
    "%%R\n",
    "known  <- read_known_results(path = '/home/mqbsxsm2/Rna-seq_Data-Analysis/ScAsAT_notebooks_Updated/HOMER_results/H1ESC/knownResults.txt'\n",
    "                             , homer_dir = FALSE)\n",
    "#denovo <- read_denovo_results(path = results_dir, homer_dir = TRUE)"
   ]
  },
  {
   "cell_type": "code",
   "execution_count": 165,
   "metadata": {},
   "outputs": [
    {
     "data": {
      "text/plain": [
       "\u001b[90m# A tibble: 363 x 14\u001b[39m\n",
       "   motif_name motif_family experiment  accession database consensus log_p_value\n",
       "   \u001b[3m\u001b[90m<chr>\u001b[39m\u001b[23m      \u001b[3m\u001b[90m<chr>\u001b[39m\u001b[23m        \u001b[3m\u001b[90m<chr>\u001b[39m\u001b[23m       \u001b[3m\u001b[90m<chr>\u001b[39m\u001b[23m     \u001b[3m\u001b[90m<chr>\u001b[39m\u001b[23m    \u001b[3m\u001b[90m<chr>\u001b[39m\u001b[23m           \u001b[3m\u001b[90m<dbl>\u001b[39m\u001b[23m\n",
       "\u001b[90m 1\u001b[39m Tcf21      bHLH         ArterySmoo… GSE61369  Homer    NAACAGCT…           2\n",
       "\u001b[90m 2\u001b[39m Myf5       bHLH         GM-Myf5-Ch… GSE24852  Homer    BAACAGCT…           2\n",
       "\u001b[90m 3\u001b[39m Tcf12      bHLH         GM12878-Tc… GSE32465  Homer    VCAGCTGY…           1\n",
       "\u001b[90m 4\u001b[39m Six2       Homeobox     NephronPro… GSE39837  Homer    GWAAYHTG…           1\n",
       "\u001b[90m 5\u001b[39m MyoD       bHLH         Myotube-My… GSE21614  Homer    RRCAGCTG…           1\n",
       "\u001b[90m 6\u001b[39m ELF5       ETS          T47D-ELF5-… GSE30407  Homer    ACVAGGAA…           1\n",
       "\u001b[90m 7\u001b[39m E2A        bHLH         proBcell-E… GSE21978  Homer    DNRCAGCT…           1\n",
       "\u001b[90m 8\u001b[39m Tbx5       T-box        HL1-Tbx5.b… GSE21529  Homer    AGGTGTCA            1\n",
       "\u001b[90m 9\u001b[39m PPARE      NR,DR1       3T3L1-Ppar… GSE13511  Homer    TGACCTTT…           1\n",
       "\u001b[90m10\u001b[39m RFX        HTH          K562-RFX3-… SRA012198 Homer    CGGTTGCC…           1\n",
       "\u001b[90m# ... with 353 more rows, and 7 more variables: fdr \u001b[3m\u001b[90m<dbl>\u001b[90m\u001b[23m, tgt_num \u001b[3m\u001b[90m<dbl>\u001b[90m\u001b[23m,\n",
       "#   tgt_pct \u001b[3m\u001b[90m<dbl>\u001b[90m\u001b[23m, bgd_num \u001b[3m\u001b[90m<dbl>\u001b[90m\u001b[23m, bgd_pct \u001b[3m\u001b[90m<dbl>\u001b[90m\u001b[23m, motif_pwm \u001b[3m\u001b[90m<list>\u001b[90m\u001b[23m,\n",
       "#   log_odds_detection \u001b[3m\u001b[90m<dbl>\u001b[90m\u001b[23m\u001b[39m\n"
      ]
     },
     "metadata": {},
     "output_type": "display_data"
    }
   ],
   "source": [
    "%%R\n",
    "known"
   ]
  },
  {
   "cell_type": "code",
   "execution_count": 166,
   "metadata": {},
   "outputs": [],
   "source": [
    "%%R\n",
    "write.csv(data.frame(motifName=known[[1]], log_p_value=known[[7]], FDR=known[[8]]),'H1ESC_motifs.csv')"
   ]
  },
  {
   "cell_type": "code",
   "execution_count": null,
   "metadata": {},
   "outputs": [],
   "source": []
  },
  {
   "cell_type": "code",
   "execution_count": null,
   "metadata": {},
   "outputs": [],
   "source": []
  },
  {
   "cell_type": "code",
   "execution_count": null,
   "metadata": {},
   "outputs": [],
   "source": []
  },
  {
   "cell_type": "markdown",
   "metadata": {},
   "source": [
    "## Detecting motifs for cell-types (BJ)\n",
    "Now, we identify the motifs associated with BJ cells."
   ]
  },
  {
   "cell_type": "markdown",
   "metadata": {},
   "source": [
    "Like before, we first identify the BJ cells and the cells that are not BJ"
   ]
  },
  {
   "cell_type": "code",
   "execution_count": 167,
   "metadata": {},
   "outputs": [],
   "source": [
    "%%R\n",
    "c1CellName <- rownames(annotFilt[sub('-.*','',annotFilt$CellInfo) == 'BJ',])\n",
    "c2CellName <-  rownames(annotFilt[sub('-.*','',annotFilt$CellInfo) != 'BJ',])\n",
    "c1CountData <- cdFiltTop[,as.character(c1CellName)]\n",
    "colnames(c1CountData) <- paste0('C1_', colnames(c1CountData))\n",
    "c2CountData <- cdFiltTop[,as.character(c2CellName)]\n",
    "colnames(c2CountData) <- paste0('C2_', colnames(c2CountData))"
   ]
  },
  {
   "cell_type": "markdown",
   "metadata": {},
   "source": [
    "We prepare for the Differential Accessibility analysis"
   ]
  },
  {
   "cell_type": "code",
   "execution_count": 168,
   "metadata": {},
   "outputs": [
    {
     "data": {
      "text/plain": [
       "sg\n",
       " C1  C2 \n",
       " 56 684 \n"
      ]
     },
     "metadata": {},
     "output_type": "display_data"
    }
   ],
   "source": [
    "%%R\n",
    "CellCluster.Annot.counts <- cbind(cdFiltTop[,1:3], c1CountData ,c2CountData)\n",
    "rownames(CellCluster.Annot.counts) <- paste0(cdFiltTop[,1],'_',cdFiltTop[,2],'_',cdFiltTop[,3])\n",
    "sg <- factor(gsub(\"(C1|C2).*\", \"\\\\1\", colnames(CellCluster.Annot.counts[,4:dim(CellCluster.Annot.counts)[2]])), \n",
    "             levels = c(\"C1\", \"C2\"))\n",
    "# the group factor should be named accordingly\n",
    "names(sg) <- colnames(CellCluster.Annot.counts[,4:dim(CellCluster.Annot.counts)[2]]) \n",
    "table(sg)"
   ]
  },
  {
   "cell_type": "code",
   "execution_count": 169,
   "metadata": {},
   "outputs": [
    {
     "data": {
      "text/plain": [
       "Time difference of 2.085277 mins\n"
      ]
     },
     "metadata": {},
     "output_type": "display_data"
    }
   ],
   "source": [
    "%%R\n",
    "start.time <- Sys.time()\n",
    "diffRes <- getDiffAccessInformationGain(CellCluster.Annot.counts, groups=sg)\n",
    "end.time <- Sys.time()\n",
    "time.taken <- end.time - start.time\n",
    "time.taken"
   ]
  },
  {
   "cell_type": "markdown",
   "metadata": {},
   "source": [
    "We consider all the peaks that have an information gain of above 0.01 to be significant. So we extract those peaks."
   ]
  },
  {
   "cell_type": "code",
   "execution_count": 170,
   "metadata": {},
   "outputs": [
    {
     "data": {
      "text/plain": [
       "[1] 1172    7\n"
      ]
     },
     "metadata": {},
     "output_type": "display_data"
    }
   ],
   "source": [
    "%%R\n",
    "significantDEpeaks <- diffRes\n",
    "significantDEpeaks <- significantDEpeaks[order(significantDEpeaks$information.gain, decreasing=TRUE),]\n",
    "significantDEpeaks <- significantDEpeaks[significantDEpeaks$information.gain>0.01,]\n",
    "rownames(significantDEpeaks) <- paste0(significantDEpeaks[,1],'_',significantDEpeaks[,2],'_',significantDEpeaks[,3])\n",
    "print(dim(significantDEpeaks))"
   ]
  },
  {
   "cell_type": "markdown",
   "metadata": {},
   "source": [
    "There are 1172 peaks that are significantly differentially accessible in BJ cells compared with all other cells indicating that these can be marker peaks for these cells."
   ]
  },
  {
   "cell_type": "code",
   "execution_count": 171,
   "metadata": {},
   "outputs": [
    {
     "data": {
      "text/plain": [
       "                           Chr     Start       end information.gain\n",
       "chr7_73309035_73309793    chr7  73309035  73309793       0.07760495\n",
       "chr6_117761914_117762805  chr6 117761914 117762805       0.06441182\n",
       "chr20_49982694_49983371  chr20  49982694  49983371       0.06213293\n",
       "chr1_99922886_99923706    chr1  99922886  99923706       0.05826243\n",
       "chr1_44793385_44793943    chr1  44793385  44793943       0.05826243\n",
       "chr18_26734605_26735364  chr18  26734605  26735364       0.05826243\n",
       "                         rawMeanGroup1 rawMeanGroup2 log2FoldChange\n",
       "chr7_73309035_73309793       0.3928571   0.001461988       8.069929\n",
       "chr6_117761914_117762805     0.3750000   0.005847953       6.002815\n",
       "chr20_49982694_49983371      0.3750000   0.007309942       5.680887\n",
       "chr1_99922886_99923706       0.3214286   0.002923977       6.780423\n",
       "chr1_44793385_44793943       0.3214286   0.002923977       6.780423\n",
       "chr18_26734605_26735364      0.3214286   0.002923977       6.780423\n"
      ]
     },
     "metadata": {},
     "output_type": "display_data"
    }
   ],
   "source": [
    "%%R\n",
    "head(significantDEpeaks)"
   ]
  },
  {
   "cell_type": "code",
   "execution_count": 172,
   "metadata": {},
   "outputs": [],
   "source": [
    "%%R\n",
    "sigBJ <- significantDEpeaks"
   ]
  },
  {
   "cell_type": "code",
   "execution_count": 173,
   "metadata": {},
   "outputs": [
    {
     "data": {
      "text/plain": [
       "[1] 1172    7\n"
      ]
     },
     "metadata": {},
     "output_type": "display_data"
    }
   ],
   "source": [
    "%%R\n",
    "dim(sigBJ)"
   ]
  },
  {
   "cell_type": "markdown",
   "metadata": {},
   "source": [
    "## Annotating peaks\n",
    "\n",
    "We annotate the these peaks. We use `marge`, an `R` package working as an API for `homer` to annotate the motifs associated with these peaks."
   ]
  },
  {
   "cell_type": "code",
   "execution_count": 174,
   "metadata": {},
   "outputs": [],
   "source": [
    "%%R\n",
    "dat <- as_tibble(sigBJ[, c(1:3)])"
   ]
  },
  {
   "cell_type": "markdown",
   "metadata": {},
   "source": [
    "### Find Motifs Across the Genome\n",
    "From the highly open regions we now find the enriched _de  novo_ and/or _known motifs_ via the `find_motifs_genome()`\n",
    "function. This function makes a connection to the HOMER utility `findMotifsGenome.pl`. A de novo and known motifs enrichment analysis is run on the test regions loaded prior, and writes results to the designated path directory. "
   ]
  },
  {
   "cell_type": "code",
   "execution_count": 175,
   "metadata": {},
   "outputs": [],
   "source": [
    "%%R\n",
    "## Create a temporary directory to write results\n",
    "## This directory is erased once R session is closed\n",
    "#results_dir <-tempfile(pattern ='test-dir_')\n",
    "results_dir <- '/home/mqbsxsm2/Rna-seq_Data-Analysis/ScAsAT_notebooks_Updated/HOMER_results/BJ'"
   ]
  },
  {
   "cell_type": "code",
   "execution_count": 176,
   "metadata": {},
   "outputs": [],
   "source": [
    "%%R\n",
    "find_motifs_genome(dat,path = results_dir, genome ='hg38', overwrite = TRUE)"
   ]
  },
  {
   "cell_type": "markdown",
   "metadata": {},
   "source": [
    "### Load Denovo and Known Motif Enrichment Results\n",
    "By default `HOMER` produces two distinct files for _de novo_ and _known motif_ enrichments within the results\n",
    "directory, in `homerMotifs.all.motif` and `knownResults.txt` file respectively. In `marger`, these results can be\n",
    "read in using the respective `read_*_results()` functions, where * is either denovo or known."
   ]
  },
  {
   "cell_type": "code",
   "execution_count": null,
   "metadata": {},
   "outputs": [],
   "source": [
    "%%R\n",
    "known  <- read_known_results(path = '/home/mqbsxsm2/Rna-seq_Data-Analysis/ScAsAT_notebooks_Updated/HOMER_results/BJ/knownResults.txt'\n",
    "                             , homer_dir = FALSE)\n",
    "#denovo <- read_denovo_results(path = results_dir, homer_dir = TRUE)"
   ]
  },
  {
   "cell_type": "code",
   "execution_count": null,
   "metadata": {},
   "outputs": [],
   "source": [
    "%%R\n",
    "known"
   ]
  },
  {
   "cell_type": "code",
   "execution_count": 74,
   "metadata": {},
   "outputs": [],
   "source": [
    "%%R\n",
    "write.csv(known[[1]], 'BJ_motifs.csv')"
   ]
  },
  {
   "cell_type": "code",
   "execution_count": null,
   "metadata": {},
   "outputs": [],
   "source": []
  },
  {
   "cell_type": "markdown",
   "metadata": {},
   "source": [
    "## Biological process analysis\n",
    "\n",
    "We now do a biological proces analysis associated with the BJ significant peaks."
   ]
  },
  {
   "cell_type": "code",
   "execution_count": 243,
   "metadata": {},
   "outputs": [],
   "source": [
    "%%R\n",
    "sigBJSel <- sigBJ[sigBJ$log2FoldChange>2,]"
   ]
  },
  {
   "cell_type": "code",
   "execution_count": 244,
   "metadata": {},
   "outputs": [],
   "source": [
    "%%R\n",
    "bedg1 = sigBJSel\n",
    "jobg1 = submitGreatJob(bedg1, version = \"3.0\", species='hg19')"
   ]
  },
  {
   "cell_type": "code",
   "execution_count": 245,
   "metadata": {},
   "outputs": [],
   "source": [
    "%%R\n",
    "tbDisG1 = getEnrichmentTables(jobg1, ontolog=\"GO Biological Process\")\n",
    "dftbDisG1 = data.frame(Name = tbDisG1[[1]][,2], Binom_p=-log10(tbDisG1[[1]][,8]))"
   ]
  },
  {
   "cell_type": "code",
   "execution_count": 246,
   "metadata": {},
   "outputs": [
    {
     "data": {
      "text/plain": [
       "                                        Name  Binom_p\n",
       "1           regulation of cell communication 17.26924\n",
       "2                    regulation of signaling 16.97066\n",
       "3          regulation of signal transduction 16.94500\n",
       "4                         response to stress 16.78951\n",
       "5  negative regulation of biological process 16.73278\n",
       "6        regulation of programmed cell death 16.30698\n",
       "7            regulation of apoptotic process 16.26233\n",
       "8         regulation of response to stimulus 15.75750\n",
       "9    negative regulation of cellular process 15.30380\n",
       "10                  regulation of cell death 15.28546\n"
      ]
     },
     "metadata": {},
     "output_type": "display_data"
    }
   ],
   "source": [
    "%%R\n",
    "dftbDisG1[1:10,]"
   ]
  },
  {
   "cell_type": "markdown",
   "metadata": {},
   "source": [
    "As the BJ cells are from skin or foreskin tissue it is heaviliy involved with the regulation of cell-singalling process."
   ]
  },
  {
   "cell_type": "code",
   "execution_count": null,
   "metadata": {},
   "outputs": [],
   "source": []
  },
  {
   "cell_type": "code",
   "execution_count": null,
   "metadata": {},
   "outputs": [],
   "source": []
  },
  {
   "cell_type": "markdown",
   "metadata": {},
   "source": [
    "## Detecting motifs for cell-types (TF-1)\n",
    "Now, we identify the motifs associated with TF-1 cells."
   ]
  },
  {
   "cell_type": "markdown",
   "metadata": {},
   "source": [
    "Like before, we first identify the TF-1 cells and the cells that are not TF-1"
   ]
  },
  {
   "cell_type": "code",
   "execution_count": 247,
   "metadata": {},
   "outputs": [],
   "source": [
    "%%R\n",
    "c1CellName <- rownames(annotFilt[sub('-.*','',annotFilt$CellInfo) == 'TF1',])\n",
    "c2CellName <-  rownames(annotFilt[sub('-.*','',annotFilt$CellInfo) != 'TF1',])\n",
    "c1CountData <- cdFiltTop[,as.character(c1CellName)]\n",
    "colnames(c1CountData) <- paste0('C1_', colnames(c1CountData))\n",
    "c2CountData <- cdFiltTop[,as.character(c2CellName)]\n",
    "colnames(c2CountData) <- paste0('C2_', colnames(c2CountData))"
   ]
  },
  {
   "cell_type": "markdown",
   "metadata": {},
   "source": [
    "We prepare for the Differential Accessibility analysis"
   ]
  },
  {
   "cell_type": "code",
   "execution_count": 248,
   "metadata": {},
   "outputs": [
    {
     "data": {
      "text/plain": [
       "sg\n",
       " C1  C2 \n",
       " 64 676 \n"
      ]
     },
     "metadata": {},
     "output_type": "display_data"
    }
   ],
   "source": [
    "%%R\n",
    "CellCluster.Annot.counts <- cbind(cdFiltTop[,1:3], c1CountData ,c2CountData)\n",
    "rownames(CellCluster.Annot.counts) <- paste0(cdFiltTop[,1],'_',cdFiltTop[,2],'_',cdFiltTop[,3])\n",
    "sg <- factor(gsub(\"(C1|C2).*\", \"\\\\1\", colnames(CellCluster.Annot.counts[,4:dim(CellCluster.Annot.counts)[2]])), \n",
    "             levels = c(\"C1\", \"C2\"))\n",
    "# the group factor should be named accordingly\n",
    "names(sg) <- colnames(CellCluster.Annot.counts[,4:dim(CellCluster.Annot.counts)[2]]) \n",
    "table(sg)"
   ]
  },
  {
   "cell_type": "code",
   "execution_count": 249,
   "metadata": {},
   "outputs": [
    {
     "data": {
      "text/plain": [
       "Time difference of 2.164782 mins\n"
      ]
     },
     "metadata": {},
     "output_type": "display_data"
    }
   ],
   "source": [
    "%%R\n",
    "start.time <- Sys.time()\n",
    "diffRes <- getDiffAccessInformationGain(CellCluster.Annot.counts, groups=sg)\n",
    "end.time <- Sys.time()\n",
    "time.taken <- end.time - start.time\n",
    "time.taken"
   ]
  },
  {
   "cell_type": "markdown",
   "metadata": {},
   "source": [
    "We consider all the peaks that have an information gain of above 0.01 to be significant. So we extract those peaks."
   ]
  },
  {
   "cell_type": "code",
   "execution_count": 250,
   "metadata": {},
   "outputs": [
    {
     "data": {
      "text/plain": [
       "[1] 676   7\n"
      ]
     },
     "metadata": {},
     "output_type": "display_data"
    }
   ],
   "source": [
    "%%R\n",
    "significantDEpeaks <- diffRes\n",
    "significantDEpeaks <- significantDEpeaks[order(significantDEpeaks$information.gain, decreasing=TRUE),]\n",
    "significantDEpeaks <- significantDEpeaks[significantDEpeaks$information.gain>0.01,]\n",
    "rownames(significantDEpeaks) <- paste0(significantDEpeaks[,1],'_',significantDEpeaks[,2],'_',significantDEpeaks[,3])\n",
    "print(dim(significantDEpeaks))"
   ]
  },
  {
   "cell_type": "markdown",
   "metadata": {},
   "source": [
    "There are 676 peaks that are significantly differentially accessible in TF-1 cells compared with all other cells indicating that these can be marker peaks for these cells."
   ]
  },
  {
   "cell_type": "code",
   "execution_count": 251,
   "metadata": {},
   "outputs": [
    {
     "data": {
      "text/plain": [
       "                          Chr    Start      end information.gain rawMeanGroup1\n",
       "chr19_38754356_38756643 chr19 38754356 38756643       0.10894056      0.671875\n",
       "chr19_39182621_39184937 chr19 39182621 39184937       0.08839462      0.562500\n",
       "chr19_39164751_39168157 chr19 39164751 39168157       0.07570920      0.609375\n",
       "chr19_38809674_38812785 chr19 38809674 38812785       0.07362591      0.468750\n",
       "chr15_80852914_80853833 chr15 80852914 80853833       0.06927068      0.406250\n",
       "chr19_38510660_38511315 chr19 38510660 38511315       0.06891305      0.328125\n",
       "                        rawMeanGroup2 log2FoldChange\n",
       "chr19_38754356_38756643    0.03550296       4.242182\n",
       "chr19_39182621_39184937    0.02810651       4.322877\n",
       "chr19_39164751_39168157    0.06065089       3.328730\n",
       "chr19_38809674_38812785    0.02071006       4.500415\n",
       "chr15_80852914_80853833    0.01183432       5.101319\n",
       "chr19_38510660_38511315    0.00147929       7.793197\n"
      ]
     },
     "metadata": {},
     "output_type": "display_data"
    }
   ],
   "source": [
    "%%R\n",
    "head(significantDEpeaks)"
   ]
  },
  {
   "cell_type": "code",
   "execution_count": 252,
   "metadata": {},
   "outputs": [],
   "source": [
    "%%R\n",
    "sigTF1 <- significantDEpeaks"
   ]
  },
  {
   "cell_type": "code",
   "execution_count": 253,
   "metadata": {},
   "outputs": [
    {
     "data": {
      "text/plain": [
       "[1] 676   7\n"
      ]
     },
     "metadata": {},
     "output_type": "display_data"
    }
   ],
   "source": [
    "%%R\n",
    "dim(sigTF1)"
   ]
  },
  {
   "cell_type": "markdown",
   "metadata": {},
   "source": [
    "## Annotating peaks\n",
    "\n",
    "We annotate the these peaks. We use `marge`, an `R` package working as an API for `homer` to annotate the motifs associated with these peaks."
   ]
  },
  {
   "cell_type": "code",
   "execution_count": 254,
   "metadata": {},
   "outputs": [],
   "source": [
    "%%R\n",
    "dat <- as_tibble(sigTF1[, c(1:3)])"
   ]
  },
  {
   "cell_type": "markdown",
   "metadata": {},
   "source": [
    "### Find Motifs Across the Genome\n",
    "From the highly open regions we now find the enriched _de  novo_ and/or _known motifs_ via the `find_motifs_genome()`\n",
    "function. This function makes a connection to the HOMER utility `findMotifsGenome.pl`. A de novo and known motifs enrichment analysis is run on the test regions loaded prior, and writes results to the designated path directory. "
   ]
  },
  {
   "cell_type": "code",
   "execution_count": 255,
   "metadata": {},
   "outputs": [],
   "source": [
    "%%R\n",
    "## Create a temporary directory to write results\n",
    "## This directory is erased once R session is closed\n",
    "#results_dir <-tempfile(pattern ='test-dir_')\n",
    "results_dir <- '/home/mqbsxsm2/Rna-seq_Data-Analysis/ScAsAT_notebooks_Updated/HOMER_results/TF1'"
   ]
  },
  {
   "cell_type": "code",
   "execution_count": 256,
   "metadata": {},
   "outputs": [],
   "source": [
    "%%R\n",
    "find_motifs_genome(dat,path = results_dir, genome ='hg38', overwrite = TRUE)"
   ]
  },
  {
   "cell_type": "markdown",
   "metadata": {},
   "source": [
    "### Load Denovo and Known Motif Enrichment Results\n",
    "By default `HOMER` produces two distinct files for _de novo_ and _known motif_ enrichments within the results\n",
    "directory, in `homerMotifs.all.motif` and `knownResults.txt` file respectively. In `marger`, these results can be\n",
    "read in using the respective `read_*_results()` functions, where * is either denovo or known."
   ]
  },
  {
   "cell_type": "code",
   "execution_count": 257,
   "metadata": {},
   "outputs": [],
   "source": [
    "%%R\n",
    "known  <- read_known_results(path = '/home/mqbsxsm2/Rna-seq_Data-Analysis/ScAsAT_notebooks_Updated/HOMER_results/TF1/knownResults.txt'\n",
    "                             , homer_dir = FALSE)\n",
    "#denovo <- read_denovo_results(path = results_dir, homer_dir = TRUE)"
   ]
  },
  {
   "cell_type": "code",
   "execution_count": 258,
   "metadata": {},
   "outputs": [
    {
     "data": {
      "text/plain": [
       "\u001b[90m# A tibble: 363 x 14\u001b[39m\n",
       "   motif_name motif_family  experiment accession database consensus log_p_value\n",
       "   \u001b[3m\u001b[90m<chr>\u001b[39m\u001b[23m      \u001b[3m\u001b[90m<chr>\u001b[39m\u001b[23m         \u001b[3m\u001b[90m<chr>\u001b[39m\u001b[23m      \u001b[3m\u001b[90m<chr>\u001b[39m\u001b[23m     \u001b[3m\u001b[90m<chr>\u001b[39m\u001b[23m    \u001b[3m\u001b[90m<chr>\u001b[39m\u001b[23m           \u001b[3m\u001b[90m<dbl>\u001b[39m\u001b[23m\n",
       "\u001b[90m 1\u001b[39m Mef2c      MADS          GM12878-M… GSE32465  Homer    DCYAAAAA…           2\n",
       "\u001b[90m 2\u001b[39m Fox:Ebox   Forkhead,bHLH Panc1-Fox… GSE47459  Homer    NNNVCTGW…           2\n",
       "\u001b[90m 3\u001b[39m ZNF519     Zf            HEK293-ZN… GSE58341  Homer    GAGSCCGA…           1\n",
       "\u001b[90m 4\u001b[39m Foxo1      Forkhead      RAW-Foxo1… Fan_et_a… Homer    CTGTTTAC            1\n",
       "\u001b[90m 5\u001b[39m Nr5a2      NR            Pancreas-… GSE34295  Homer    BTCAAGGT…           1\n",
       "\u001b[90m 6\u001b[39m ERE        NR,IR3        MCF7-ERa-… Unpublis… Homer    VAGGTCAC…           1\n",
       "\u001b[90m 7\u001b[39m Oct4:Sox17 POU,Homeobox… F9-Sox17-… GSE44553  Homer    CCATTGTA…           1\n",
       "\u001b[90m 8\u001b[39m PGR        NR            EndoStrom… GSE69539  Homer    AAGAACAT…           1\n",
       "\u001b[90m 9\u001b[39m Oct2       POU,Homeobox  Bcell-Oct… GSE21512  Homer    ATATGCAA…           1\n",
       "\u001b[90m10\u001b[39m TEAD4      TEA           Tropoblas… GSE37350  Homer    CCWGGAAT…           1\n",
       "\u001b[90m# ... with 353 more rows, and 7 more variables: fdr \u001b[3m\u001b[90m<dbl>\u001b[90m\u001b[23m, tgt_num \u001b[3m\u001b[90m<dbl>\u001b[90m\u001b[23m,\n",
       "#   tgt_pct \u001b[3m\u001b[90m<dbl>\u001b[90m\u001b[23m, bgd_num \u001b[3m\u001b[90m<dbl>\u001b[90m\u001b[23m, bgd_pct \u001b[3m\u001b[90m<dbl>\u001b[90m\u001b[23m, motif_pwm \u001b[3m\u001b[90m<list>\u001b[90m\u001b[23m,\n",
       "#   log_odds_detection \u001b[3m\u001b[90m<dbl>\u001b[90m\u001b[23m\u001b[39m\n"
      ]
     },
     "metadata": {},
     "output_type": "display_data"
    }
   ],
   "source": [
    "%%R\n",
    "known"
   ]
  },
  {
   "cell_type": "code",
   "execution_count": 259,
   "metadata": {},
   "outputs": [],
   "source": [
    "%%R\n",
    "write.csv(known[[1]], 'TF1_motifs.csv')"
   ]
  },
  {
   "cell_type": "code",
   "execution_count": null,
   "metadata": {},
   "outputs": [],
   "source": []
  },
  {
   "cell_type": "markdown",
   "metadata": {},
   "source": [
    "## Disease Ontology analysis\n",
    "\n",
    "We now do a disease ontology analysis associated with the TF1 significant peaks."
   ]
  },
  {
   "cell_type": "code",
   "execution_count": 260,
   "metadata": {},
   "outputs": [],
   "source": [
    "%%R\n",
    "sigTF1Sel <- sigTF1[sigTF1$log2FoldChange>2,]"
   ]
  },
  {
   "cell_type": "code",
   "execution_count": 261,
   "metadata": {},
   "outputs": [],
   "source": [
    "%%R\n",
    "bedg1 = sigTF1Sel\n",
    "jobg1 = submitGreatJob(bedg1, version = \"3.0\", species='hg19')"
   ]
  },
  {
   "cell_type": "code",
   "execution_count": 264,
   "metadata": {},
   "outputs": [],
   "source": [
    "%%R\n",
    "tbDisG1 = getEnrichmentTables(jobg1, ontolog=\"GO Biological Process\")\n",
    "dftbDisG1 = data.frame(Name = tbDisG1[[1]][,2], Binom_p=-log10(tbDisG1[[1]][,8]))"
   ]
  },
  {
   "cell_type": "code",
   "execution_count": 265,
   "metadata": {},
   "outputs": [
    {
     "data": {
      "text/plain": [
       "                                                          Name   Binom_p\n",
       "1                                    regulation of endocytosis 10.463048\n",
       "2                           positive regulation of pinocytosis  8.882493\n",
       "3                                    regulation of pinocytosis  8.705260\n",
       "4   positive regulation of sodium:hydrogen antiporter activity  7.031639\n",
       "5            regulation of sodium:hydrogen antiporter activity  6.345670\n",
       "6                                          response to hypoxia  6.231737\n",
       "7  negative regulation of calcium-dependent cell-cell adhesion  6.205563\n",
       "8                          response to decreased oxygen levels  6.053775\n",
       "9                     regulation of vesicle-mediated transport  5.921590\n",
       "10                                   response to oxygen levels  5.590102\n"
      ]
     },
     "metadata": {},
     "output_type": "display_data"
    }
   ],
   "source": [
    "%%R\n",
    "dftbDisG1[1:10,]"
   ]
  },
  {
   "cell_type": "markdown",
   "metadata": {},
   "source": []
  },
  {
   "cell_type": "code",
   "execution_count": null,
   "metadata": {},
   "outputs": [],
   "source": []
  },
  {
   "cell_type": "code",
   "execution_count": null,
   "metadata": {},
   "outputs": [],
   "source": []
  },
  {
   "cell_type": "code",
   "execution_count": null,
   "metadata": {},
   "outputs": [],
   "source": []
  },
  {
   "cell_type": "markdown",
   "metadata": {},
   "source": [
    "## Detecting motifs for cell-types (HL60)\n",
    "Now, we identify the motifs associated with HL60 cells."
   ]
  },
  {
   "cell_type": "markdown",
   "metadata": {},
   "source": [
    "Again we first identify the HL60 cells and the cells that are not HL60"
   ]
  },
  {
   "cell_type": "code",
   "execution_count": 266,
   "metadata": {},
   "outputs": [],
   "source": [
    "%%R\n",
    "c1CellName <- rownames(annotFilt[sub('-.*','',annotFilt$CellInfo) == 'HL60',])\n",
    "c2CellName <-  rownames(annotFilt[sub('-.*','',annotFilt$CellInfo) != 'HL60',])\n",
    "c1CountData <- cdFiltTop[,as.character(c1CellName)]\n",
    "colnames(c1CountData) <- paste0('C1_', colnames(c1CountData))\n",
    "c2CountData <- cdFiltTop[,as.character(c2CellName)]\n",
    "colnames(c2CountData) <- paste0('C2_', colnames(c2CountData))"
   ]
  },
  {
   "cell_type": "markdown",
   "metadata": {},
   "source": [
    "We prepare for the Differential Accessibility analysis"
   ]
  },
  {
   "cell_type": "code",
   "execution_count": 267,
   "metadata": {},
   "outputs": [
    {
     "data": {
      "text/plain": [
       "sg\n",
       " C1  C2 \n",
       " 92 648 \n"
      ]
     },
     "metadata": {},
     "output_type": "display_data"
    }
   ],
   "source": [
    "%%R\n",
    "CellCluster.Annot.counts <- cbind(cdFiltTop[,1:3], c1CountData ,c2CountData)\n",
    "rownames(CellCluster.Annot.counts) <- paste0(cdFiltTop[,1],'_',cdFiltTop[,2],'_',cdFiltTop[,3])\n",
    "sg <- factor(gsub(\"(C1|C2).*\", \"\\\\1\", colnames(CellCluster.Annot.counts[,4:dim(CellCluster.Annot.counts)[2]])), \n",
    "             levels = c(\"C1\", \"C2\"))\n",
    "# the group factor should be named accordingly\n",
    "names(sg) <- colnames(CellCluster.Annot.counts[,4:dim(CellCluster.Annot.counts)[2]]) \n",
    "table(sg)"
   ]
  },
  {
   "cell_type": "code",
   "execution_count": 268,
   "metadata": {},
   "outputs": [
    {
     "data": {
      "text/plain": [
       "Time difference of 2.124501 mins\n"
      ]
     },
     "metadata": {},
     "output_type": "display_data"
    }
   ],
   "source": [
    "%%R\n",
    "start.time <- Sys.time()\n",
    "diffRes <- getDiffAccessInformationGain(CellCluster.Annot.counts, groups=sg)\n",
    "end.time <- Sys.time()\n",
    "time.taken <- end.time - start.time\n",
    "time.taken"
   ]
  },
  {
   "cell_type": "markdown",
   "metadata": {},
   "source": [
    "We consider all the peaks that have an information gain of above 0.01 to be significant. So we extract those peaks."
   ]
  },
  {
   "cell_type": "code",
   "execution_count": 269,
   "metadata": {},
   "outputs": [
    {
     "data": {
      "text/plain": [
       "[1] 562   7\n"
      ]
     },
     "metadata": {},
     "output_type": "display_data"
    }
   ],
   "source": [
    "%%R\n",
    "significantDEpeaks <- diffRes\n",
    "significantDEpeaks <- significantDEpeaks[order(significantDEpeaks$information.gain, decreasing=TRUE),]\n",
    "significantDEpeaks <- significantDEpeaks[significantDEpeaks$information.gain>0.01,]\n",
    "rownames(significantDEpeaks) <- paste0(significantDEpeaks[,1],'_',significantDEpeaks[,2],'_',significantDEpeaks[,3])\n",
    "print(dim(significantDEpeaks))"
   ]
  },
  {
   "cell_type": "markdown",
   "metadata": {},
   "source": [
    "There are 562 peaks that are significantly differentially accessible in HL60 cells compared with all other cells indicating that these can be marker peaks for these cells."
   ]
  },
  {
   "cell_type": "code",
   "execution_count": 270,
   "metadata": {},
   "outputs": [
    {
     "data": {
      "text/plain": [
       "                          Chr     Start       end information.gain\n",
       "chr8_130677121_130679694 chr8 130677121 130679694       0.08531696\n",
       "chr8_130566009_130568572 chr8 130566009 130568572       0.07303881\n",
       "chr8_126517715_126520158 chr8 126517715 126520158       0.06547579\n",
       "chr8_130558448_130561453 chr8 130558448 130561453       0.06025955\n",
       "chr8_126524439_126527264 chr8 126524439 126527264       0.05439976\n",
       "chr8_126440866_126448872 chr8 126440866 126448872       0.05033241\n",
       "                         rawMeanGroup1 rawMeanGroup2 log2FoldChange\n",
       "chr8_130677121_130679694     0.3260870   0.001543210       7.723179\n",
       "chr8_130566009_130568572     0.3369565   0.009259259       5.185522\n",
       "chr8_126517715_126520158     0.3695652   0.023148148       3.996860\n",
       "chr8_130558448_130561453     0.3804348   0.032407407       3.553254\n",
       "chr8_126524439_126527264     0.3369565   0.026234568       3.683022\n",
       "chr8_126440866_126448872     0.7934783   0.324074074       1.291867\n"
      ]
     },
     "metadata": {},
     "output_type": "display_data"
    }
   ],
   "source": [
    "%%R\n",
    "head(significantDEpeaks)"
   ]
  },
  {
   "cell_type": "code",
   "execution_count": 271,
   "metadata": {},
   "outputs": [],
   "source": [
    "%%R\n",
    "sigHL60 <- significantDEpeaks"
   ]
  },
  {
   "cell_type": "code",
   "execution_count": 272,
   "metadata": {},
   "outputs": [
    {
     "data": {
      "text/plain": [
       "[1] 562   7\n"
      ]
     },
     "metadata": {},
     "output_type": "display_data"
    }
   ],
   "source": [
    "%%R\n",
    "dim(sigHL60)"
   ]
  },
  {
   "cell_type": "markdown",
   "metadata": {},
   "source": [
    "## Annotating peaks\n",
    "\n",
    "We annotate the these peaks. We use `marge`, an `R` package working as an API for `homer` to annotate the motifs associated with these peaks."
   ]
  },
  {
   "cell_type": "code",
   "execution_count": 273,
   "metadata": {},
   "outputs": [],
   "source": [
    "%%R\n",
    "dat <- as_tibble(sigHL60[, c(1:3)])"
   ]
  },
  {
   "cell_type": "markdown",
   "metadata": {},
   "source": [
    "### Find Motifs Across the Genome\n",
    "From the highly open regions we now find the enriched _de  novo_ and/or _known motifs_ via the `find_motifs_genome()`\n",
    "function. This function makes a connection to the HOMER utility `findMotifsGenome.pl`. A de novo and known motifs enrichment analysis is run on the test regions loaded prior, and writes results to the designated path directory. "
   ]
  },
  {
   "cell_type": "code",
   "execution_count": 274,
   "metadata": {},
   "outputs": [],
   "source": [
    "%%R\n",
    "## Create a temporary directory to write results\n",
    "## This directory is erased once R session is closed\n",
    "#results_dir <-tempfile(pattern ='test-dir_')\n",
    "results_dir <- '/home/mqbsxsm2/Rna-seq_Data-Analysis/ScAsAT_notebooks_Updated/HOMER_results/HL60'"
   ]
  },
  {
   "cell_type": "code",
   "execution_count": 275,
   "metadata": {},
   "outputs": [],
   "source": [
    "%%R\n",
    "find_motifs_genome(dat,path = results_dir, genome ='hg38', overwrite = TRUE)"
   ]
  },
  {
   "cell_type": "markdown",
   "metadata": {},
   "source": [
    "### Load Denovo and Known Motif Enrichment Results\n",
    "By default `HOMER` produces two distinct files for _de novo_ and _known motif_ enrichments within the results\n",
    "directory, in `homerMotifs.all.motif` and `knownResults.txt` file respectively. In `marger`, these results can be\n",
    "read in using the respective `read_*_results()` functions, where * is either denovo or known."
   ]
  },
  {
   "cell_type": "code",
   "execution_count": 276,
   "metadata": {},
   "outputs": [],
   "source": [
    "%%R\n",
    "known  <- read_known_results(path = '/home/mqbsxsm2/Rna-seq_Data-Analysis/ScAsAT_notebooks_Updated/HOMER_results/HL60/knownResults.txt'\n",
    "                             , homer_dir = FALSE)\n",
    "#denovo <- read_denovo_results(path = results_dir, homer_dir = TRUE)"
   ]
  },
  {
   "cell_type": "code",
   "execution_count": 277,
   "metadata": {},
   "outputs": [
    {
     "data": {
      "text/plain": [
       "\u001b[90m# A tibble: 363 x 14\u001b[39m\n",
       "   motif_name motif_family experiment  accession database consensus log_p_value\n",
       "   \u001b[3m\u001b[90m<chr>\u001b[39m\u001b[23m      \u001b[3m\u001b[90m<chr>\u001b[39m\u001b[23m        \u001b[3m\u001b[90m<chr>\u001b[39m\u001b[23m       \u001b[3m\u001b[90m<chr>\u001b[39m\u001b[23m     \u001b[3m\u001b[90m<chr>\u001b[39m\u001b[23m    \u001b[3m\u001b[90m<chr>\u001b[39m\u001b[23m           \u001b[3m\u001b[90m<dbl>\u001b[39m\u001b[23m\n",
       "\u001b[90m 1\u001b[39m CLOCK      bHLH         Liver-Cloc… GSE39860  Homer    GHCACGTG            2\n",
       "\u001b[90m 2\u001b[39m STAT6      Stat         Macrophage… GSE38377  Homer    TTCCKNAG…           1\n",
       "\u001b[90m 3\u001b[39m Sp1        Zf           Promoter    \u001b[31mNA\u001b[39m        Homer    GGCCCCGC…           1\n",
       "\u001b[90m 4\u001b[39m E2F4       E2F          K562-E2F4-… GSE31477  Homer    GGCGGGAA…           1\n",
       "\u001b[90m 5\u001b[39m ISRE       IRF          ThioMac-LP… GSE23622  Homer    AGTTTCAS…           1\n",
       "\u001b[90m 6\u001b[39m c-Myc      bHLH         LNCAP-cMyc… Unpublis… Homer    VCCACGTG            1\n",
       "\u001b[90m 7\u001b[39m Olig2      bHLH         Neuron-Oli… GSE30882  Homer    RCCATMTG…           1\n",
       "\u001b[90m 8\u001b[39m Tbet       T-box        CD8-Tbet-C… GSE33802  Homer    AGGTGTGA…           1\n",
       "\u001b[90m 9\u001b[39m IRF1       IRF          PBMC-IRF1-… GSE43036  Homer    GAAAGTGA…           1\n",
       "\u001b[90m10\u001b[39m FOXM1      Forkhead     MCF7-FOXM1… GSE72977  Homer    TRTTTACT…           1\n",
       "\u001b[90m# ... with 353 more rows, and 7 more variables: fdr \u001b[3m\u001b[90m<dbl>\u001b[90m\u001b[23m, tgt_num \u001b[3m\u001b[90m<dbl>\u001b[90m\u001b[23m,\n",
       "#   tgt_pct \u001b[3m\u001b[90m<dbl>\u001b[90m\u001b[23m, bgd_num \u001b[3m\u001b[90m<dbl>\u001b[90m\u001b[23m, bgd_pct \u001b[3m\u001b[90m<dbl>\u001b[90m\u001b[23m, motif_pwm \u001b[3m\u001b[90m<list>\u001b[90m\u001b[23m,\n",
       "#   log_odds_detection \u001b[3m\u001b[90m<dbl>\u001b[90m\u001b[23m\u001b[39m\n"
      ]
     },
     "metadata": {},
     "output_type": "display_data"
    }
   ],
   "source": [
    "%%R\n",
    "known"
   ]
  },
  {
   "cell_type": "code",
   "execution_count": 74,
   "metadata": {},
   "outputs": [],
   "source": [
    "%%R\n",
    "write.csv(known[[1]], 'HL60_motifs.csv')"
   ]
  },
  {
   "cell_type": "code",
   "execution_count": null,
   "metadata": {},
   "outputs": [],
   "source": []
  },
  {
   "cell_type": "markdown",
   "metadata": {},
   "source": [
    "## Biological process analysis\n",
    "\n",
    "We now do a biological proces analysis associated with the BJ significant peaks."
   ]
  },
  {
   "cell_type": "code",
   "execution_count": 278,
   "metadata": {},
   "outputs": [],
   "source": [
    "%%R\n",
    "sigHL60Sel <- sigHL60[sigHL60$log2FoldChange>2,]"
   ]
  },
  {
   "cell_type": "code",
   "execution_count": 279,
   "metadata": {},
   "outputs": [],
   "source": [
    "%%R\n",
    "bedg1 = sigHL60Sel\n",
    "jobg1 = submitGreatJob(bedg1, version = \"3.0\", species='hg19')"
   ]
  },
  {
   "cell_type": "code",
   "execution_count": 213,
   "metadata": {},
   "outputs": [],
   "source": [
    "%%R\n",
    "tbDisG1 = getEnrichmentTables(jobg1, ontolog=\"GO Biological Process\")\n",
    "dftbDisG1 = data.frame(Name = tbDisG1[[1]][,2], Binom_p=-log10(tbDisG1[[1]][,8]))"
   ]
  },
  {
   "cell_type": "code",
   "execution_count": 214,
   "metadata": {},
   "outputs": [
    {
     "data": {
      "text/plain": [
       "                                        Name  Binom_p\n",
       "1  negative regulation of biological process 16.36668\n",
       "2          regulation of signal transduction 16.31961\n",
       "3           regulation of cell communication 16.16977\n",
       "4                    regulation of signaling 15.88796\n",
       "5        regulation of programmed cell death 15.63753\n",
       "6            regulation of apoptotic process 15.63339\n",
       "7    negative regulation of cellular process 15.26132\n",
       "8                         response to stress 15.14043\n",
       "9                   regulation of cell death 14.54183\n",
       "10                      response to wounding 14.39194\n"
      ]
     },
     "metadata": {},
     "output_type": "display_data"
    }
   ],
   "source": [
    "%%R\n",
    "dftbDisG1[1:10,]"
   ]
  },
  {
   "cell_type": "markdown",
   "metadata": {},
   "source": [
    "As the BJ cells are from skin or foreskin tissue it is heaviliy involved with the regulation of cell-singalling process."
   ]
  },
  {
   "cell_type": "code",
   "execution_count": null,
   "metadata": {},
   "outputs": [],
   "source": []
  },
  {
   "cell_type": "code",
   "execution_count": null,
   "metadata": {},
   "outputs": [],
   "source": []
  },
  {
   "cell_type": "code",
   "execution_count": null,
   "metadata": {},
   "outputs": [],
   "source": []
  },
  {
   "cell_type": "code",
   "execution_count": null,
   "metadata": {},
   "outputs": [],
   "source": []
  },
  {
   "cell_type": "code",
   "execution_count": null,
   "metadata": {},
   "outputs": [],
   "source": []
  },
  {
   "cell_type": "code",
   "execution_count": null,
   "metadata": {},
   "outputs": [],
   "source": []
  },
  {
   "cell_type": "code",
   "execution_count": null,
   "metadata": {
    "collapsed": true
   },
   "outputs": [],
   "source": []
  }
 ],
 "metadata": {
  "anaconda-cloud": {},
  "kernelspec": {
   "display_name": "Python 3",
   "language": "python",
   "name": "python3"
  },
  "language_info": {
   "codemirror_mode": {
    "name": "ipython",
    "version": 3
   },
   "file_extension": ".py",
   "mimetype": "text/x-python",
   "name": "python",
   "nbconvert_exporter": "python",
   "pygments_lexer": "ipython3",
   "version": "3.6.5"
  }
 },
 "nbformat": 4,
 "nbformat_minor": 1
}
