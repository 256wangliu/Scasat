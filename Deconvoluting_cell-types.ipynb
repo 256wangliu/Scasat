{
 "cells": [
  {
   "cell_type": "markdown",
   "metadata": {},
   "source": [
    "# Scasat to deconvolute cell-type\n",
    "\n",
    "__Prerequisites:__\n",
    "\n",
    "In order to use Scasat, you have to have the following tools installed in the machine where you are running Scasat\n",
    "1. [samtools](http://www.htslib.org)\n",
    "2. [bedtools](http://bedtools.readthedocs.io/en/latest/)\n",
    "3. [macs2](https://github.com/taoliu/MACS)\n",
    "\n",
    "If you are using jupyter from anaconda installation then you can install the tools with the following command\n",
    "* samtools: conda install -c bioconda samtools\n",
    "* bedtools: conda install -c bioconda bedtools \n",
    "* macs2: conda install -c bioconda macs2 (please note that macs2 only runs on python2.7 so you have to create a python2.7 environment if you are using python3\n",
    "\n",
    "This jupyter notebook introduces __S__ingle-__c__ell __A__TAC-seq __A__nalysis __T__ool (Scasat) to deconvolute three cell types from a complex cell mixture. Scasat analyses single cell ATAC-seq data to identify regulatory regions that separates cells from a complex population. This notebook is the tool mentioned in [___Murtuza Baker et. al.___]()\n",
    "\n",
    "__Experimental design:__\n",
    "\n",
    "Two classic oesophageal adenocarcinoma (OAC) cell lines, OE19, OE33 and one non-neoplastic HET1A cell line were mixed together to create the complex mixture of population. These three cell lines were mixed at equal proportion to create this mixture. Single cell ATAC-seq was then performed on those two replicates by loading on two separate C1 fluidigm chips using a $96$ well plate integrated fluidic circuit (IFC) and sequenced on an Illumina NextSeq. This experimental figure is shown in the figure below\n",
    "\n",
    "<img src=\"ExperimentalDesign.png\" alt=\"Experimental Desing\" style=\"width: 500px;\"/>\n",
    "\n",
    "\n",
    "__Objective:__\n",
    "\n",
    "* Establish single cell ATAC-seq pipeline.\n",
    "* Identify the three different cells from the complex mixture\n",
    "\n"
   ]
  },
  {
   "cell_type": "markdown",
   "metadata": {},
   "source": [
    "### Import python packages\n",
    "\n",
    "We import the python packages."
   ]
  },
  {
   "cell_type": "code",
   "execution_count": 1,
   "metadata": {},
   "outputs": [],
   "source": [
    "import subprocess, os, csv, signal, rpy2\n",
    "import numpy as np\n",
    "import readline\n",
    "import rpy2.robjects\n",
    "import matplotlib.pyplot as plt\n",
    "import csv\n",
    "from operator import itemgetter\n",
    "%matplotlib inline"
   ]
  },
  {
   "cell_type": "markdown",
   "metadata": {},
   "source": [
    "This code toggles between showing/hiding the codes. The outputs and the discussions would always be visible."
   ]
  },
  {
   "cell_type": "code",
   "execution_count": 2,
   "metadata": {},
   "outputs": [
    {
     "data": {
      "text/html": [
       "<script>\n",
       "code_show=true;\n",
       "function code_toggle() {\n",
       " if (code_show){\n",
       " $('div.input').hide();\n",
       " } else {\n",
       " $('div.input').show();\n",
       " }\n",
       " code_show = !code_show\n",
       "}\n",
       "$( document ).ready(code_toggle);\n",
       "</script>\n",
       "<form action=\"javascript:code_toggle()\"><input type=\"submit\" value=\"Click here to toggle on/off the raw code.\"></form>"
      ],
      "text/plain": [
       "<IPython.core.display.HTML object>"
      ]
     },
     "execution_count": 2,
     "metadata": {},
     "output_type": "execute_result"
    }
   ],
   "source": [
    "from IPython.display import HTML\n",
    "\n",
    "HTML('''<script>\n",
    "code_show=true;\n",
    "function code_toggle() {\n",
    " if (code_show){\n",
    " $('div.input').hide();\n",
    " } else {\n",
    " $('div.input').show();\n",
    " }\n",
    " code_show = !code_show\n",
    "}\n",
    "$( document ).ready(code_toggle);\n",
    "</script>\n",
    "<form action=\"javascript:code_toggle()\"><input type=\"submit\" value=\"Click here to toggle on/off the raw code.\"></form>''')\n",
    "\n"
   ]
  },
  {
   "cell_type": "markdown",
   "metadata": {},
   "source": [
    "rpy2 package provides a simple and robust access to `R` from within `Python`. The following cells loads the package to run `R` code within `Python` notebook. To write and execute `R` code we will use the magic command `%%R` at the top of the cell. "
   ]
  },
  {
   "cell_type": "code",
   "execution_count": 2,
   "metadata": {},
   "outputs": [],
   "source": [
    "%load_ext rpy2.ipython"
   ]
  },
  {
   "cell_type": "markdown",
   "metadata": {},
   "source": [
    "## Python Functions\n",
    "\n",
    "Below we define the python functions for Scasat. One of the advantage of Scasat is the use of both python and R programming language. We use python for file processing and R for doing the data analysis."
   ]
  },
  {
   "cell_type": "code",
   "execution_count": 3,
   "metadata": {},
   "outputs": [],
   "source": [
    "def formatSummitBed(summitFile, fileToSave):\n",
    "#fileToSave = 'location_toSave/AllFiles_Filtered_summits_shifted.bed' \n",
    "#peakFile = 'location_PeakFile/AllFiles_Filtered_summits.bed'\n",
    "\n",
    "    with open(summitFile,'r') as f:\n",
    "        peaks=[x.strip().split('\\t') for x in f]\n",
    "    for i in range(len(peaks)):\n",
    "        peaks[i][1] = str(int(peaks[i][1]) - 250)\n",
    "        peaks[i][2] = str(int(peaks[i][2]) + 250)\n",
    "\n",
    "    peaks.sort(key=lambda x: float(x[4]), reverse=True)\n",
    "\n",
    "    with open(fileToSave, \"w\") as f:\n",
    "        writer = csv.writer(f,delimiter='\\t')\n",
    "        writer.writerows(peaks)"
   ]
  },
  {
   "cell_type": "markdown",
   "metadata": {},
   "source": [
    "`formatSummitBed()`: \n",
    "> This functions formats the summit file by adding 500 bp distance from the summit position.\n",
    "\n",
    "Arguments:\n",
    "> `summitFile` : The name of the summit file. This has to be the file that is generated from the aggreagated `BAM` file<br>\n",
    "> `fileToSave`: The name of the file where the save the peak file with the 500 bp peaks.\n",
    "\n",
    "Value:\n",
    "> File with 500 bp peaks."
   ]
  },
  {
   "cell_type": "code",
   "execution_count": 4,
   "metadata": {},
   "outputs": [],
   "source": [
    "def getMergedBam(BAMFolder, BAMFilePattern):\n",
    "    \n",
    "    import pandas as pd\n",
    "    \n",
    "        \n",
    "    mergeFiles = ''\n",
    "    for root, folder, files in os.walk(BAMFolder):\n",
    "            files = [os.path.join(root, f) for f in files if (f.endswith(BAMFilePattern))]\n",
    "            for f in files:\n",
    "                mergeFiles = mergeFiles +  f + ' '\n",
    "    \n",
    "        \n",
    "    mergeCommand = 'samtools merge ' + BAMFolder + 'AllFiles_Filtered_Merged_nodup.bam' + ' ' + mergeFiles    \n",
    "    subprocess.call(mergeCommand, shell=True)   \n",
    "    \n",
    "    indexMergeCmd = 'samtools index ' + BAMFolder + 'AllFiles_Filtered_Merged_nodup.bam'\n",
    "    subprocess.call(indexMergeCmd, shell=True)\n",
    "    \n",
    "    cleanCommand = 'samtools view -b ' + BAMFolder + 'AllFiles_Filtered_Merged_nodup.bam' + ' ' \\\n",
    "                    + 'chr1 chr2 chr3 chr4 chr5 chr6 chr7 chr8 chr9 chr10 chr11 chr12 chr13 chr14' \\\n",
    "                    + ' chr15 chr16 chr17 chr18 chr19 chr20 chr21 chr22 chrX  > ' \\\n",
    "                    + BAMFolder + 'AllFiles_Filtered_Merged_nodup_cleaned.bam'\n",
    "    subprocess.call(cleanCommand, shell=True)            \n",
    "   \n",
    "    sortMergeCmd = 'samtools sort ' + BAMFolder + 'AllFiles_Filtered_Merged_nodup_cleaned.bam' \\\n",
    "                    + '>' + BAMFolder + 'AllFiles_Filtered_Merged_nodup_cleaned_sorted.bam'        \n",
    "    subprocess.call(sortMergeCmd, shell=True)\n",
    "    \n",
    "    indexMergeCmd = 'samtools index ' + BAMFolder + 'AllFiles_Filtered_Merged_nodup_cleaned_sorted.bam'\n",
    "    subprocess.call(indexMergeCmd, shell=True) "
   ]
  },
  {
   "cell_type": "markdown",
   "metadata": {},
   "source": [
    "`getMergedBam()`:\n",
    "> merges all the individual `BAM` files for each of the cells and creates `AllFiles_Filtered_Merged_nodup.bam` file. This file is then sorted and indexed.\n",
    "\n",
    "Arguements:\n",
    "> `BAMFolder`: Location of the folder where all the BAM files for each of the single-cells are. <br>\n",
    "> `BAMFilePattern` : The end pattern of the `BAM` files to be merged.\n",
    "\n",
    "Value:\n",
    "> The merged `BAM` file `AllFiles_Filtered_Merged_nodup_sorted.bam`. "
   ]
  },
  {
   "cell_type": "code",
   "execution_count": 5,
   "metadata": {},
   "outputs": [],
   "source": [
    "def getAggregatedPeak(BAMFolder, BAMFilePattern):\n",
    "    getMergedBam(BAMFolder, BAMFilePattern)\n",
    "    \n",
    "    MergedMacs2Cmd = 'source activate python2; /home/mqbsxsm2/anaconda3/envs/python2/bin/macs2 callpeak -t ' + BAMFolder + 'AllFiles_Filtered_Merged_nodup_cleaned_sorted.bam' +' -n ' \\\n",
    "                    + BAMFolder + 'AllFiles_Filtered' +' -q 0.2 -g hs -f BAMPE --nomodel --nolambda \\\n",
    "                    -B --call-summits --keep-dup all; source deactivate python2'\n",
    "    subprocess.call(MergedMacs2Cmd, shell=True)\n",
    "    \n",
    "    narrowPeakFile = BAMFolder + 'AllFiles_Filtered_peaks.narrowPeak'\n",
    "    mergedPeakFile = BAMFolder + 'mergedPeaks.bed'\n",
    "    tmpPeakFile = BAMFolder + 'tmpPeak.txt'\n",
    "    \n",
    "    \n",
    "    with open(narrowPeakFile,'r') as f:\n",
    "        peaks=[x.strip().split('\\t') for x in f]\n",
    "    peaks.sort(key=lambda x: float(x[8]), reverse=True)\n",
    "    \n",
    "    \n",
    "    peaksToWrite = list()\n",
    "    for i in range(len(peaks)):\n",
    "        peaksToWrite.insert(i, peaks[i][0:4])\n",
    "        peaksToWrite[i].append(peaks[i][8])      \n",
    "    \n",
    "    \n",
    "    with open(mergedPeakFile, \"w\") as f:\n",
    "        writer = csv.writer(f,delimiter='\\t')        \n",
    "        writer.writerows(peaksToWrite)        \n",
    "        \n",
    "    sortCmd = 'sort -k1,1 -k2,2n ' + mergedPeakFile + ' > ' + tmpPeakFile  \n",
    "    subprocess.call(sortCmd, shell=True)\n",
    "    \n",
    "    bedToolsCmd ='bedtools merge -i ' + tmpPeakFile + ' -c 5 -o last > ' + mergedPeakFile\n",
    "    subprocess.call(bedToolsCmd, shell=True)\n",
    "    \n",
    "    sortCmd = 'sort -nrk4 ' + mergedPeakFile + ' > ' + tmpPeakFile  \n",
    "    subprocess.call(sortCmd, shell=True)    \n",
    "    \n",
    "    copyCmd = 'cat ' + tmpPeakFile + ' > ' + mergedPeakFile\n",
    "    subprocess.call(copyCmd, shell=True)    "
   ]
  },
  {
   "cell_type": "markdown",
   "metadata": {},
   "source": [
    "`getAggregatedPeak()`:\n",
    "> This function calls `MACS2` on the aggregated `BAM` file and generates the peaks. If the user is following the merging BAM option then this is the function they need to call. Then the `getMergedBam()` is called within this function\n",
    "\n",
    "Arguements:\n",
    "> `BAMFolder`: Location of the folder where all the BAM files for each of the single-cells are. <br>\n",
    "> `BAMFilePattern` : The end pattern of the `BAM` files to be merged.\n",
    "\n",
    "Value:\n",
    "> Peak files from MACS2 call."
   ]
  },
  {
   "cell_type": "code",
   "execution_count": 6,
   "metadata": {},
   "outputs": [],
   "source": [
    "def getAggregatedPeakSE(BAMFolder, BAMFilePattern):\n",
    "    getMergedBam(BAMFolder, BAMFilePattern)\n",
    "    \n",
    "    MergedMacs2Cmd = 'source activate python2; /home/mqbsxsm2/anaconda3/envs/python2/bin/macs2 callpeak -t ' + BAMFolder + 'AllFiles_Filtered_Merged_nodup_cleaned_sorted.bam' +' -n ' \\\n",
    "                    + BAMFolder + 'AllFiles_Filtered' +' -q 0.2 -g hs -f BAM --nomodel --nolambda \\\n",
    "                    -B --call-summits --keep-dup all; source deactivate python2'\n",
    "    subprocess.call(MergedMacs2Cmd, shell=True)\n",
    "    \n",
    "    narrowPeakFile = BAMFolder + 'AllFiles_Filtered_peaks.narrowPeak'\n",
    "    mergedPeakFile = BAMFolder + 'mergedPeaks.bed'\n",
    "    tmpPeakFile = BAMFolder + 'tmpPeak.txt'\n",
    "    \n",
    "    \n",
    "    with open(narrowPeakFile,'r') as f:\n",
    "        peaks=[x.strip().split('\\t') for x in f]\n",
    "    peaks.sort(key=lambda x: float(x[8]), reverse=True)\n",
    "    \n",
    "    \n",
    "    peaksToWrite = list()\n",
    "    for i in range(len(peaks)):\n",
    "        peaksToWrite.insert(i, peaks[i][0:4])\n",
    "        peaksToWrite[i].append(peaks[i][8])      \n",
    "    \n",
    "    \n",
    "    with open(mergedPeakFile, \"w\") as f:\n",
    "        writer = csv.writer(f,delimiter='\\t')        \n",
    "        writer.writerows(peaksToWrite)        \n",
    "        \n",
    "    sortCmd = 'sort -k1,1 -k2,2n ' + mergedPeakFile + ' > ' + tmpPeakFile  \n",
    "    subprocess.call(sortCmd, shell=True)\n",
    "    \n",
    "    bedToolsCmd ='bedtools merge -i ' + tmpPeakFile + ' -c 5 -o last > ' + mergedPeakFile\n",
    "    subprocess.call(bedToolsCmd, shell=True)\n",
    "    \n",
    "    sortCmd = 'sort -nrk4 ' + mergedPeakFile + ' > ' + tmpPeakFile  \n",
    "    subprocess.call(sortCmd, shell=True)    \n",
    "    \n",
    "    copyCmd = 'cat ' + tmpPeakFile + ' > ' + mergedPeakFile\n",
    "    subprocess.call(copyCmd, shell=True)  "
   ]
  },
  {
   "cell_type": "markdown",
   "metadata": {},
   "source": [
    "`getAggregatedPeak()`:\n",
    "> This function calls `MACS2` on the aggregated `BAM` file mapped as single end reads and generates the peaks. If the user is following the merging BAM option then this is the function they need to call. Then the `getMergedBam()` is called within this function\n",
    "\n",
    "Arguements:\n",
    "> `BAMFolder`: Location of the folder where all the BAM files for each of the single-cells are. <br>\n",
    "> `BAMFilePattern` : The end pattern of the `BAM` files to be merged.\n",
    "\n",
    "Value:\n",
    "> Peak files from MACS2 call."
   ]
  },
  {
   "cell_type": "markdown",
   "metadata": {},
   "source": [
    "------------------\n",
    "## R functions"
   ]
  },
  {
   "cell_type": "markdown",
   "metadata": {},
   "source": [
    "### Loading R packages (if not available it will install it before loading)"
   ]
  },
  {
   "cell_type": "code",
   "execution_count": 7,
   "metadata": {},
   "outputs": [
    {
     "name": "stderr",
     "output_type": "stream",
     "text": [
      "/home/mqbsxsm2/anaconda3/lib/python3.6/site-packages/rpy2/rinterface/__init__.py:145: RRuntimeWarning: Loading required package: pacman\n",
      "\n",
      "  warnings.warn(x, RRuntimeWarning)\n"
     ]
    }
   ],
   "source": [
    "%%R\n",
    "if (!require(\"pacman\")) install.packages(\"pacman\")\n",
    "pacman::p_load(ggplot2, ComplexHeatmap, Rtsne, prabclus, GGally, rtracklayer, corrplot, \n",
    "               cluster, EnsDb.Hsapiens.v86, ChIPpeakAnno, org.Hs.eg.db, rGREAT)"
   ]
  },
  {
   "cell_type": "markdown",
   "metadata": {},
   "source": [
    "### R functions for the Scasat\n",
    "\n",
    "Now I define all the R functions. These functions will be used for most of the downstream analysis. A short explanation of each function along with its input and output are also given below of each function. "
   ]
  },
  {
   "cell_type": "code",
   "execution_count": 8,
   "metadata": {},
   "outputs": [],
   "source": [
    "%%R\n",
    "peakAccessibility <- function(mergedPeakFile, peakFolder, peakFilePattern, outputFolder, outputPeakFileName){\n",
    "    if(length(list.files(path=peakFolder, pattern = paste0(peakFilePattern,'.bed'), full.names=TRUE))>0){\n",
    "        files = list.files(path=peakFolder, pattern = paste0(peakFilePattern,'.bed'), full.names=TRUE)\n",
    "        unlink(files)\n",
    "    }\n",
    "    formatingToBed(peakFolder, peakFilePattern, outputFolder)\n",
    "    peakFilePattern = paste0(peakFilePattern,'.bed')\n",
    "    query = import(mergedPeakFile)\n",
    "    queryDF <- data.frame(query)\n",
    "    #queryDF <- queryDF[order(queryDF$name, decreasing=TRUE),]    \n",
    "    \n",
    "    totalOverlap <- data.frame(seqnames = queryDF$seqnames, start = queryDF$start, end = queryDF$end)    \n",
    "    files <- list.files(path=peakFolder, pattern = peakFilePattern, full.names=TRUE)\n",
    "    cellName <- list.files(path=peakFolder, pattern = peakFilePattern)\n",
    "    for (i in 1:length(files)){\n",
    "        subject = import(files[i])\n",
    "        hits = findOverlaps(query, subject)\n",
    "        hitsDF <- data.frame(hits)\n",
    "        cellName[i] <- gsub(peakFilePattern, '', cellName[i])\n",
    "        totalOverlap[hitsDF$queryHits, cellName[i]] <- 1\n",
    "        totalOverlap[-hitsDF$queryHits, cellName[i]] <- 0\n",
    "    }\n",
    "    outputFile = paste0(outputFolder,outputPeakFileName)\n",
    "    write.table(totalOverlap, outputFile, row.names=FALSE)    \n",
    "}    \n"
   ]
  },
  {
   "cell_type": "markdown",
   "metadata": {},
   "source": [
    "`peakAccesibility()`:\n",
    "> This function calculates the accessible peaks for each of the cells. It looks at each of the peaks listed in _Aggregated-Peak_ table and tries to find out whether there is any overlap between these peaks and the peaks of each cell. If there is then it puts a 1 agains that cells for that peak. Otherwise it puts 0. Calling these function for each of the cell completes the _Aggregated-Peak_ for which rows represnt all the peaks and the column represents cells.\n",
    "\n",
    "Arguements:\n",
    "> `mergedPeakFile`: This is the name and location of `mergedPeaks.bed`.<br>\n",
    "> `peakFolder`: This is the location of the folder where all the peaks for each of the single-cells are located. <br>\n",
    "> `peakFilePattern` : The end pattern of the `peak` files of each single cells found in the `peakFolder`. Currently the only two accepted patterns are `_peaks.narrowPeak` and `_summits_shifted.bed` <br>\n",
    "> `outputFolder`: Folder where all the outputs will be saved\n",
    "> `outputPeakFileName`: Name of the file where the peak accessibility table, _Aggregated-Peak_ would be saved. This file will contain all the accessibility information for all the cells.\n",
    "\n",
    "\n",
    "Value:\n",
    "> Peak accessibile table saved according to the name set in `outputPeakFileName`. The table will have the results in 1 or 0 expression peak opening or closing respectively."
   ]
  },
  {
   "cell_type": "code",
   "execution_count": 9,
   "metadata": {},
   "outputs": [],
   "source": [
    "%%R\n",
    "formatingToBed <- function(peakFolder, peakFilePattern, outputFolder){\n",
    "    files <- list.files(path=peakFolder, pattern = peakFilePattern, full.names=TRUE)\n",
    "    for (i in 1:length(files)){\n",
    "        narrowPeak <- read.csv(files[i], header=FALSE, sep='\\t')\n",
    "        write.table(narrowPeak[,1:4], paste0(files[i],'.bed'), \n",
    "                    row.names=FALSE, sep='\\t', col.names=FALSE, quote=FALSE)\n",
    "    }\n",
    "}"
   ]
  },
  {
   "cell_type": "markdown",
   "metadata": {},
   "source": [
    "`formatingToBed()`:\n",
    "> This function formats the bed file suitable for processing by Scasat. It adds a `.bed` extension at the end.\n",
    "\n",
    "Arguements:\n",
    "> `mergedPeakFile`: This is the name and location of `mergedPeaks.bed`.<br>\n",
    "> `peakFolder`: This is the location of the folder where all the peaks for each of the single-cells are located. <br>\n",
    "> `peakFilePattern` : The end pattern of the `peak` files of each single cells found in the `peakFolder`. Currently the only two accepted patterns are `_peaks.narrowPeak` and `_summits_shifted.bed` <br>\n",
    "> `outputFolder`: Folder where all the outputs will be saved\n",
    "\n",
    "Value:\n",
    "> Formats the bed files with adding a `.bed` extesion."
   ]
  },
  {
   "cell_type": "code",
   "execution_count": 10,
   "metadata": {},
   "outputs": [],
   "source": [
    "%%R\n",
    "calcEntropy <- function(data){\n",
    "\tfreqs <- table(data)/sum(table(data))\n",
    "\treturn(-sum(freqs * log(freqs)))\n",
    "}"
   ]
  },
  {
   "cell_type": "markdown",
   "metadata": {},
   "source": [
    "`calcEntropy()`:\n",
    "> Calcuates entropy is calculated as\n",
    "$$\\sum_{i=1}^c -p_i log_2 p_i$$\n",
    "\n",
    "\n",
    "`Usage`:\n",
    "> `calcEntropy(count_data)`\n",
    "\n",
    "Arguements:\n",
    "> `count_data`: The peak information converted into binary. \n",
    "\n",
    "Value:\n",
    "> Returns entropy of the count data."
   ]
  },
  {
   "cell_type": "code",
   "execution_count": 11,
   "metadata": {},
   "outputs": [],
   "source": [
    "%%R\n",
    "getDiffAccessInformationGain <- function(cdBinary, groups=NULL){\n",
    "\n",
    "    if (length(levels(groups)) != 2) {\n",
    "        stop(paste(\"ERROR: wrong number of levels in the grouping factor (\", \n",
    "            paste(levels(groups), collapse = \" \"), \"), but must be two.\", \n",
    "            sep = \"\"))\n",
    "    }\n",
    "    if (is.null(groups)){\n",
    "        stop(\"ERROR: groups factor is not provided\")\n",
    "    }\n",
    "    \n",
    "    \n",
    "    SingleCell.Group1.CellNames <- names(groups[groups==levels(groups)[1]])\n",
    "    SingleCell.Group2.CellNames <- names(groups[groups==levels(groups)[2]])\n",
    "    \n",
    "    SingleCell.Group1.Binary <- cdBinary[,SingleCell.Group1.CellNames]\n",
    "    SingleCell.Group2.Binary <- cdBinary[,SingleCell.Group2.CellNames]\n",
    "    \n",
    "    CellType <- data.frame(CellType=gsub('_.*','',names(groups)))\n",
    "    \n",
    "         \n",
    "    SingleCell.Group1VsGroup2 <- cbind(SingleCell.Group1.Binary,SingleCell.Group2.Binary)\n",
    "    SingleCell.Group1VsGroup2 <- t(SingleCell.Group1VsGroup2)\n",
    "    #SingleCell.Group1VsGroup2 <- cbind(SingleCell.Group1VsGroup2,CellType)   \n",
    "\n",
    "    \n",
    "    dataDim = (dim(SingleCell.Group1VsGroup2)[2])\n",
    "    #dataDim = 5\n",
    "    \n",
    "    information.gain = vector(mode=\"numeric\", length=(ncol(SingleCell.Group1VsGroup2)-1))\n",
    "    SingleCell.Group1VsGroup2.res <- data.frame(Chr = cdBinary[1:dataDim,1],\n",
    "                                           Start = cdBinary[1:dataDim,2],\n",
    "                                           end = cdBinary[1:dataDim,3])        \n",
    "    \n",
    "    \n",
    "    for(i in 1:dataDim)\n",
    "    {\n",
    "        jointData = cbind(SingleCell.Group1VsGroup2[,i], CellType)\n",
    "        \n",
    "        gain <- calcEntropy(jointData[,2]) - \n",
    "                (sum(table(jointData)[c(1,3)])/length(jointData[,2]))*calcEntropy(jointData[jointData[,1]==0,]) - \n",
    "                (sum(table(jointData)[c(2,4)])/length(jointData[,2]))*calcEntropy(jointData[jointData[,1]==1,])\n",
    "        SingleCell.Group1VsGroup2.res$information.gain[i] <- gain        \n",
    "    }\n",
    "    \n",
    "        \n",
    "    SingleCell.Group1.rawAvg <- rowSums(SingleCell.Group1.Binary==1)/dim(SingleCell.Group1.Binary)[2]\n",
    "    SingleCell.Group2.rawAvg <- rowSums(SingleCell.Group2.Binary==1)/dim(SingleCell.Group2.Binary)[2]\n",
    "    \n",
    "    SingleCell.Group1VsGroup2.res$rawMeanGroup1 <- SingleCell.Group1.rawAvg\n",
    "    SingleCell.Group1VsGroup2.res$rawMeanGroup2 <- SingleCell.Group2.rawAvg\n",
    "    SingleCell.Group1VsGroup2.res$log2FoldChange <- log2(SingleCell.Group1VsGroup2.res$rawMeanGroup1/\n",
    "                                                       SingleCell.Group1VsGroup2.res$rawMeanGroup2)\n",
    "    \n",
    "\n",
    "    #write.csv(SingleCell.Group1VsGroup2[order(SingleCell.Group1VsGroup2$information.gain, decreasing=TRUE),], \n",
    "    #          paste0(levels(groups)[1],'_vs_',levels(groups)[2],'InformationGain.csv'), row.names=FALSE)\n",
    "    \n",
    "    SingleCell.Group1VsGroup2.res <- SingleCell.Group1VsGroup2.res[!is.nan(SingleCell.Group1VsGroup2.res$information.gain) &\n",
    "                                                                  !is.na(SingleCell.Group1VsGroup2.res$information.gain),]\n",
    "    \n",
    "    return(SingleCell.Group1VsGroup2.res)    \n",
    "}"
   ]
  },
  {
   "cell_type": "markdown",
   "metadata": {},
   "source": [
    "`getDiffAccessInformationGain()`:\n",
    "> Caculates differential accessibility between two groups of cells using entropy and information gain. For each peak the accessibility is encoded as a binary variable. For each peak we calculate the \"Information gain\" by having the peak divided into two groups of cells for which we are trying to find out the differential accessibilty. The Information gain is calculated as\n",
    "\n",
    "$$ \n",
    " Gain(P, P_{G_1}, P_{G_2}) = Entropy(P) - \\sum_{v \\epsilon\\{G_1,G_2 \\}} \\frac{|P_v|}{|P|}Entropy(P_v)\n",
    "$$\n",
    "\n",
    ">where Entropy is calculated as\n",
    "$$\\sum_{i=1}^c -p_i log_2 p_i$$\n",
    "\n",
    "> The peaks are then sorted based on the informatin gain and the user can choose the cutoff value for selecting the DA peaks. A suggested value for this would be values < 0.01\n",
    "\n",
    "\n",
    "`Usage`:\n",
    "> `getDiffAccessLogsitic(count_data, groups)`\n",
    "\n",
    "Arguements:\n",
    "> `cdBinary`: The peak information converted into binary. Ideally this would be file that set in the `outputPeakFileName`. `cdBinary` would be used to calculate the Jaccard distance which would then be used as d matrix in MDS calculation<br>\n",
    "\n",
    ">`groups` : groups into which each cell belong to.\n",
    "\n",
    "Value:\n",
    "> Returns a table with the peaks along with Information gain."
   ]
  },
  {
   "cell_type": "code",
   "execution_count": 12,
   "metadata": {},
   "outputs": [],
   "source": [
    "%%R\n",
    "getDiffAccess <- function(cdBinary, groups=NULL){\n",
    "\n",
    "    if (length(levels(groups)) != 2) {\n",
    "        stop(paste(\"ERROR: wrong number of levels in the grouping factor (\", \n",
    "            paste(levels(groups), collapse = \" \"), \"), but must be two.\", \n",
    "            sep = \"\"))\n",
    "    }\n",
    "    if (is.null(groups)){\n",
    "        stop(\"ERROR: groups factor is not provided\")\n",
    "    }\n",
    "    \n",
    "    \n",
    "    SingleCell.Group1.CellNames <- names(groups[groups==levels(groups)[1]])\n",
    "    SingleCell.Group2.CellNames <- names(groups[groups==levels(groups)[2]])\n",
    "    \n",
    "    SingleCell.Group1.Binary <- cdBinary[,SingleCell.Group1.CellNames]\n",
    "    SingleCell.Group2.Binary <- cdBinary[,SingleCell.Group2.CellNames]\n",
    "\n",
    "    SingleCell.Group1.ZeroCount <- rowSums(SingleCell.Group1.Binary==0)\n",
    "    SingleCell.Group2.ZeroCount <- rowSums(SingleCell.Group2.Binary==0)\n",
    "    SingleCell.Group1.OneCount <- rowSums(SingleCell.Group1.Binary==1)\n",
    "    SingleCell.Group2.OneCount <- rowSums(SingleCell.Group2.Binary==1)\n",
    "    \n",
    "    SingleCell.Group1VsGroup2 <- data.frame(Chr = cdBinary[,1],\n",
    "                                           Start = cdBinary[,2],\n",
    "                                           end = cdBinary[,3])\n",
    "\n",
    "    SingleCell.Group1VsGroup2$group1OneCounts <- SingleCell.Group1.OneCount\n",
    "    SingleCell.Group1VsGroup2$group2OneCounts <- SingleCell.Group2.OneCount\n",
    "    SingleCell.Group1VsGroup2$log2Fold <- log2((SingleCell.Group1.OneCount+1)/dim(SingleCell.Group1.Binary)[2]) - \n",
    "                                            log2(((SingleCell.Group2.OneCount+1)/dim(SingleCell.Group2.Binary)[2]))\n",
    "    pvalue = vector(mode=\"numeric\", length=length(SingleCell.Group2.OneCount))\n",
    "    nGenes <- nrow(SingleCell.Group1.Binary)\n",
    "    \n",
    "    \n",
    "    for(i in 1:length(SingleCell.Group2.OneCount))\n",
    "    {\n",
    "        contingencyTable <- matrix(c(SingleCell.Group1.ZeroCount[i], SingleCell.Group2.ZeroCount[i],\n",
    "                                     SingleCell.Group1.OneCount[i], SingleCell.Group2.OneCount[i]), ncol=2)\n",
    "        SingleCell.Group1VsGroup2$pvalue[i] <- fisher.test(contingencyTable)$p.value        \n",
    "    }\n",
    "    \n",
    "    # Bonferroni correction\n",
    "    SingleCell.Group1VsGroup2$p_adjust <- p.adjust(SingleCell.Group1VsGroup2$pvalue, method=\"bonferroni\")\n",
    "\n",
    "    write.csv(SingleCell.Group1VsGroup2[order(SingleCell.Group1VsGroup2$p_adjust, decreasing=FALSE),], \n",
    "              paste0(levels(groups)[1],'_vs_',levels(groups)[2],'.csv'), row.names=FALSE)\n",
    "    \n",
    "    return(SingleCell.Group1VsGroup2)    \n",
    "}"
   ]
  },
  {
   "cell_type": "markdown",
   "metadata": {},
   "source": [
    "`getDiffAccess()`:\n",
    "> Caculates differential accessibility between two groups of cells. For each peak it creates a contingency table with number of 0's and 1's for the two groups. <br>\n",
    "\n",
    ">|               \t| Group-1 \t| Group-2 \t|\n",
    "|---------------\t|---------\t|---------\t|\n",
    "| Number of 0's \t|         \t|         \t|\n",
    "| Number of 1's \t|         \t|         \t| \n",
    "<br>\n",
    "It then runs Fisher exact test to calculate the p-values. These p-values are then corrected for multiple testing with Bonferroni correction. Finally the function returns a table with the peaks, their count of 1's in each group, the p-value and the q-value (corrected p-value).\n",
    "\n",
    "Arguements:\n",
    "> `cdBinary`: The peak information converted into binary. Ideally this would be file that set in the `outputPeakFileName`. `cdBinary` would be used to calculate the Jaccard distance which would then be used as d matrix in MDS calculation<br>\n",
    "\n",
    "Value:\n",
    "> Returns a table with the peaks, their count of 1's in each group, the p-value and the q-value (corrected p-value)."
   ]
  },
  {
   "cell_type": "code",
   "execution_count": 13,
   "metadata": {},
   "outputs": [],
   "source": [
    "%%R\n",
    "getPeakVsPrecision <- function(peakA, peakB,start=100,stepSize=100){\n",
    "    \n",
    "    if (colnames(peakA)[1] != 'chr' | colnames(peakA)[2] != 'start' | colnames(peakA)[3] != 'end') {\n",
    "        stop(paste(\"ERROR: Column name should have 'chr' 'start' 'end'\"))\n",
    "    }\n",
    "\n",
    "    dimToRun <- min(dim(peakA)[1],dim(peakB)[1])\n",
    "    if(dim(peakB)[1]>dimToRun){\n",
    "        peakB <- peakB[1:dimToRun,]\n",
    "    }\n",
    "    GenomicRangeObjA <- makeGRangesFromDataFrame(peakA,\n",
    "                         keep.extra.columns=FALSE,\n",
    "                         ignore.strand=TRUE,\n",
    "                         seqinfo=NULL,\n",
    "                         seqnames.field=c(\"chr\"),\n",
    "                         start.field=\"start\",\n",
    "                         end.field=c(\"end\"),\n",
    "                         starts.in.df.are.0based=FALSE)\n",
    "    j=1\n",
    "    Recall <- vector(mode=\"numeric\", length=0)\n",
    "    Precision <- vector(mode=\"numeric\", length=0)\n",
    "    for(i in seq(100,(dimToRun-stepSize),stepSize)){\n",
    "           GenomicRangeObjB <- makeGRangesFromDataFrame(peakB[1:i,],\n",
    "                         keep.extra.columns=FALSE,\n",
    "                         ignore.strand=TRUE,\n",
    "                         seqinfo=NULL,\n",
    "                         seqnames.field=c(\"chr\"),\n",
    "                         start.field=\"start\",\n",
    "                         end.field=c(\"end\"),\n",
    "                         starts.in.df.are.0based=FALSE)\n",
    "\n",
    "           write.table(GenomicRangeObjA, 'tmpPeakA.bed', sep='\\t', row.names=FALSE, quote=FALSE, col.names=FALSE)\n",
    "\t   write.table(GenomicRangeObjB, 'tmpPeakB.bed', sep='\\t', row.names=FALSE, quote=FALSE, col.names=FALSE)\n",
    "           bedToolsCmd = 'bedtools intersect -a tmpPeakB.bed -b tmpPeakA.bed -u'\n",
    "           intersectRes = system(bedToolsCmd, intern=TRUE)\n",
    "           \n",
    "           FP = dim(peakB[1:i,])[1] - length(intersectRes)\n",
    "           TP = length(intersectRes)\n",
    "           \n",
    "           GenomicRangeObjB <- makeGRangesFromDataFrame(peakB[(i+1):dim(peakB)[1],],\n",
    "                         keep.extra.columns=FALSE,\n",
    "                         ignore.strand=TRUE,\n",
    "                         seqinfo=NULL,\n",
    "                         seqnames.field=c(\"Chr\"),\n",
    "                         start.field=\"Start\",\n",
    "                         end.field=c(\"End\"),\n",
    "                         starts.in.df.are.0based=FALSE)\n",
    "                         \n",
    "           write.table(GenomicRangeObjA, 'tmpPeakA.bed', sep='\\t', row.names=FALSE, quote=FALSE, col.names=FALSE)\n",
    "\t   write.table(GenomicRangeObjB, 'tmpPeakB.bed', sep='\\t', row.names=FALSE, quote=FALSE, col.names=FALSE)\n",
    "           bedToolsCmd = 'bedtools intersect -a tmpPeakB.bed -b tmpPeakA.bed -u'\n",
    "           intersectRes = system(bedToolsCmd, intern=TRUE)\n",
    "\n",
    "           TN = dim(peakB[(i+1):dim(peakB)[1],]) - length(intersectRes)\n",
    "           FN = length(intersectRes)\n",
    "           Recall[j] = 100*(TP/(TP + FN))\n",
    "           Precision[j] = 100*(TP / (TP + FP))\n",
    "           j = j +1\n",
    "           \n",
    "   \n",
    "    }\n",
    "    df<-data.frame(x=Recall,y=Precision)\n",
    "    p <- ggplot(df, aes_string(x=\"x\",y =\"y\"))+ scale_colour_hue(l=40)\n",
    "    \n",
    "    p <- p + ggtitle(\"Recall vs Precision\") + theme(plot.title = element_text(size = 16, face = \"bold\"))\n",
    "    p <- p + geom_point(size = 2)\n",
    "    p <- p + xlab(\"Recall%\") \n",
    "    p <- p + ylab(\"Precision%\")+\n",
    "\ttheme_light(base_size=15) +\n",
    "        theme(strip.background = element_blank(),\n",
    "              panel.border     = element_blank(),\n",
    "              plot.title = element_text(hjust = 0.5))\n",
    "    print(p)\n",
    "    \n",
    "    #GenomicRangeObjB <- makeGRangesFromDataFrame(peakB,\n",
    "    #                     keep.extra.columns=FALSE,\n",
    "    #                     ignore.strand=TRUE,\n",
    "    #                     seqinfo=NULL,\n",
    "    #                     seqnames.field=c(\"Chr\"),\n",
    "    #                     start.field=\"Start\",\n",
    "    #                     end.field=c(\"End\"),\n",
    "    #                     starts.in.df.are.0based=FALSE)\n",
    "    #                     \n",
    "    # write.table(GenomicRangeObjA, 'tmpPeakA.bed', sep='\\t', row.names=FALSE, quote=FALSE, col.names=FALSE)\n",
    "    # write.table(GenomicRangeObjB, 'tmpPeakB.bed', sep='\\t', row.names=FALSE, quote=FALSE, col.names=FALSE)\n",
    "    # bedToolsCmd = 'bedtools intersect -a tmpPeakB.bed -b tmpPeakA.bed -u'\n",
    "    # intersectRes = system(bedToolsCmd, intern=TRUE)\n",
    "   \n",
    "   #return(intersectRes) \n",
    "}"
   ]
  },
  {
   "cell_type": "markdown",
   "metadata": {},
   "source": [
    "`getPeakVsPrecision()`:\n",
    "> This function is used to see how many peaks from the Bulk data the single-cell have been able to capture. For that we calculate the Peak and the Precision of the single-cell data against its Bulk counterpart and then plot it. The way these two values are calculated are\n",
    "\n",
    "$$\n",
    "Recall = 100  \\frac{TP}{TP + FN}\n",
    "$$\n",
    "$$\n",
    "Precision = 100  \\frac{TP}{TP + FP}\n",
    "$$\n",
    "> where <br>\n",
    "> TP = True Positive <br>\n",
    "> TN = True Negative <br>\n",
    "> FP = False Positive <br>\n",
    "> FN = False Negative <br>\n",
    "\n",
    "`Usage`:\n",
    "> `getPeakVsPrecision(peakA, peakB,start,stepSize)`\n",
    "\n",
    "Arguements:\n",
    "> `peakA`: Peak of the BULK data <br>\n",
    "> `peakB`: Single-cell Peak <br>\n",
    "> `start`: Number of peaks to start with the calculation, default is `100`. <br>\n",
    "> `stepSize`: Size of the increase steps\n",
    "\n",
    "Value:\n",
    "> Plots Recall vs. Precision and returns a summary"
   ]
  },
  {
   "cell_type": "code",
   "execution_count": 14,
   "metadata": {},
   "outputs": [],
   "source": [
    "%%R\n",
    "getJaccardDist <- function(cdBinary){\n",
    "        \n",
    "    if(colnames(cdBinary[,2:3])[1] == 'start' && colnames(cdBinary[,2:3])[2] == 'end'){\n",
    "        SingleCell.Binary <- cdBinary[,4:(dim(cdBinary)[2])]\n",
    "    }\n",
    "    else\n",
    "        SingleCell.Binary <- cdBinary\n",
    "    \n",
    "    \n",
    "    SingleCell.Binary.Jaccard <- jaccard(as.matrix(SingleCell.Binary))\n",
    "    \n",
    "    return(SingleCell.Binary.Jaccard)\n",
    "}"
   ]
  },
  {
   "cell_type": "markdown",
   "metadata": {},
   "source": [
    "`getJaccardDist()`:\n",
    "> This function calculates the jaccard distance between each of the cells. Jaccard distance calculates the ratio between the differences of the sizes of the union and intersection against the size of the union. The equation for calculating this distance is <br><br>$$d_J(A,B)=\\frac{|A \\cup B| - |A \\cap B|}{|A \\cup B|}$$\n",
    "\n",
    "Arguements:\n",
    "> `cdBinary`: The peak information converted into binary. Ideally this would be file that set in the `outputPeakFileName`. \n",
    "\n",
    "\n",
    "Value:\n",
    "> Jaccard distance between each of the cell."
   ]
  },
  {
   "cell_type": "code",
   "execution_count": 40,
   "metadata": {},
   "outputs": [],
   "source": [
    "%%R\n",
    "plotMDS <- function(cdBinary, k, groups=NULL, cellName, ret.val=FALSE, text.label=FALSE, \n",
    "                    title=\"\", coordinates=c(1,2)){\n",
    "    if(missing(ret.val)){\n",
    "        ret.val = FALSE\n",
    "    }\n",
    "    if(text.label==TRUE & missing(cellName)){\n",
    "        stop(\"ERROR: Please give cellName\")\n",
    "    }\n",
    "    \n",
    "    SingleCell.Binary.Jaccard <- getJaccardDist(cdBinary)\n",
    "    fit <- cmdscale(as.dist(SingleCell.Binary.Jaccard),eig=TRUE, k=k)\n",
    "\n",
    " \n",
    "    if(is.null(groups)){\n",
    "        df<-data.frame(x=fit$points[,coordinates[1]],y=fit$points[,coordinates[2]], Cell=colnames(SingleCell.Binary.Jaccard))\n",
    "        p <- ggplot(df, aes_string(x=\"x\",y =\"y\"))+ scale_colour_hue(l=40)\n",
    "    }\n",
    "    else{\n",
    "        df<-data.frame(x=fit$points[,coordinates[1]],y=fit$points[,coordinates[2]], Cell=colnames(SingleCell.Binary.Jaccard), Batch=groups)\n",
    "         p <- ggplot(df, aes_string(x=\"x\",y =\"y\", color=\"Batch\"))+ \n",
    "            scale_colour_hue(l=40) + \n",
    "            scale_colour_brewer(palette=\"Set1\") \n",
    "    }\n",
    "\n",
    "    \n",
    "    p <- p + ggtitle(title) + theme(plot.title = element_text(size = 20, face = \"bold\"))\n",
    "    p <- p + geom_point(size = 2)\n",
    "    p <- p + xlab(paste0(\"Coordinate \",coordinates[1])) \n",
    "    p <- p + ylab(paste0(\"Coordinate \",coordinates[2]))+\n",
    "\ttheme_light(base_size=24) +\n",
    "        theme(strip.background = element_blank(),\n",
    "              panel.border     = element_blank(),\n",
    "              plot.title = element_text(hjust = 0.5))\n",
    "\n",
    "       \n",
    "    if(text.label==TRUE)\n",
    "        p <- p + geom_text(data=df,aes(label=cellName),alpha=0.5,size=4, vjust=1,hjust=0.5,angle=45)\n",
    "\n",
    "    #p <- p + theme(axis.title = element_text(size = 14), axis.text = element_text(size = 14),\n",
    "    #legend.text = element_text(size = 14), legend.title = element_text(size = 14))\n",
    "    print(p)\n",
    "    \n",
    "    if(ret.val == TRUE)\n",
    "        return(fit)\n",
    "}\n"
   ]
  },
  {
   "cell_type": "markdown",
   "metadata": {},
   "source": [
    "`plotMDS()`:\n",
    "> This function calculates the Multidimensional Scaling (MDS) and plots the cells based on Jaccard distance to visualize the level of similarity between the cells.\n",
    "\n",
    "Arguements:\n",
    "> `cdBinary`: The peak information converted into binary. Ideally this would be file that set in the `outputPeakFileName`. `cdBinary` would be used to calculate the Jaccard distance which would then be used as d matrix in MDS calculation<br>\n",
    "`k`: The maximum dimension of the space which the data are to be represented in; must be in {1, 2, ..., n-1}. <br>\n",
    "`groups`: If the cells can be organized into different groups (for eg. different batches), then they are passed as groups making them factor variable.<br>\n",
    "`cellName`: If `text.label` is set to `TRUE` then you have to supply `cellName`.\n",
    "`ret.val`: Need to set this TRUE for the function to return the MDS values <br>\n",
    "`text.label`: Need to set this TRUE if label of each of the cells are to be printed in the plot.\n",
    "`coordinates`: The coordinates to be plotted for the MDS plot\n",
    "\n",
    "\n",
    "Value:\n",
    "> Calculates the MDS and plots the cells based on their MDS dimension. It returns the MDS values if `ret.val` is set to TRUE."
   ]
  },
  {
   "cell_type": "code",
   "execution_count": 51,
   "metadata": {},
   "outputs": [],
   "source": [
    "%%R\n",
    "plotMDSClust <- function(cdBinary, k, Clusters=NULL, cellName, ret.val=FALSE, text.label=FALSE, \n",
    "                    title=\"\"){\n",
    "\n",
    "    if(missing(k)){\n",
    "        stop(\"ERROR: Number of Clusters \\\"k\\\" is missing\")\n",
    "    }\n",
    "    if(missing(ret.val)){\n",
    "        ret.val = FALSE\n",
    "    }\n",
    "    if(text.label==TRUE & missing(cellName)){\n",
    "        stop(\"ERROR: Please give cellName\")\n",
    "    }\n",
    "    \n",
    "    SingleCell.Binary.Jaccard <- getJaccardDist(cdBinary)\n",
    "    fit <- cmdscale(as.dist(SingleCell.Binary.Jaccard),eig=TRUE, k=k)\n",
    " \n",
    "    if(is.null(Clusters)){\n",
    "        df<-data.frame(x=fit$points[,1],y=fit$points[,2], Cell=colnames(SingleCell.Binary.Jaccard))\n",
    "        p <- ggplot(df, aes_string(x=\"x\",y =\"y\"))+ scale_colour_hue(l=40)\n",
    "    }\n",
    "    else{\n",
    "        df<-data.frame(x=fit$points[,1],y=fit$points[,2], Cell=colnames(SingleCell.Binary.Jaccard), Clusters=Clusters)\n",
    "        p <- ggplot(df, aes_string(x=\"x\",y =\"y\", color=\"Clusters\"))+ scale_colour_hue(l=40)\n",
    "    }\n",
    "\n",
    "    \n",
    "    p <- p + ggtitle(title) + theme(plot.title = element_text(size = 20, face = \"bold\"))\n",
    "    p <- p + geom_point(size = 2)\n",
    "    p <- p + xlab(\"Coordinate 1\") \n",
    "    p <- p + ylab(\"Coordinate 2\")+\n",
    "\ttheme_light(base_size=24) +\n",
    "        theme(strip.background = element_blank(),\n",
    "              panel.border     = element_blank(),\n",
    "              plot.title = element_text(hjust = 0.5))\n",
    "\n",
    "    if(length(levels(Clusters)) < 12)\n",
    "        p <- p + scale_colour_brewer(palette=\"Set1\")        \n",
    "    if(text.label==TRUE)\n",
    "        p <- p + geom_text(data=df,aes(label=cellName),alpha=0.5,size=4, vjust=1,hjust=0.5,angle=45)\n",
    "\n",
    "    #p <- p + theme(axis.title = element_text(size = 14), axis.text = element_text(size = 14),\n",
    "    #legend.text = element_text(size = 14), legend.title = element_text(size = 14))\n",
    "    \n",
    "    print(p)\n",
    "    \n",
    "    if(ret.val == TRUE)\n",
    "        return(fit)\n",
    "}"
   ]
  },
  {
   "cell_type": "markdown",
   "metadata": {},
   "source": [
    "`plotMDSClust()`:\n",
    "> This function calculates the Multidimensional Scaling (MDS) and plots the cells based on Jaccard distance to visualize the level of similarity between the cells. It is very similar to `plotMDS()` except we colour it based on clusters.\n",
    "\n",
    "Arguements:\n",
    "> `cdBinary`: The peak information converted into binary. Ideally this would be file that set in the `outputPeakFileName`. `cdBinary` would be used to calculate the Jaccard distance which would then be used as d matrix in MDS calculation<br>\n",
    "`k`: The maximum dimension of the space which the data are to be represented in; must be in {1, 2, ..., n-1}. <br>\n",
    "`groups`: If the cells can be organized into different groups (for eg. different batches), then they are passed as groups making them factor variable.<br>\n",
    "`cellName`: If `text.label` is set to `TRUE` then you have to supply `cellName`.\n",
    "`ret.val`: Need to set this TRUE for the function to return the MDS values <br>\n",
    "`text.label`: Need to set this TRUE if label of each of the cells are to be printed in the plot.\n",
    "\n",
    "\n",
    "Value:\n",
    "> Calculates the MDS and plots the cells based on their MDS dimension. It returns the MDS values if `ret.val` is set to TRUE."
   ]
  },
  {
   "cell_type": "code",
   "execution_count": 18,
   "metadata": {},
   "outputs": [],
   "source": [
    "%%R\n",
    "plotPCAJaccard <- function(cdBinary, groups=NULL, ret.val=FALSE , cellName, text.label=FALSE, title){\n",
    "    \n",
    "   \n",
    "    if(missing(ret.val)){\n",
    "        ret.val = FALSE\n",
    "    }\n",
    "    if(text.label==TRUE & missing(cellName)){\n",
    "        stop(\"ERROR: Please give cellName\")\n",
    "    }\n",
    "    \n",
    "    SingleCell.Binary.Jaccard <- getJaccardDist(cdBinary)\n",
    "    FinalPCAData <- t(SingleCell.Binary.Jaccard)\n",
    "    PCx=1\n",
    "    PCy=2\n",
    "    pcaPRComp <- prcomp(FinalPCAData)\n",
    "    percentVar <- pcaPRComp$sdev^2/sum(pcaPRComp$sdev^2)\n",
    " \n",
    "    if(is.null(groups)){\n",
    "        df<-data.frame(PCX=pcaPRComp$x[,PCx],PCY=pcaPRComp$x[,PCy])\n",
    "        p1<-ggplot(df, aes_string(x=\"PCX\",y =\"PCY\"))        \n",
    "    }\n",
    "    else{\n",
    "        df<-data.frame(PCX=pcaPRComp$x[,PCx],PCY=pcaPRComp$x[,PCy], groups=groups)\n",
    "        p1<-ggplot(df, aes_string(x=\"PCX\",y =\"PCY\", color=\"groups\"))             \n",
    "    }          \n",
    "    if(missing(title))\n",
    "        p1<-p1+ggtitle(\"PCA with Jacard Matrix\")\n",
    "    else\n",
    "        p1<-p1+ggtitle(title)\n",
    "        \n",
    "    p1<-p1+geom_point(size = 3)\n",
    "    p1<-p1+xlab(paste(\"PC\",PCx,\": \", round(percentVar[PCx] * 100), \"% variance\"))\n",
    "    p1<-p1+ylab(paste(\"PC\",PCy,\": \", round(percentVar[PCy] * 100), \"% variance\"))\n",
    "    if(text.label == TRUE){\n",
    "        p1<-p1+geom_text(data=df,aes(label=cellName),\n",
    "                       alpha=0.5,size=4, vjust=1,hjust=0.5,angle=45, color=\"black\")\n",
    "    }\n",
    "    \n",
    "    p1<-p1 +\n",
    "    theme_light(base_size=15)+     \n",
    "         theme(plot.title = element_text(hjust = 0.5),\n",
    "              panel.border     = element_blank())\n",
    "\n",
    "    if(length(levels(groups)) < 12)\n",
    "        p1 <- p1 + scale_colour_brewer(palette=\"Set1\")\n",
    "    \n",
    "    print(p1)\n",
    "        \n",
    "    if(ret.val == TRUE)\n",
    "        return(pcaPRComp)\n",
    "}"
   ]
  },
  {
   "cell_type": "markdown",
   "metadata": {},
   "source": [
    "`plotPCAJaccard()`:\n",
    "> This function calculates the Principle Component Analysis (PCA) and plots the cells based on Jaccard distance in a reduced dimension to visualize how the cells cluster together.\n",
    "\n",
    "Arguements:\n",
    "> `cdBinary`: The peak information converted into binary. Ideally this would be file that set in the `outputPeakFileName`. `cdBinary` would be used to calculate the Jaccard distance which would then be used as d matrix in MDS calculation<br>\n",
    "`groups`: If the cells can be organized into different groups (for eg. different batches), then they are passed as groups making them factor variable.<br>\n",
    "`ret.val`: Need to set this TRUE for the function to return the MDS values <br>\n",
    "`text.label`: Need to set this TRUE if label of each of the cells are to be printed in the plot.<br>\n",
    "`title`: Sets the title of the plot.\n",
    "\n",
    "\n",
    "Value:\n",
    "> Calculates PCA and plots the cells in reduced dimension. If`ret.val` is set to TRUE it returns the PCA components along with standard deviations. "
   ]
  },
  {
   "cell_type": "code",
   "execution_count": 19,
   "metadata": {},
   "outputs": [],
   "source": [
    "%%R\n",
    "plotMultiplePCAJaccard <- function(cdBinary, nPCAToDisplay, groups=NULL, ret.val=FALSE , text.label=FALSE, title=\"\"){\n",
    "    \n",
    "    if(missing(nPCAToDisplay)){\n",
    "    \tstop(\"ERROR: Number of PCA's \\\"nPCAToDisplay\\\" to display is missing\")\n",
    "    }\n",
    "    if(missing(ret.val)){\n",
    "        ret.val = FALSE\n",
    "    }\n",
    "    \n",
    "    SingleCell.Binary.Jaccard <- getJaccardDist(cdBinary)\n",
    "    FinalPCAData <- t(SingleCell.Binary.Jaccard)\n",
    "    PCx=1\n",
    "    PCy=2\n",
    "    pcaPRComp <- prcomp(FinalPCAData)\n",
    "\n",
    "    nmax = nPCAToDisplay\n",
    "    plotTitle = paste0('Plotting first ',nmax,' PCAs')\n",
    "    \n",
    "    txt1 <- paste(\"Percent_PC_Var_onfirst\",nmax,\"PCs\",sep=\"\")\n",
    "    pca_var = pcaPRComp$sdev ^ 2\n",
    "    pca_var_percent <- 100 * pca_var / sum(pca_var)\n",
    "    pca_var_percent_first10 <- NA * pca_var\n",
    "    pca_var_percent_first10[1:nmax] <- 100 * pca_var[1:nmax] / sum(pca_var[1:nmax])\n",
    "\n",
    "    pca_var_out <- data.frame(round(pca_var,3),round(pca_var_percent,1),\n",
    "                          round(pca_var_percent_first10,1))\n",
    "    rownames(pca_var_out) <- colnames(pcaPRComp$x)\n",
    "    colnames(pca_var_out) <- c(\"PC_Var\",\"PC_Var_percent\",txt1)\n",
    "\n",
    "\n",
    "    if(is.null(groups)){\n",
    "        df <- as.data.frame(pcaPRComp$x)\n",
    "        p <- ggpairs(df, columns=1:nPCAToDisplay, upper=list(continuous=\"points\"), \n",
    "             title=plotTitle,              \n",
    "             columnLabels = as.character(paste0(colnames(df[,1:nPCAToDisplay]), ' : ', \n",
    "                                                pca_var_out$PC_Var_percent[1:nPCAToDisplay], '% variance')))+\n",
    "    \t     theme_light(base_size=15)+     \n",
    "             theme(plot.title = element_text(hjust = 0.5))        \n",
    "    }\n",
    "    else{\n",
    "        df <- as.data.frame(pcaPRComp$x)\n",
    "        df$Cell=groups        \n",
    "        p <- ggpairs(df, columns=1:nPCAToDisplay, upper=list(continuous=\"points\"), \n",
    "             title=plotTitle, \n",
    "             mapping = aes_string(color=\"Cell\"),\n",
    "             legend = c(1,nPCAToDisplay),\n",
    "             columnLabels = as.character(paste0(colnames(df[,1:nPCAToDisplay]), ' : ', \n",
    "                                                pca_var_out$PC_Var_percent[1:nPCAToDisplay], '% variance')))+\n",
    "             theme_light(base_size=15)+     \n",
    "             theme(plot.title = element_text(hjust = 0.5))\n",
    "    }          \n",
    "    \n",
    "    print(p)\n",
    "}"
   ]
  },
  {
   "cell_type": "markdown",
   "metadata": {},
   "source": [
    "`plotMultiplePCAJaccard()`:\n",
    "> This function calculates the Principle Component Analysis (PCA) based on Jacard distance and plots the first `n` components of the PCA.\n",
    "\n",
    "Arguements:\n",
    "> `cdBinary`: The peak information converted into binary. Ideally this would be file that set in the `outputPeakFileName`. `cdBinary` would be used to calculate the Jaccard distance which would then be used as d matrix in MDS calculation<br>\n",
    "`nPCAToDisplay` : Number of PCAs to display. <br>\n",
    "`groups`: If the cells can be organized into different groups (for eg. different batches), then they are passed as groups making them factor variable.<br>\n",
    "`ret.val`: Need to set this TRUE for the function to return the MDS values <br>\n",
    "`text.label`: Need to set this TRUE if label of each of the cells are to be printed in the plot.<br>\n",
    "`title`: Sets the title of the plot.\n",
    "\n",
    "\n",
    "Value:\n",
    "> Calculates PCA and plots the cells in first `n` components. If`ret.val` is set to TRUE it returns the PCA components along with standard deviations. "
   ]
  },
  {
   "cell_type": "code",
   "execution_count": 20,
   "metadata": {},
   "outputs": [],
   "source": [
    "%%R\n",
    "plotVarExplained <- function(cdBinary, nPCAToDisplay, groups=NULL, ret.val=FALSE , text.label=FALSE, title=\"\"){\n",
    "\n",
    "    if(missing(nPCAToDisplay)){\n",
    "    \tstop(\"ERROR: Number of PCA's \\\"nPCAToDisplay\\\" to display is missing\")\n",
    "    }\n",
    "    if(missing(ret.val)){\n",
    "        ret.val = FALSE\n",
    "    }\n",
    "    \n",
    "    SingleCell.Binary.Jaccard <- getJaccardDist(cdBinary)\n",
    "    FinalPCAData <- t(SingleCell.Binary.Jaccard)\n",
    "    PCx=1\n",
    "    PCy=2\n",
    "    pcaPRComp <- prcomp(FinalPCAData)\n",
    "\n",
    "    nmax = nPCAToDisplay\n",
    "    plotTitle = paste0('Plotting first ',nmax,' PCAs')\n",
    "    \n",
    "    txt1 <- paste(\"Percent_PC_Var_onfirst\",nmax,\"PCs\",sep=\"\")\n",
    "    pca_var = pcaPRComp$sdev ^ 2\n",
    "    pca_var_percent <- 100 * pca_var / sum(pca_var)\n",
    "    pca_var_percent_first10 <- NA * pca_var\n",
    "    pca_var_percent_first10[1:nmax] <- 100 * pca_var[1:nmax] / sum(pca_var[1:nmax])\n",
    "\n",
    "    pca_var_out <- data.frame(round(pca_var,3),round(pca_var_percent,1),round(pca_var_percent_first10,1))\n",
    "    rownames(pca_var_out) <- colnames(pcaPRComp$x)\n",
    "    colnames(pca_var_out) <- c(\"PC_Var\",\"PC_Var_percent\",\"PC_Var_n_percent\")\n",
    "\n",
    "\n",
    "    p <- ggplot(pca_var_out[1:nmax,]) + scale_colour_hue(l=40) \n",
    "    p <- p + geom_line(aes(x=c(1:nmax), y = PC_Var_percent, color=\"PC_Var_percent\"), size=1.5)+\n",
    "         geom_point(aes(x=c(1:nmax), y = PC_Var_percent, color=\"PC_Var_percent\"), size = 2)+\n",
    "         geom_line(aes(x=c(1:nmax), y = PC_Var_n_percent, color=\"PC_Var_n_percent\"), size=1.5)+\n",
    "         geom_point(aes(x=c(1:nmax), y = PC_Var_n_percent, color=\"PC_Var_n_percent\"), size = 2)+\n",
    "         ggtitle(\"Total variance by the PCAs considered\")+\n",
    "         xlab(paste(\"PC1 to PC10\"))+\n",
    "         ylab(paste(\"% of Variance\"))+     \n",
    "         theme_light(base_size=15)+     \n",
    "         theme(plot.title = element_text(hjust = 0.5),\n",
    "              panel.border     = element_blank())+\n",
    "         scale_x_continuous(breaks=c(1:nmax))+\n",
    "         scale_colour_brewer(palette=\"Set1\")\n",
    "         \n",
    "   print(p)\n",
    "}"
   ]
  },
  {
   "cell_type": "markdown",
   "metadata": {},
   "source": [
    "`plotVarExplained()`:\n",
    "> This function calculates the percent of variance explained by the PCAs and plots it.\n",
    "\n",
    "Arguements:\n",
    "> `cdBinary`: The peak information converted into binary. Ideally this would be file that set in the `outputPeakFileName`. `cdBinary` would be used to calculate the Jaccard distance which would then be used as d matrix in MDS calculation<br>\n",
    "`nPCAToDisplay` : Number of PCAs to display. <br>\n",
    "`groups`: If the cells can be organized into different groups (for eg. different batches), then they are passed as groups making them factor variable.<br>\n",
    "`ret.val`: Need to set this TRUE for the function to return the MDS values <br>\n",
    "`text.label`: Need to set this TRUE if label of each of the cells are to be printed in the plot.<br>\n",
    "`title`: Sets the title of the plot.\n",
    "\n",
    "\n",
    "Value:\n",
    "> Calculates the percent of variance explained by the PCAs and the plots thsoe percentage. "
   ]
  },
  {
   "cell_type": "code",
   "execution_count": 21,
   "metadata": {},
   "outputs": [],
   "source": [
    "%%R\n",
    "plot_tSNE <- function(cdBinary, nDimToUSE, groups=NULL, cellName, perplexity_division, ret.val=FALSE , text.label=FALSE, title=\"\"){\n",
    "\n",
    "    if(missing(nDimToUSE)){\n",
    "    \tstop(\"ERROR: Number of PCA's \\\"nDimToUSE\\\" to use is missing\")\n",
    "    }\n",
    "    if(missing(ret.val)){\n",
    "        ret.val = FALSE\n",
    "    }\n",
    "    \n",
    "    if(text.label==TRUE & missing(cellName)){\n",
    "        stop(\"ERROR: Please give cellName\")\n",
    "    }\n",
    "    \n",
    "    if(missing(perplexity_division)){\n",
    "        stop(\"ERROR: Please enter the number with which you want to divide the dimension of your data for perplexity setting\")\n",
    "    }\n",
    "        \n",
    "    \n",
    "    #SingleCell.Binary.Jaccard <- getJaccardDist(cdBinary)\n",
    "    #FinalPCAData <- t(SingleCell.Binary.Jaccard)\n",
    "    \n",
    "    SingleCell.Binary.Jaccard <- getJaccardDist(cdBinary)\n",
    "    fit <- cmdscale(as.dist(SingleCell.Binary.Jaccard),eig=TRUE, k=nDimToUSE)\n",
    "\n",
    "    #pcaPRComp <- prcomp(FinalPCAData)\n",
    "\n",
    "    \n",
    "    #rtsne_pca_out <- Rtsne(as.matrix(pcaPRComp$x[,1:nPCAToUSE]), perplexity = dim(pcaPRComp$x)[1]/perplexity_division, check_duplicates = FALSE)\n",
    "    rtsne_pca_out <- Rtsne(as.matrix(fit$points[,1:nDimToUSE]), perplexity = perplexity_division, \n",
    "                           check_duplicates = FALSE, pca=FALSE, theta=0.01, max_iter=3000)\n",
    "    \n",
    "    if(is.null(groups)){\n",
    "        if(ret.val==TRUE)\n",
    "            df<-data.frame(X=rtsne_pca_out$Y[,1],Y=rtsne_pca_out$Y[,2], cellName=cellName)\n",
    "        else\n",
    "            df<-data.frame(X=rtsne_pca_out$Y[,1],Y=rtsne_pca_out$Y[,2])\n",
    "        p1 <- ggplot(df, aes_string(x=\"X\",y =\"Y\"))\n",
    "    }\n",
    "    else{\n",
    "        if(ret.val==TRUE)\n",
    "            df<-data.frame(X=rtsne_pca_out$Y[,1],Y=rtsne_pca_out$Y[,2], Cell=colnames(SingleCell.Binary.Jaccard), Batch=groups, cellName=cellName)\n",
    "        else\n",
    "            df<-data.frame(X=rtsne_pca_out$Y[,1],Y=rtsne_pca_out$Y[,2], Cell=colnames(SingleCell.Binary.Jaccard), Batch=groups)\n",
    "        p1 <- ggplot(df, aes_string(x=\"X\",y =\"Y\", color=\"Batch\"))\n",
    "    }\n",
    "    \n",
    "\n",
    "    p1<-p1 + ggtitle(\"t-SNE plot\")\n",
    "    p1<-p1 + geom_point(size = 2) \n",
    "    p1<-p1 + xlab(paste(\"Dim-1\"))\n",
    "    p1<-p1 + ylab(\"Dim-2\")+\n",
    "        theme_light(base_size=24) +\n",
    "        theme(strip.background = element_blank(),\n",
    "              panel.border     = element_blank(),\n",
    "              plot.title = element_text(hjust = 0.5))\n",
    "    if(length(levels(groups)) < 12)\n",
    "        p1 <- p1 + scale_colour_brewer(palette=\"Set1\")\n",
    "    if(text.label==TRUE)\n",
    "        p1<-p1 + geom_text(data=df,aes(label=cellName),alpha=0.5,size=4, vjust=1,hjust=0.5,angle=45)\n",
    "    print(p1)\n",
    "    return(df)\n",
    "}"
   ]
  },
  {
   "cell_type": "markdown",
   "metadata": {},
   "source": [
    "`plot_tSNE()`:\n",
    "> Caculates the t-distributed stochastic neighbor embedding (t-SNE) which is a non-linear dimensionality reduction technique particualrly suitable for embedding high-dimensional data into a space of two or three dimensions. This function then plots the lower dimensional representation of the cells in a 2-D scatter plot.\n",
    "\n",
    "Arguements:\n",
    "> `cdBinary`: The peak information converted into binary. Ideally this would be file that set in the `outputPeakFileName`. `cdBinary` would be used to calculate the Jaccard distance which would then be used as d matrix in MDS calculation<br>\n",
    "`nPCAToDisplay` : Number of PCAs to be used to calcualte the t-SNE values. <br>\n",
    "`groups`: If the cells can be organized into different groups (for eg. different batches), then they are passed as groups making them factor variable.<br>\n",
    "`ret.val`: Need to set this TRUE for the function to return the MDS values <br>\n",
    "`text.label`: Need to set this TRUE if label of each of the cells are to be printed in the plot.<br>\n",
    "`title`: Sets the title of the plot.\n",
    "\n",
    "\n",
    "Value:\n",
    "> Calculates and plots the t-SNE representation of the cells. "
   ]
  },
  {
   "cell_type": "code",
   "execution_count": 22,
   "metadata": {},
   "outputs": [],
   "source": [
    "%%R\n",
    "clean.count.peaks <- function(cd, min.cell.peaks.obs = 10, min.peaks.cell = 50){\n",
    "    cdFilt <- cd[,1:3]\n",
    "    cdCells <- cd[,4:dim(cd)[2]]\n",
    "    valid.cell.ix <- which(colSums(cdCells) >= min.peaks.cell)\n",
    "    cdFilt <- cbind(cdFilt,cdCells[,valid.cell.ix])\n",
    "    cdFilt <- cdFilt[rowSums(cdFilt[,4:dim(cdFilt)[2]]) >=min.cell.peaks.obs ,]\n",
    "    cdFiltTemp <- cdFilt[,1:3]\n",
    "    cdCells <- cdFilt[,4:dim(cdFilt)[2]]\n",
    "    valid.cell.ix <- which(colSums(cdCells) > 0)\n",
    "    cdFilt <- cbind(cdFiltTemp,cdCells[,valid.cell.ix])\n",
    "    return(cdFilt)\n",
    "}"
   ]
  },
  {
   "cell_type": "markdown",
   "metadata": {},
   "source": [
    "`clean.count.peaks()`:\n",
    "> This function filter peaks and cells based on peak and cell requirements.\n",
    "\n",
    "Usage:\n",
    "> `clean.count.peaks(cd, min.cell.peaks.obs = 10, min.peaks.cell = 50)`\n",
    "\n",
    "Arguements:\n",
    "> `cd`: A binay matrix with the peak accessiblity of all the single-cells. The row would reprsent each of the peaks unique name and the columns would be each cell. Each entry in the matrix is 0/1 representing either the peak is close/open for that cell. <br>\n",
    "> `min.cell.peaks.obs`: Minimum number of cells that a peak has to be observed in order for that peak to be a valid peak. <br>\n",
    "> `min.peaks.cell` : Minimum number of peaks that a cell needs to have in order for that cell to be called a valid cell. <br>\n",
    "\n",
    "Value:\n",
    "> A matrix with valid accessible peaks."
   ]
  },
  {
   "cell_type": "code",
   "execution_count": 23,
   "metadata": {},
   "outputs": [],
   "source": [
    "%%R\n",
    "multiplot <- function(..., plotList=NULL, File, cols=1, layout=NULL) {\n",
    "\n",
    "  # Adopted from Cookbook for R\n",
    "  library(grid)\n",
    "\n",
    "  plots <- c(list(...), plotList)\n",
    "\n",
    "  numPlots = length(plots)\n",
    "\n",
    "  if (is.null(layout)) {\n",
    "    layout <- matrix(seq(1, cols * ceiling(numPlots/cols)),\n",
    "                    ncol = cols, nrow = ceiling(numPlots/cols))\n",
    "  }\n",
    "\n",
    " if (numPlots==1) {\n",
    "    print(plots[[1]])\n",
    "\n",
    "  } else {\n",
    "    grid.newpage()\n",
    "    pushViewport(viewport(layout = grid.layout(nrow(layout), ncol(layout))))\n",
    "\n",
    "    # Make each plot, in the correct location\n",
    "    for (i in 1:numPlots) {\n",
    "      # Get the i,j matrix positions of the regions that contain this subplot\n",
    "      matchidx <- as.data.frame(which(layout == i, arr.ind = TRUE))\n",
    "\n",
    "      print(plots[[i]], vp = viewport(layout.pos.row = matchidx$row,\n",
    "                                      layout.pos.col = matchidx$col))\n",
    "    }\n",
    "  }\n",
    "}"
   ]
  },
  {
   "cell_type": "markdown",
   "metadata": {},
   "source": [
    "--------------"
   ]
  },
  {
   "cell_type": "markdown",
   "metadata": {},
   "source": [
    "# Analysis\n",
    "Below is the analysis for the deconvolution approach"
   ]
  },
  {
   "cell_type": "markdown",
   "metadata": {},
   "source": [
    "### Configuration Cell\n",
    "First we configure all the parameters for the Scasat tool."
   ]
  },
  {
   "cell_type": "code",
   "execution_count": 24,
   "metadata": {},
   "outputs": [],
   "source": [
    "# This cell holds the parameters for the tools\n",
    "\n",
    "# Set this parameter to the folder where all the Peak Files are. This has to be the folder\n",
    "# where each of the individual cells peak files reside\n",
    "peakFolder = '/home/mqbsxsm2/Rna-seq_Data-Analysis/syed_scATAC_ReDoing/All_Filtered_MACS2'\n",
    "\n",
    "\n",
    "# Set this parameter to the folder where the peaks for the merge files are. This can be the same folder\n",
    "# of all the individual cells peak folder or can be a single peak file that is generated from merging BAM files\n",
    "peakFolderToMerge = '/home/mqbsxsm2/Rna-seq_Data-Analysis/syed_scATAC_ReDoing/All_Filtered_BAM/'\n",
    "\n",
    "\n",
    "\n",
    "# Set up the pattern for the BAM file ending\n",
    "BAMFilePattern = '_nodup_sorted_cleaned.bam'\n",
    "\n",
    "# Set this parameter to the pattern that is common to all the peak file names that you wish to merge. \n",
    "# for eg, if you want to combine OE19_C01_peaks.narrowPeak and OE19_C02_peaks.narrowPeak then the\n",
    "# pattern would be '_peaks.narrowPeak'\n",
    "# Allowed patterns while calling with the pipeline provided here are\n",
    "# _summits_shifted.bed and '_peaks.narrowPeak'\n",
    "peakFilePattern = '_peaks.narrowPeak'\n",
    "\n",
    "# This would be automatically set to 'mergedPeaks.bed' file in peakFolder folder\n",
    "mergedPeakFile = peakFolderToMerge + 'mergedPeaks.bed'\n",
    "\n",
    "# Set this folder to where the PeakHits.csv File would be saved\n",
    "outputFolder = peakFolderToMerge\n",
    "\n",
    "# Set the outputPeakFileName name here\n",
    "outputPeakFileName = 'MixedPopulation_rerun.csv'\n",
    "\n",
    "# This will be automatically set to the 'PeakHits.csv' file in outputFolder folder\n",
    "peakFile = outputFolder + outputPeakFileName"
   ]
  },
  {
   "cell_type": "markdown",
   "metadata": {},
   "source": [
    "We now call `getAggregatedPeak()` to merge all the BAM files and generated the aggregated peak from the merged BAM file."
   ]
  },
  {
   "cell_type": "code",
   "execution_count": 30,
   "metadata": {},
   "outputs": [],
   "source": [
    "getAggregatedPeak(peakFolderToMerge, BAMFilePattern)"
   ]
  },
  {
   "cell_type": "markdown",
   "metadata": {},
   "source": [
    "To calculates the accessiblity of each of the peaks for all the cells we call the following function."
   ]
  },
  {
   "cell_type": "code",
   "execution_count": 31,
   "metadata": {
    "scrolled": true
   },
   "outputs": [],
   "source": [
    "%%R -i mergedPeakFile,peakFolder,peakFilePattern,outputFolder,outputPeakFileName\n",
    "peakAccessibility(mergedPeakFile, peakFolder, peakFilePattern, outputFolder, outputPeakFileName)"
   ]
  },
  {
   "cell_type": "markdown",
   "metadata": {},
   "source": [
    "We now read the file listing all the peaks for all the single cells. "
   ]
  },
  {
   "cell_type": "code",
   "execution_count": 25,
   "metadata": {},
   "outputs": [],
   "source": [
    "%%R -i peakFile\n",
    "cd <- read.csv(peakFile, sep=' ', header=TRUE)"
   ]
  },
  {
   "cell_type": "markdown",
   "metadata": {},
   "source": [
    "## Filtering accessible peaks\n",
    "Now we filter all the low quality cells and peaks. This is a very important step. Setting the threshold too low would cause low quality cells and peaks to go into downstream anlaysis whereas setting the threshold too stringent would cause high quality cells to be dropped. The choice of parameters for this filtering depends on the experimental design for eg. cell types and the research question that is being asked."
   ]
  },
  {
   "cell_type": "code",
   "execution_count": 26,
   "metadata": {},
   "outputs": [
    {
     "data": {
      "text/plain": [
       "[1] 236580    176\n",
       "[1] 52546   176\n"
      ]
     },
     "metadata": {},
     "output_type": "display_data"
    }
   ],
   "source": [
    "%%R\n",
    "cdFiltTop <- clean.count.peaks(cd)\n",
    "print(dim(cd))\n",
    "print(dim(cdFiltTop))"
   ]
  },
  {
   "cell_type": "code",
   "execution_count": 35,
   "metadata": {},
   "outputs": [],
   "source": [
    "%%R\n",
    "write.csv(cdFiltTop, 'cdFiltTop_MixedPopulation_ReRun.csv', sep='\\t')"
   ]
  },
  {
   "cell_type": "markdown",
   "metadata": {},
   "source": [
    "We seperate the cell names from the two batches"
   ]
  },
  {
   "cell_type": "code",
   "execution_count": 27,
   "metadata": {},
   "outputs": [
    {
     "data": {
      "text/plain": [
       "  [1] D D D D D D D D D D D D D D D D D D D D D D D D D D D D D D D D D D D D D\n",
       " [38] D D D D D D D D D D D D D D D D D D D D D D D D D D D D D D D D D D D D D\n",
       " [75] D D D D D D D D D D E E E E E E E E E E E E E E E E E E E E E E E E E E E\n",
       "[112] E E E E E E E E E E E E E E E E E E E E E E E E E E E E E E E E E E E E E\n",
       "[149] E E E E E E E E E E E E E E E E E E E E E E E E E\n",
       "Levels: D E\n"
      ]
     },
     "metadata": {},
     "output_type": "display_data"
    }
   ],
   "source": [
    "%%R\n",
    "cellNames <- colnames(cdFiltTop[,4:dim(cdFiltTop)[2]])\n",
    "cellTypes <- as.factor(gsub('[0-9]','',cellNames))\n",
    "cellTypes"
   ]
  },
  {
   "cell_type": "code",
   "execution_count": 28,
   "metadata": {},
   "outputs": [
    {
     "data": {
      "text/plain": [
       "cellTypes\n",
       " D  E \n",
       "84 89 \n"
      ]
     },
     "metadata": {},
     "output_type": "display_data"
    }
   ],
   "source": [
    "%%R\n",
    "table(cellTypes)"
   ]
  },
  {
   "cell_type": "markdown",
   "metadata": {},
   "source": [
    "We now apply MDS and plot it in a 2-D plot."
   ]
  },
  {
   "cell_type": "code",
   "execution_count": 41,
   "metadata": {},
   "outputs": [
    {
     "data": {
      "image/png": "[encoded data removed]"
     },
     "metadata": {},
     "output_type": "display_data"
    }
   ],
   "source": [
    "%%R\n",
    "MDSClust <- plotMDS(cdFiltTop, k=2, groups=cellTypes, ret.val=TRUE, text.label=FALSE, title=\"\")"
   ]
  },
  {
   "cell_type": "code",
   "execution_count": 42,
   "metadata": {},
   "outputs": [
    {
     "data": {
      "text/plain": [
       "png \n",
       "  2 \n"
      ]
     },
     "metadata": {},
     "output_type": "display_data"
    }
   ],
   "source": [
    "%%R\n",
    "pdf('MDS_All_updated_Without_Filtering.pdf')\n",
    "MDSClust <- plotMDS(cdFiltTop, k=2, groups=cellTypes, ret.val=TRUE, text.label=FALSE, title=\"\")\n",
    "dev.off()\n"
   ]
  },
  {
   "cell_type": "markdown",
   "metadata": {},
   "source": [
    "From the above figure it was clear that MDS is seperating the cells based on batch. So there is a large batch effect here. This could be due to information coming predominantly from one batch. So I will now see how much zeros and ones the cells in each batch have."
   ]
  },
  {
   "cell_type": "code",
   "execution_count": 39,
   "metadata": {},
   "outputs": [],
   "source": [
    "%%R\n",
    "cdDCell <- cdFiltTop[,4:87]\n",
    "cdECell <- cdFiltTop[,88:176]\n",
    "onesDCell <- rowSums(cdDCell)\n",
    "zerosDCell <- dim(cdDCell)[2] - onesDCell\n",
    "onesECell <- rowSums(cdECell)\n",
    "zerosECell <- dim(cdECell)[2] - onesECell"
   ]
  },
  {
   "cell_type": "code",
   "execution_count": 40,
   "metadata": {},
   "outputs": [
    {
     "data": {
      "image/png": "[encoded data removed]"
     },
     "metadata": {},
     "output_type": "display_data"
    }
   ],
   "source": [
    "%%R\n",
    "#hist(zerosDCell, xlab=\"Peakwise zeros in D cell\", breaks=100, main=\"Histogram of zeros in D cell\")\n",
    "#pdf('hist_of_Ones_D.pdf')\n",
    "hist1 <- qplot(onesDCell, geom=\"histogram\",  binwidth = 1,fill=I(\"white\"), \n",
    "      col=I(\"black\"), \n",
    "      alpha=I(.2),) + xlab(\"Number of cells\") + ggtitle(\"Accessible peaks in Batch-1 cells\")\n",
    "\n",
    "hist1 <- hist1 + theme_light(base_size=20) +\n",
    "        theme(strip.background = element_blank(),\n",
    "              panel.border     = element_blank(),\n",
    "              plot.title = element_text(hjust = 0.5))\n",
    "print(hist1)\n",
    "#dev.off()"
   ]
  },
  {
   "cell_type": "code",
   "execution_count": 266,
   "metadata": {},
   "outputs": [
    {
     "data": {
      "text/plain": [
       "png \n",
       "  2 \n"
      ]
     },
     "metadata": {},
     "output_type": "display_data"
    }
   ],
   "source": [
    "%%R\n",
    "pdf('hist_of_Ones_D.pdf')\n",
    "hist1 <- qplot(onesDCell, geom=\"histogram\",  binwidth = 1,fill=I(\"white\"), \n",
    "      col=I(\"black\"), \n",
    "      alpha=I(.2),) + xlab(\"Number of cells\") + ggtitle(\"Accessible peaks in Batch-1 cells\")\n",
    "\n",
    "hist1 <- hist1 + theme_light(base_size=20) +\n",
    "        theme(strip.background = element_blank(),\n",
    "              panel.border     = element_blank(),\n",
    "              plot.title = element_text(hjust = 0.5))\n",
    "print(hist1)\n",
    "dev.off()"
   ]
  },
  {
   "cell_type": "code",
   "execution_count": 41,
   "metadata": {},
   "outputs": [
    {
     "data": {
      "image/png": "[encoded data removed]"
     },
     "metadata": {},
     "output_type": "display_data"
    }
   ],
   "source": [
    "%%R\n",
    "#hist(zerosDCell, xlab=\"Peakwise zeros in D cell\", breaks=100, main=\"Histogram of zeros in D cell\")\n",
    "#pdf('hist_of_Ones_E.pdf')\n",
    "hist1 <- qplot(onesECell, geom=\"histogram\",  binwidth = 1,fill=I(\"white\"), \n",
    "      col=I(\"black\"), \n",
    "      alpha=I(.2),) + xlab(\"Number of cells\") + ggtitle(\"Accessible peaks in Batch-2 cells\") + ylim(0,5000)\n",
    "\n",
    "hist1 <- hist1 + theme_light(base_size=20) +\n",
    "        theme(strip.background = element_blank(),\n",
    "              panel.border     = element_blank(),\n",
    "              plot.title = element_text(hjust = 0.5))\n",
    "print(hist1)\n",
    "#dev.off()"
   ]
  },
  {
   "cell_type": "code",
   "execution_count": 267,
   "metadata": {},
   "outputs": [
    {
     "data": {
      "text/plain": [
       "png \n",
       "  2 \n"
      ]
     },
     "metadata": {},
     "output_type": "display_data"
    }
   ],
   "source": [
    "%%R\n",
    "pdf('hist_of_Ones_E.pdf')\n",
    "hist1 <- qplot(onesECell, geom=\"histogram\",  binwidth = 1,fill=I(\"white\"), \n",
    "      col=I(\"black\"), \n",
    "      alpha=I(.2),) + xlab(\"Number of cells\") + ggtitle(\"Accessible peaks in Batch-2 cells\") + ylim(0,5000)\n",
    "\n",
    "hist1 <- hist1 + theme_light(base_size=20) +\n",
    "        theme(strip.background = element_blank(),\n",
    "              panel.border     = element_blank(),\n",
    "              plot.title = element_text(hjust = 0.5))\n",
    "print(hist1)\n",
    "dev.off()"
   ]
  },
  {
   "cell_type": "markdown",
   "metadata": {},
   "source": [
    "So it is clear that Batch-1 is having more zeros than Batch-2 and OE19. So we would be applying an additional filtering"
   ]
  },
  {
   "cell_type": "markdown",
   "metadata": {},
   "source": [
    "## Additional Filtering\n",
    "We need an additional filtering on top of the `clean.count.peaks` so that number of ones in each batch is similar. In this filtering we would only keep the peaks that are observed in more than 2 peaks in each batch. "
   ]
  },
  {
   "cell_type": "code",
   "execution_count": 43,
   "metadata": {},
   "outputs": [
    {
     "data": {
      "text/plain": [
       "[1] 37071   176\n"
      ]
     },
     "metadata": {},
     "output_type": "display_data"
    }
   ],
   "source": [
    "%%R\n",
    "cdFiltTopSel <- cdFiltTop[rowSums(cdFiltTop[,4:87])>2,]\n",
    "cdFiltTopSel <- cdFiltTopSel[rowSums(cdFiltTopSel[,88:176])>2,]\n",
    "print(dim(cdFiltTopSel))\n",
    "#write.csv(cdFiltTopSel, 'cdFiltTopSel.csv', sep='\\t')"
   ]
  },
  {
   "cell_type": "code",
   "execution_count": 44,
   "metadata": {},
   "outputs": [
    {
     "data": {
      "image/png": "[encoded data removed]"
     },
     "metadata": {},
     "output_type": "display_data"
    }
   ],
   "source": [
    "%%R -w 450 -h 450\n",
    "MDSClust <- plotMDS(cdFiltTopSel, 3, groups=cellTypes, ret.val=TRUE, text.label=FALSE, title=\"\")"
   ]
  },
  {
   "cell_type": "code",
   "execution_count": 45,
   "metadata": {},
   "outputs": [
    {
     "data": {
      "text/plain": [
       "png \n",
       "  2 \n"
      ]
     },
     "metadata": {},
     "output_type": "display_data"
    }
   ],
   "source": [
    "%%R\n",
    "pdf('MDS_updated_after_Batch_Correction.pdf')\n",
    "MDSClust <- plotMDS(cdFiltTopSel, 3, groups=cellTypes, ret.val=TRUE, text.label=FALSE, title=\"\")\n",
    "dev.off()"
   ]
  },
  {
   "cell_type": "markdown",
   "metadata": {},
   "source": [
    "So this filtering clearly removes the batch effect and the cells are no longer seperated with batches."
   ]
  },
  {
   "cell_type": "code",
   "execution_count": 58,
   "metadata": {},
   "outputs": [],
   "source": [
    "%%R\n",
    "write.table(cdFiltTopSel[,1:3], '/home/mqbsxsm2/Rna-seq_Data-Analysis/syed_scATAC_ReDoing/All_Filtered_BAM/MergedFilt_ReDo.txt', row.names=FALSE, sep='\\t',quote=FALSE)"
   ]
  },
  {
   "cell_type": "markdown",
   "metadata": {},
   "source": [
    "## K-medoid clustering\n",
    "\n",
    "I would now apply k-medoid clustering to cluster the cells. As I already know that there are three cell-lines mixed I would choose k as three. While calculating k-medoid we passed the Jaccard distance as data value instead of actual data."
   ]
  },
  {
   "cell_type": "code",
   "execution_count": 46,
   "metadata": {},
   "outputs": [],
   "source": [
    "%%R\n",
    "pamx <- pam(as.dist(getJaccardDist(cdFiltTopSel[,4:dim(cdFiltTopSel)[2]])), k=3, diss=TRUE)"
   ]
  },
  {
   "cell_type": "markdown",
   "metadata": {},
   "source": [
    "So the k-medoid clusters the cells as-"
   ]
  },
  {
   "cell_type": "code",
   "execution_count": 47,
   "metadata": {},
   "outputs": [
    {
     "data": {
      "text/plain": [
       "\n",
       " 1  2  3 \n",
       "41 80 52 \n"
      ]
     },
     "metadata": {},
     "output_type": "display_data"
    }
   ],
   "source": [
    "%%R\n",
    "table(pamx$clustering)"
   ]
  },
  {
   "cell_type": "code",
   "execution_count": 48,
   "metadata": {},
   "outputs": [],
   "source": [
    "%%R\n",
    "clusterInfo <- data.frame(CellName = names(pamx$clustering), Cluster=pamx$clustering)"
   ]
  },
  {
   "cell_type": "code",
   "execution_count": 52,
   "metadata": {},
   "outputs": [
    {
     "data": {
      "image/png": "[encoded data removed]"
     },
     "metadata": {},
     "output_type": "display_data"
    }
   ],
   "source": [
    "%%R\n",
    "CellClust <- paste0('Cluster-',as.character(pamx$clustering))\n",
    "MDSClust <- plotMDSClust(cdFiltTopSel, 4, Clusters=CellClust, ret.val=TRUE, text.label=FALSE, title=\"\")"
   ]
  },
  {
   "cell_type": "code",
   "execution_count": 70,
   "metadata": {},
   "outputs": [
    {
     "data": {
      "text/plain": [
       "png \n",
       "  2 \n"
      ]
     },
     "metadata": {},
     "output_type": "display_data"
    }
   ],
   "source": [
    "%%R\n",
    "pdf('MDS_updated_Cluster.pdf')\n",
    "MDSClust <- plotMDSClust(cdFiltTopSel, 4, Clusters=CellClust, ret.val=TRUE, text.label=FALSE, title=\"\")\n",
    "dev.off()"
   ]
  },
  {
   "cell_type": "code",
   "execution_count": 49,
   "metadata": {},
   "outputs": [
    {
     "data": {
      "image/png": "[encoded data removed]"
     },
     "metadata": {},
     "output_type": "display_data"
    }
   ],
   "source": [
    "%%R\n",
    "set.seed(100)\n",
    "#pdf('tSNE-All-Batch.pdf')\n",
    "tsNE_out_2PCs <- plot_tSNE(cdFiltTop, 14, groups=CellClust, perplexity=30, \n",
    "                              cellName=cellNames,ret.val=TRUE, text.label=F)"
   ]
  },
  {
   "cell_type": "code",
   "execution_count": 53,
   "metadata": {},
   "outputs": [
    {
     "data": {
      "image/png": "[encoded data removed]"
     },
     "metadata": {},
     "output_type": "display_data"
    }
   ],
   "source": [
    "%%R\n",
    "set.seed(100)\n",
    "#pdf('tSNE-All-Batch.pdf')\n",
    "tsNE_out_2PCs <- plot_tSNE(cdFiltTop, 6, groups=CellClust, perplexity=30, \n",
    "                              cellName=cellNames,ret.val=TRUE, text.label=F)"
   ]
  },
  {
   "cell_type": "code",
   "execution_count": 65,
   "metadata": {
    "scrolled": true
   },
   "outputs": [
    {
     "data": {
      "text/plain": [
       "    CellName clusterInfo\n",
       "2        D02   Cluster-2\n",
       "3        D03   Cluster-2\n",
       "5        D05   Cluster-2\n",
       "6        D06   Cluster-2\n",
       "7        D07   Cluster-2\n",
       "8        D08   Cluster-2\n",
       "9        D09   Cluster-2\n",
       "11       D11   Cluster-2\n",
       "12       D12   Cluster-2\n",
       "13       D13   Cluster-2\n",
       "14       D14   Cluster-2\n",
       "16       D16   Cluster-2\n",
       "17       D17   Cluster-2\n",
       "18       D18   Cluster-2\n",
       "19       D19   Cluster-2\n",
       "21       D21   Cluster-2\n",
       "22       D23   Cluster-2\n",
       "24       D27   Cluster-2\n",
       "30       D33   Cluster-2\n",
       "31       D34   Cluster-2\n",
       "33       D36   Cluster-2\n",
       "35       D38   Cluster-2\n",
       "36       D39   Cluster-2\n",
       "37       D40   Cluster-2\n",
       "44       D47   Cluster-2\n",
       "46       D50   Cluster-2\n",
       "48       D54   Cluster-2\n",
       "51       D57   Cluster-2\n",
       "53       D59   Cluster-2\n",
       "56       D62   Cluster-2\n",
       "58       D64   Cluster-2\n",
       "60       D66   Cluster-2\n",
       "62       D69   Cluster-2\n",
       "63       D70   Cluster-2\n",
       "64       D72   Cluster-2\n",
       "66       D75   Cluster-2\n",
       "67       D76   Cluster-2\n",
       "69       D79   Cluster-2\n",
       "70       D80   Cluster-2\n",
       "71       D81   Cluster-2\n",
       "72       D82   Cluster-2\n",
       "73       D83   Cluster-2\n",
       "74       D84   Cluster-2\n",
       "75       D86   Cluster-2\n",
       "80       D91   Cluster-2\n",
       "81       D92   Cluster-2\n",
       "82       D94   Cluster-2\n",
       "84       D96   Cluster-2\n",
       "85       E01   Cluster-2\n",
       "87       E03   Cluster-2\n",
       "91       E07   Cluster-2\n",
       "92       E08   Cluster-2\n",
       "100      E16   Cluster-2\n",
       "102      E18   Cluster-2\n",
       "103      E19   Cluster-2\n",
       "105      E21   Cluster-2\n",
       "112      E28   Cluster-2\n",
       "115      E31   Cluster-2\n",
       "116      E32   Cluster-2\n",
       "117      E33   Cluster-2\n",
       "118      E34   Cluster-2\n",
       "121      E37   Cluster-2\n",
       "126      E42   Cluster-2\n",
       "127      E43   Cluster-2\n",
       "131      E47   Cluster-2\n",
       "135      E52   Cluster-2\n",
       "138      E55   Cluster-2\n",
       "141      E58   Cluster-2\n",
       "142      E59   Cluster-2\n",
       "143      E60   Cluster-2\n",
       "150      E69   Cluster-2\n",
       "153      E72   Cluster-2\n",
       "154      E73   Cluster-2\n",
       "158      E78   Cluster-2\n",
       "163      E83   Cluster-2\n",
       "166      E89   Cluster-2\n",
       "167      E90   Cluster-2\n",
       "168      E91   Cluster-2\n",
       "171      E94   Cluster-2\n",
       "173      E96   Cluster-2\n"
      ]
     },
     "metadata": {},
     "output_type": "display_data"
    }
   ],
   "source": [
    "%%R\n",
    "cellInfoWithClust <- data.frame(CellName = colnames(cdFiltTopSel[,4:dim(cdFiltTopSel)[2]]),\n",
    "                               clusterInfo = CellClust)\n",
    "cellInfoWithClust[cellInfoWithClust$clusterInfo==\"Cluster-2\",]"
   ]
  },
  {
   "cell_type": "code",
   "execution_count": 63,
   "metadata": {},
   "outputs": [
    {
     "data": {
      "image/png": "[encoded data removed]"
     },
     "metadata": {},
     "output_type": "display_data"
    }
   ],
   "source": [
    "%%R\n",
    "set.seed(100)\n",
    "#pdf('tSNE-All-Batch.pdf')\n",
    "tsNE_out_2PCs <- plot_tSNE(cdFiltTopSel, 14, groups=CellClust, perplexity=30, \n",
    "                              cellName=colnames(cdFiltTopSel[,4:dim(cdFiltTopSel)[2]]),ret.val=TRUE, text.label=F)"
   ]
  },
  {
   "cell_type": "markdown",
   "metadata": {},
   "source": [
    "## Clustering purified cells with mixed population\n",
    "We now cluster the two batches of OE19 single cells and the HET1A single cells from purified cells. This is to confirm that the clusters that we have identified from the mix population groups with their corresponding cell-type from the purified cell types.\n",
    "\n",
    "We will use the same `mergedPeaksFilt.bed` that we have prepared from the mixture of the cell-population."
   ]
  },
  {
   "cell_type": "markdown",
   "metadata": {},
   "source": [
    "### HET1A cells peak accessiblity\n",
    "We first identify the peak accessiblity for HET1A cells."
   ]
  },
  {
   "cell_type": "code",
   "execution_count": 54,
   "metadata": {},
   "outputs": [],
   "source": [
    "%%R\n",
    "mergedPeakFile = '/home/mqbsxsm2/Rna-seq_Data-Analysis/syed_scATAC_ReDoing/All_Filtered_BAM/MergedFilt_ReDo.bed'\n",
    "HET1ApeakFileFolder = '/home/mqbsxsm2/Rna-seq_Data-Analysis/syed_scATAC_ReDoing/HET1A_Batch1_Filtered_MACS2_files/'"
   ]
  },
  {
   "cell_type": "code",
   "execution_count": 69,
   "metadata": {},
   "outputs": [],
   "source": [
    "%%R\n",
    "peakAccessibility(mergedPeakFile,HET1ApeakFileFolder, '.narrowPeak', HET1ApeakFileFolder, 'HET1A_ReRun_peaks.csv')"
   ]
  },
  {
   "cell_type": "code",
   "execution_count": 55,
   "metadata": {},
   "outputs": [],
   "source": [
    "%%R\n",
    "HET1A_peakFile <- '/home/mqbsxsm2/Rna-seq_Data-Analysis/syed_scATAC_ReDoing/HET1A_Batch1_Filtered_MACS2_files/HET1A_ReRun_peaks.csv'"
   ]
  },
  {
   "cell_type": "code",
   "execution_count": 56,
   "metadata": {},
   "outputs": [],
   "source": [
    "%%R\n",
    "cdHET1A <- read.csv(HET1A_peakFile, sep=' ')\n",
    "HET1Acellnames <- c(colnames(cdHET1A[,1:3]), paste0('HET1A-B1_C',gsub('X','',gsub('_.*','',colnames(cdHET1A[,4:dim(cdHET1A)[2]])))))\n",
    "colnames(cdHET1A) <- HET1Acellnames"
   ]
  },
  {
   "cell_type": "code",
   "execution_count": null,
   "metadata": {},
   "outputs": [],
   "source": []
  },
  {
   "cell_type": "markdown",
   "metadata": {},
   "source": [
    "### OE19-B1 cells peak accessiblity\n",
    "We first identify the peak accessiblity for OE19-B1 cells."
   ]
  },
  {
   "cell_type": "code",
   "execution_count": 57,
   "metadata": {},
   "outputs": [],
   "source": [
    "%%R\n",
    "mergedPeakFile = '/home/mqbsxsm2/Rna-seq_Data-Analysis/syed_scATAC_ReDoing/All_Filtered_BAM/MergedFilt_ReDo.bed'\n",
    "OE19_B1_peakFileFolder = '/home/mqbsxsm2/Rna-seq_Data-Analysis/syed_scATAC_ReDoing/OE19_Batch1_Filtered_MACS2_files/'"
   ]
  },
  {
   "cell_type": "code",
   "execution_count": 74,
   "metadata": {},
   "outputs": [],
   "source": [
    "%%R\n",
    "peakAccessibility(mergedPeakFile,OE19_B1_peakFileFolder, '.narrowPeak', OE19_B1_peakFileFolder, 'OE19_B1_ReRun_peaks.csv')"
   ]
  },
  {
   "cell_type": "code",
   "execution_count": 58,
   "metadata": {},
   "outputs": [],
   "source": [
    "%%R\n",
    "OE19_B1_peakFile <- '/home/mqbsxsm2/Rna-seq_Data-Analysis/syed_scATAC_ReDoing/OE19_Batch1_Filtered_MACS2_files/OE19_B1_ReRun_peaks.csv'"
   ]
  },
  {
   "cell_type": "code",
   "execution_count": 59,
   "metadata": {},
   "outputs": [],
   "source": [
    "%%R\n",
    "cdOE19_B1 <- read.csv(OE19_B1_peakFile, sep=' ')\n",
    "OE19_B1cellnames <- c(colnames(cdOE19_B1[,1:3]), paste0('OE19-B1_C',gsub('X','',gsub('_.*','',colnames(cdOE19_B1[,4:dim(cdOE19_B1)[2]])))))\n",
    "colnames(cdOE19_B1) <- OE19_B1cellnames"
   ]
  },
  {
   "cell_type": "code",
   "execution_count": null,
   "metadata": {},
   "outputs": [],
   "source": []
  },
  {
   "cell_type": "markdown",
   "metadata": {},
   "source": [
    "### OE19-B2 cells peak accessiblity\n",
    "We first identify the peak accessiblity for OE19-B2 cells."
   ]
  },
  {
   "cell_type": "code",
   "execution_count": 60,
   "metadata": {},
   "outputs": [],
   "source": [
    "%%R\n",
    "mergedPeakFile = '/home/mqbsxsm2/Rna-seq_Data-Analysis/syed_scATAC_ReDoing/All_Filtered_BAM/MergedFilt_ReDo.bed'\n",
    "OE19_B2_peakFileFolder = '/home/mqbsxsm2/Rna-seq_Data-Analysis/syed_scATAC_ReDoing/OE19_Batch2_Filtered_MACS2_files/'"
   ]
  },
  {
   "cell_type": "code",
   "execution_count": 79,
   "metadata": {},
   "outputs": [],
   "source": [
    "%%R\n",
    "peakAccessibility(mergedPeakFile,OE19_B2_peakFileFolder, '.narrowPeak', OE19_B2_peakFileFolder, 'OE19_B2_ReRun_peaks.csv')"
   ]
  },
  {
   "cell_type": "code",
   "execution_count": 61,
   "metadata": {},
   "outputs": [],
   "source": [
    "%%R\n",
    "OE19_B2_peakFile <- '/home/mqbsxsm2/Rna-seq_Data-Analysis/syed_scATAC_ReDoing/OE19_Batch2_Filtered_MACS2_files/OE19_B2_ReRun_peaks.csv'"
   ]
  },
  {
   "cell_type": "code",
   "execution_count": 62,
   "metadata": {},
   "outputs": [],
   "source": [
    "%%R\n",
    "cdOE19_B2 <- read.csv(OE19_B2_peakFile, sep=' ')\n",
    "OE19_B2cellnames <- c(colnames(cdOE19_B2[,1:3]), paste0('OE19-B2_C',gsub('X','',gsub('_.*','',colnames(cdOE19_B2[,4:dim(cdOE19_B2)[2]])))))\n",
    "colnames(cdOE19_B2) <- OE19_B2cellnames"
   ]
  },
  {
   "cell_type": "code",
   "execution_count": 63,
   "metadata": {},
   "outputs": [],
   "source": [
    "%%R\n",
    "cdAll <- cbind(cdFiltTopSel,cdHET1A[,4:dim(cdHET1A)[2]],cdOE19_B1[,4:dim(cdOE19_B1)[2]],cdOE19_B2[,4:dim(cdOE19_B2)[2]])"
   ]
  },
  {
   "cell_type": "code",
   "execution_count": 64,
   "metadata": {},
   "outputs": [
    {
     "data": {
      "text/plain": [
       "[1] 17013   408\n"
      ]
     },
     "metadata": {},
     "output_type": "display_data"
    }
   ],
   "source": [
    "%%R\n",
    "cdAllSel <- cdAll[rowSums(cdAll[,4:87])>2,]\n",
    "cdAllSel <- cdAllSel[rowSums(cdAllSel[,88:176])>2,]\n",
    "cdAllSel <- cdAllSel[rowSums(cdAllSel[,177:252])>2,]\n",
    "cdAllSel <- cdAllSel[rowSums(cdAllSel[,253:322])>2,]\n",
    "cdAllSel <- cdAllSel[rowSums(cdAllSel[,323:408])>2,]\n",
    "print(dim(cdAllSel))"
   ]
  },
  {
   "cell_type": "code",
   "execution_count": 65,
   "metadata": {},
   "outputs": [],
   "source": [
    "%%R\n",
    "cellInfoWithClust <- data.frame(CellName = colnames(cdFiltTopSel[,4:dim(cdFiltTopSel)[2]]),\n",
    "                               clusterInfo = CellClust)"
   ]
  },
  {
   "cell_type": "code",
   "execution_count": 66,
   "metadata": {},
   "outputs": [],
   "source": [
    "%%R\n",
    "cellTypes <- c(CellClust, \n",
    "               gsub('_.*','',colnames(cdHET1A[,4:dim(cdHET1A)[2]])),\n",
    "               gsub('_.*','',colnames(cdOE19_B1[,4:dim(cdOE19_B1)[2]])),\n",
    "               gsub('_.*','',colnames(cdOE19_B2[,4:dim(cdOE19_B2)[2]])))"
   ]
  },
  {
   "cell_type": "code",
   "execution_count": 67,
   "metadata": {
    "scrolled": true
   },
   "outputs": [],
   "source": [
    "%%R\n",
    "cellTypes <- gsub('HET1A-B1','HET1A', cellTypes)"
   ]
  },
  {
   "cell_type": "code",
   "execution_count": 68,
   "metadata": {},
   "outputs": [
    {
     "data": {
      "image/png": "[encoded data removed]"
     },
     "metadata": {},
     "output_type": "display_data"
    }
   ],
   "source": [
    "%%R\n",
    "MDSClust <- plotMDSClust(cdAll, 4, Clusters=cellTypes, ret.val=TRUE, text.label=FALSE, title=\"\")"
   ]
  },
  {
   "cell_type": "code",
   "execution_count": 69,
   "metadata": {},
   "outputs": [
    {
     "data": {
      "text/plain": [
       "png \n",
       "  2 \n"
      ]
     },
     "metadata": {},
     "output_type": "display_data"
    }
   ],
   "source": [
    "%%R\n",
    "pdf('MDS_withAll.pdf')\n",
    "MDSClust <- plotMDSClust(cdAll, 4, Clusters=cellTypes, ret.val=TRUE, text.label=FALSE, title=\"\")\n",
    "dev.off()"
   ]
  },
  {
   "cell_type": "code",
   "execution_count": 325,
   "metadata": {},
   "outputs": [
    {
     "data": {
      "image/png": "[encoded data removed]"
     },
     "metadata": {},
     "output_type": "display_data"
    }
   ],
   "source": [
    "%%R\n",
    "set.seed(100)\n",
    "#pdf('tSNE-All-Batch.pdf')\n",
    "tsNE_out_2PCs <- plot_tSNE(cdAll, 14, groups=cellTypes, perplexity=28, \n",
    "                              cellName=colnames(cdAll[,4:dim(cdAll)[2]]),ret.val=TRUE, text.label=F)"
   ]
  },
  {
   "cell_type": "code",
   "execution_count": 298,
   "metadata": {},
   "outputs": [
    {
     "data": {
      "text/plain": [
       "png \n",
       "  2 \n"
      ]
     },
     "metadata": {},
     "output_type": "display_data"
    }
   ],
   "source": [
    "%%R\n",
    "set.seed(100)\n",
    "pdf('tSNE-Updated_All.pdf')\n",
    "tsNE_out_2PCs <- plot_tSNE(cdAll, 14, groups=cellTypes, perplexity=28, \n",
    "                              cellName=colnames(cdAll[,4:dim(cdAll)[2]]),ret.val=TRUE, text.label=F)\n",
    "dev.off()"
   ]
  },
  {
   "cell_type": "markdown",
   "metadata": {},
   "source": [
    "We could clearly see from the MDS and the t-SNE plot that Cluster-2 groups with OE19 cells, Cluster-3 groups with HET1A and Cluster-1 remains independent which we believe would be the OE33 cells. There are some mixture of cells in each of the groups, but we would still take the clusters that k-medoid gave."
   ]
  },
  {
   "cell_type": "markdown",
   "metadata": {},
   "source": [
    "## Generate Merged data for the clusters\n",
    "Now we will have the merged data for each of the clusters"
   ]
  },
  {
   "cell_type": "markdown",
   "metadata": {},
   "source": [
    "For Cluster-1"
   ]
  },
  {
   "cell_type": "code",
   "execution_count": 101,
   "metadata": {},
   "outputs": [],
   "source": [
    "BAMFolderToMerge = '/home/mqbsxsm2/Rna-seq_Data-Analysis/syed_scATAC_ReDoing/Group1_BAM_files/'\n",
    "getAggregatedPeak(BAMFolderToMerge, BAMFilePattern)"
   ]
  },
  {
   "cell_type": "markdown",
   "metadata": {},
   "source": [
    "For Cluster-2"
   ]
  },
  {
   "cell_type": "code",
   "execution_count": 102,
   "metadata": {},
   "outputs": [],
   "source": [
    "BAMFolderToMerge = '/home/mqbsxsm2/Rna-seq_Data-Analysis/syed_scATAC_ReDoing/Group2_BAM_files/'\n",
    "getAggregatedPeak(BAMFolderToMerge, BAMFilePattern)"
   ]
  },
  {
   "cell_type": "markdown",
   "metadata": {},
   "source": [
    "For Cluster-3"
   ]
  },
  {
   "cell_type": "code",
   "execution_count": 103,
   "metadata": {},
   "outputs": [],
   "source": [
    "BAMFolderToMerge = '/home/mqbsxsm2/Rna-seq_Data-Analysis/syed_scATAC_ReDoing/Group3_BAM_files/'\n",
    "getAggregatedPeak(BAMFolderToMerge, BAMFilePattern)"
   ]
  },
  {
   "cell_type": "markdown",
   "metadata": {},
   "source": [
    "For HET1A-B1... for HET1A-B1, we would need to modify the macs2 calls to run the single-end data."
   ]
  },
  {
   "cell_type": "code",
   "execution_count": 108,
   "metadata": {},
   "outputs": [],
   "source": [
    "BAMFilePattern = '_nodup_noexclu_sorted.bam'\n",
    "BAMFolderToMerge = '/home/mqbsxsm2/Rna-seq_Data-Analysis/syed_scATAC_ReDoing/HET1A_Filtered_BAM/'\n",
    "getAggregatedPeakSE(BAMFolderToMerge, BAMFilePattern)"
   ]
  },
  {
   "cell_type": "markdown",
   "metadata": {},
   "source": [
    "For OE19-B1. Similarly for OE19-B1, we would need to modify the macs2 calls to run the single-end data."
   ]
  },
  {
   "cell_type": "code",
   "execution_count": 109,
   "metadata": {},
   "outputs": [],
   "source": [
    "BAMFilePattern = '_nodup_noexclu_sorted.bam'\n",
    "BAMFolderToMerge = '/home/mqbsxsm2/Rna-seq_Data-Analysis/syed_scATAC_ReDoing/OE19_Batch1_Filtered_BAM/'\n",
    "getAggregatedPeakSE(BAMFolderToMerge, BAMFilePattern)"
   ]
  },
  {
   "cell_type": "markdown",
   "metadata": {},
   "source": [
    "For OE19-B2"
   ]
  },
  {
   "cell_type": "code",
   "execution_count": 111,
   "metadata": {},
   "outputs": [],
   "source": [
    "BAMFilePattern = '_nodup_sorted.bam'\n",
    "BAMFolderToMerge = '/home/mqbsxsm2/Rna-seq_Data-Analysis/syed_scATAC_ReDoing/OE19_Batch2_Filtered_BAM/'\n",
    "getAggregatedPeak(BAMFolderToMerge, BAMFilePattern)"
   ]
  },
  {
   "cell_type": "code",
   "execution_count": 104,
   "metadata": {},
   "outputs": [
    {
     "data": {
      "text/plain": [
       "'_nodup_sorted_cleaned.bam'"
      ]
     },
     "execution_count": 104,
     "metadata": {},
     "output_type": "execute_result"
    }
   ],
   "source": [
    "BAMFilePattern"
   ]
  },
  {
   "cell_type": "markdown",
   "metadata": {},
   "source": [
    "## Correlation wth Bulk dataset\n",
    "\n",
    "Now in order to find out which of the clusters correspond to which cell type we would calculate the correlation of each cluster with Bulk dataset of HET1A, OE19 and OE33. We have already writen the filtered peaks in the `mergedPeaksFilt.bed` file. We have also merged the BAM files for all cells in each individual cluster and call peaks on those merged files. All the peaks are then saved in the folder `Group_Peak_Files_with_Sig_Corr_Cluster`. "
   ]
  },
  {
   "cell_type": "markdown",
   "metadata": {},
   "source": [
    "Calculating peak accessibility for each clusters."
   ]
  },
  {
   "cell_type": "code",
   "execution_count": 128,
   "metadata": {},
   "outputs": [],
   "source": [
    "%%R\n",
    "mergedPeakFile = '/home/mqbsxsm2/Rna-seq_Data-Analysis/syed_scATAC_ReDoing/All_Filtered_BAM/MergedFilt_ReDo.bed'\n",
    "GroupPeakFolder='/home/mqbsxsm2/Rna-seq_Data-Analysis/syed_scATAC_ReDoing/AllCluster_Bulk_Files/'\n",
    "peakAccessibility(mergedPeakFile,GroupPeakFolder, '.narrowPeak', GroupPeakFolder, 'All_sc_and_Bulk_Peaks.csv')"
   ]
  },
  {
   "cell_type": "markdown",
   "metadata": {},
   "source": [
    "Reading peak files for clusters."
   ]
  },
  {
   "cell_type": "code",
   "execution_count": 275,
   "metadata": {},
   "outputs": [],
   "source": [
    "%%R\n",
    "cdAll <- read.csv('/home/mqbsxsm2/Rna-seq_Data-Analysis/syed_scATAC_ReDoing/AllCluster_Bulk_Files/All_sc_and_Bulk_Peaks.csv',\n",
    "                           header=TRUE, sep=' ')"
   ]
  },
  {
   "cell_type": "markdown",
   "metadata": {},
   "source": [
    "We now calculate the correlation agains each other."
   ]
  },
  {
   "cell_type": "code",
   "execution_count": 276,
   "metadata": {},
   "outputs": [
    {
     "data": {
      "text/plain": [
       " [1] \"seqnames\"                \"start\"                  \n",
       " [3] \"end\"                     \"Cluster1_Filtered_peaks\"\n",
       " [5] \"Cluster2_Filtered_peaks\" \"Cluster3_Filtered_peaks\"\n",
       " [7] \"HET1A.B1_Filtered_peaks\" \"HET1A.Bulk_peaks\"       \n",
       " [9] \"OE19.B1_Filtered_peaks\"  \"OE19.B2_Filtered_peaks\" \n",
       "[11] \"OE19.Bulk_peaks\"         \"OE33.Bulk_peaks\"        \n"
      ]
     },
     "metadata": {},
     "output_type": "display_data"
    }
   ],
   "source": [
    "%%R\n",
    "colnames(cdAll)"
   ]
  },
  {
   "cell_type": "code",
   "execution_count": 278,
   "metadata": {},
   "outputs": [],
   "source": [
    "%%R\n",
    "colnames(cdAll) <- c(colnames(cdAll[,1:3]), gsub('_.*','',colnames(cdAll[,4:dim(cdAll)[2]])))"
   ]
  },
  {
   "cell_type": "code",
   "execution_count": 280,
   "metadata": {},
   "outputs": [
    {
     "data": {
      "text/plain": [
       " [1] \"seqnames\"   \"start\"      \"end\"        \"Cluster1\"   \"Cluster2\"  \n",
       " [6] \"Cluster3\"   \"HET1A\"      \"HET1A.Bulk\" \"OE19.B1\"    \"OE19.B2\"   \n",
       "[11] \"OE19.Bulk\"  \"OE33.Bulk\" \n"
      ]
     },
     "metadata": {},
     "output_type": "display_data"
    }
   ],
   "source": [
    "%%R\n",
    "colnames(cdAll) <- c(colnames(cdAll[,1:6]), 'HET1A', colnames(cdAll[,8:12]))\n",
    "colnames(cdAll)"
   ]
  },
  {
   "cell_type": "code",
   "execution_count": 281,
   "metadata": {},
   "outputs": [],
   "source": [
    "%%R\n",
    "M <- cor(cdAll[,4:dim(cdAll)[2]], method=\"pearson\")"
   ]
  },
  {
   "cell_type": "code",
   "execution_count": 282,
   "metadata": {},
   "outputs": [
    {
     "data": {
      "image/png": "[encoded data removed]"
     },
     "metadata": {},
     "output_type": "display_data"
    }
   ],
   "source": [
    "%%R\n",
    "corrplot(M, method=\"color\", p.mat = M, insig = \"p-value\", sig.level=-1, order=\"hclust\", addrect=3)"
   ]
  },
  {
   "cell_type": "code",
   "execution_count": 283,
   "metadata": {},
   "outputs": [
    {
     "data": {
      "text/plain": [
       "png \n",
       "  2 \n"
      ]
     },
     "metadata": {},
     "output_type": "display_data"
    }
   ],
   "source": [
    "%%R\n",
    "pdf('corHeat_updated.pdf')\n",
    "corrplot(M, method=\"color\", p.mat = M, insig = \"p-value\", sig.level=-1, order=\"hclust\", addrect=3)\n",
    "dev.off()"
   ]
  },
  {
   "cell_type": "markdown",
   "metadata": {},
   "source": [
    "The correlation coefficients are printed in each cell. we set the `sig.level` to -1 so that all the values are printed in the plot. From the plot it we could assign Cluster1 with OE33, Cluster2 with  OE19 and Cluster3 with HET1A. "
   ]
  },
  {
   "cell_type": "markdown",
   "metadata": {},
   "source": [
    "## Differential Accessibility (Cluster1 vs Cluster2)\n",
    "We now calculate Differential Accessibility to find out the peaks that are differentially accessible in Cluster1 and Cluster2. As we know that cells in these two groups are associated with OE33 and OE19 respectively, the expressed genes are also very similar. So it is interesting to find out the genes that are differentially expressed in these two cells."
   ]
  },
  {
   "cell_type": "markdown",
   "metadata": {},
   "source": [
    "We first extract the cells in each cluster and their count data."
   ]
  },
  {
   "cell_type": "code",
   "execution_count": 134,
   "metadata": {},
   "outputs": [],
   "source": [
    "%%R\n",
    "c1CellName <- names(pamx$clustering[pamx$clustering == 1])\n",
    "c2CellName <-  names(pamx$clustering[pamx$clustering == 2])\n",
    "c3CellName <-  names(pamx$clustering[pamx$clustering == 3])\n",
    "c1CountData <- cdFiltTopSel[,as.character(c1CellName)]\n",
    "colnames(c1CountData) <- paste0('C1_', colnames(c1CountData))\n",
    "c2CountData <- cdFiltTopSel[,as.character(c2CellName)]\n",
    "colnames(c2CountData) <- paste0('C2_', colnames(c2CountData))\n",
    "c3CountData <- cdFiltTopSel[,as.character(c3CellName)]\n",
    "colnames(c3CountData) <- paste0('C3_', colnames(c3CountData))"
   ]
  },
  {
   "cell_type": "markdown",
   "metadata": {},
   "source": [
    "We prepare the data for DE analysis"
   ]
  },
  {
   "cell_type": "code",
   "execution_count": 135,
   "metadata": {},
   "outputs": [
    {
     "data": {
      "text/plain": [
       "sg\n",
       "C1 C2 \n",
       "41 80 \n"
      ]
     },
     "metadata": {},
     "output_type": "display_data"
    }
   ],
   "source": [
    "%%R\n",
    "CellCluster.Annot.counts <- cbind(cdFiltTopSel[,1:3], c1CountData ,c2CountData)\n",
    "rownames(CellCluster.Annot.counts) <- paste0(cdFiltTopSel[,1],'_',cdFiltTopSel[,2],'_',cdFiltTopSel[,3])\n",
    "sg <- factor(gsub(\"(C1|C2).*\", \"\\\\1\", colnames(CellCluster.Annot.counts[,4:dim(CellCluster.Annot.counts)[2]])), \n",
    "             levels = c(\"C1\", \"C2\"))\n",
    "# the group factor should be named accordingly\n",
    "names(sg) <- colnames(CellCluster.Annot.counts[,4:dim(CellCluster.Annot.counts)[2]]) \n",
    "table(sg)"
   ]
  },
  {
   "cell_type": "code",
   "execution_count": 136,
   "metadata": {},
   "outputs": [
    {
     "data": {
      "text/plain": [
       "Time difference of 2.1992 mins\n"
      ]
     },
     "metadata": {},
     "output_type": "display_data"
    }
   ],
   "source": [
    "%%R\n",
    "start.time <- Sys.time()\n",
    "diffRes <- getDiffAccessInformationGain(CellCluster.Annot.counts, groups=sg)\n",
    "end.time <- Sys.time()\n",
    "time.taken <- end.time - start.time\n",
    "time.taken"
   ]
  },
  {
   "cell_type": "markdown",
   "metadata": {},
   "source": [
    "We consider all the peaks that have an information gain of above 0.01 to be significant. So we extract those peaks."
   ]
  },
  {
   "cell_type": "code",
   "execution_count": 137,
   "metadata": {},
   "outputs": [
    {
     "data": {
      "text/plain": [
       "[1] 12583     7\n"
      ]
     },
     "metadata": {},
     "output_type": "display_data"
    }
   ],
   "source": [
    "%%R\n",
    "significantDEpeaks <- diffRes\n",
    "significantDEpeaks <- significantDEpeaks[order(significantDEpeaks$information.gain, decreasing=TRUE),]\n",
    "significantDEpeaks <- significantDEpeaks[significantDEpeaks$information.gain>0.01,]\n",
    "rownames(significantDEpeaks) <- paste0(significantDEpeaks[,1],'_',significantDEpeaks[,2],'_',significantDEpeaks[,3])\n",
    "print(dim(significantDEpeaks))"
   ]
  },
  {
   "cell_type": "markdown",
   "metadata": {},
   "source": [
    "There are 5365 peaks that are significantly differentially accessible in OE19 and OE33."
   ]
  },
  {
   "cell_type": "code",
   "execution_count": 138,
   "metadata": {},
   "outputs": [
    {
     "data": {
      "text/plain": [
       "                            Chr     Start       end information.gain\n",
       "chr17_39535097_39537584   chr17  39535097  39537584        0.2671008\n",
       "chr9_37963667_37965216     chr9  37963667  37965216        0.2318043\n",
       "chr5_912358_913095         chr5    912358    913095        0.2202554\n",
       "chr17_35846992_35851866   chr17  35846992  35851866        0.2178187\n",
       "chr10_106908425_106909662 chr10 106908425 106909662        0.2086013\n",
       "chr13_30646183_30647194   chr13  30646183  30647194        0.1977572\n",
       "                          rawMeanGroup1 rawMeanGroup2 log2FoldChange\n",
       "chr17_39535097_39537584      0.70731707        0.0375       4.237395\n",
       "chr9_37963667_37965216       0.07317073        0.7500      -3.357552\n",
       "chr5_912358_913095           0.65853659        0.0500       3.719264\n",
       "chr17_35846992_35851866      0.87804878        0.2125       2.046838\n",
       "chr10_106908425_106909662    0.60975610        0.0375       4.023270\n",
       "chr13_30646183_30647194      0.02439024        0.6125      -4.650334\n"
      ]
     },
     "metadata": {},
     "output_type": "display_data"
    }
   ],
   "source": [
    "%%R\n",
    "head(significantDEpeaks)"
   ]
  },
  {
   "cell_type": "markdown",
   "metadata": {},
   "source": [
    "We identify the peaks that are highly open in OE33 cells."
   ]
  },
  {
   "cell_type": "code",
   "execution_count": 143,
   "metadata": {},
   "outputs": [],
   "source": [
    "%%R\n",
    "sigOE33 <- significantDEpeaks[significantDEpeaks$log2FoldChange>0,]"
   ]
  },
  {
   "cell_type": "markdown",
   "metadata": {},
   "source": [
    "## Annotating peaks\n",
    "\n",
    "We annotate the genes associated with the peaks now"
   ]
  },
  {
   "cell_type": "markdown",
   "metadata": {},
   "source": [
    "Converting the peaks to GRanges object"
   ]
  },
  {
   "cell_type": "code",
   "execution_count": 144,
   "metadata": {},
   "outputs": [],
   "source": [
    "%%R\n",
    "gr1 <- makeGRangesFromDataFrame(as.data.frame(sigOE33[,1:3]),\n",
    "                         keep.extra.columns=FALSE,\n",
    "                         ignore.strand=TRUE,\n",
    "                         seqinfo=NULL,\n",
    "                         seqnames.field=\"Chr\",\n",
    "                         #start.field=\"start\",\n",
    "                         #end.field=c(\"end\", \"stop\"),                         \n",
    "                         starts.in.df.are.0based=FALSE)\n",
    "metaData <- data.frame(peakNames = rownames(sigOE33), stringsAsFactors=FALSE)\n",
    "mcols(gr1) <- metaData"
   ]
  },
  {
   "cell_type": "markdown",
   "metadata": {},
   "source": [
    "### Prepare annotation data\n",
    "\n",
    "Annotation data should be an object of GRanges. We use the method toGRanges, which can return an object of GRanges, to represent the annotation data. An annotation data be constructed from not only BED, GFF or user defined readable text files, but also EnsDb or TxDb object, by calling the toGRanges method. "
   ]
  },
  {
   "cell_type": "code",
   "execution_count": 145,
   "metadata": {},
   "outputs": [
    {
     "data": {
      "text/plain": [
       "GRanges object with 2 ranges and 1 metadata column:\n",
       "                  seqnames         ranges strand |   gene_name\n",
       "                     <Rle>      <IRanges>  <Rle> | <character>\n",
       "  ENSG00000223972     chr1 [11869, 14412]      + |     DDX11L1\n",
       "  ENSG00000227232     chr1 [14363, 29806]      - |      WASH7P\n",
       "  -------\n",
       "  seqinfo: 273 sequences from GRCh37 genome\n"
      ]
     },
     "metadata": {},
     "output_type": "display_data"
    }
   ],
   "source": [
    "%%R\n",
    "annoData <- toGRanges(EnsDb.Hsapiens.v75, feature=\"gene\")\n",
    "annoData[1:2,'gene_name']"
   ]
  },
  {
   "cell_type": "markdown",
   "metadata": {},
   "source": [
    "### Annotate peaks\n",
    "\n",
    "Now we will use `annotatePeakInBatch()` or `annoPeaks()` to annotate the peaks to the overlaping regions of Hg19 genes."
   ]
  },
  {
   "cell_type": "code",
   "execution_count": 146,
   "metadata": {},
   "outputs": [
    {
     "data": {
      "text/plain": [
       "[1] \"KRT34\"  \"TRIP13\" NA       \"SORCS3\" \"DIP2C\"  NA      \n"
      ]
     },
     "metadata": {},
     "output_type": "display_data"
    }
   ],
   "source": [
    "%%R\n",
    "gr1.anno <- annotatePeakInBatch(gr1, \n",
    "                                     AnnotationData=annoData, \n",
    "                                     #output=\"nearestBiDirectionalPromoters\",\n",
    "                                     output = \"overlapping\",\n",
    "                                     #bindingRegion=c(-2000, 500))\n",
    "                                     maxgap=100)\n",
    "gr1.anno <- addGeneIDs(gr1.anno,\n",
    "                            \"org.Hs.eg.db\",\n",
    "                            IDs2Add = \"symbol\")\n",
    "print(head(gr1.anno$symbol))"
   ]
  },
  {
   "cell_type": "code",
   "execution_count": 147,
   "metadata": {},
   "outputs": [],
   "source": [
    "%%R\n",
    "write.csv(gr1.anno$symbol, 'OE33_Significant.csv')"
   ]
  },
  {
   "cell_type": "markdown",
   "metadata": {},
   "source": [
    "One gene that have differential accessibillity in OE33 cells are _CAV1_ for which we visualize the peaks associated with this gene location in UCSCS browser which is reported in the paper. "
   ]
  },
  {
   "cell_type": "markdown",
   "metadata": {},
   "source": [
    "## Differential Accessibility (Cluster2 vs Cluster3)\n",
    "We now calculate Differential Accessibility to find out the peaks that are differentially accessible in Cluster2 and Cluster3. As we know that cells in these two groups are associated with OE19 and HET1A respectively, the expressed genes are also very similar. So it is interesting to find out the genes that are differentially expressed in these two cells."
   ]
  },
  {
   "cell_type": "markdown",
   "metadata": {},
   "source": [
    "We first extract the cells in each cluster and their count data."
   ]
  },
  {
   "cell_type": "markdown",
   "metadata": {},
   "source": [
    "We prepare the data for DE analysis"
   ]
  },
  {
   "cell_type": "code",
   "execution_count": 148,
   "metadata": {},
   "outputs": [
    {
     "data": {
      "text/plain": [
       "sg\n",
       "C2 C3 \n",
       "80 52 \n"
      ]
     },
     "metadata": {},
     "output_type": "display_data"
    }
   ],
   "source": [
    "%%R\n",
    "CellCluster.Annot.counts <- cbind(cdFiltTopSel[,1:3], c2CountData ,c3CountData)\n",
    "rownames(CellCluster.Annot.counts) <- paste0(cdFiltTopSel[,1],'_',cdFiltTopSel[,2],'_',cdFiltTopSel[,3])\n",
    "sg <- factor(gsub(\"(C2|C3).*\", \"\\\\1\", colnames(CellCluster.Annot.counts[,4:dim(CellCluster.Annot.counts)[2]])), \n",
    "             levels = c(\"C2\", \"C3\"))\n",
    "# the group factor should be named accordingly\n",
    "names(sg) <- colnames(CellCluster.Annot.counts[,4:dim(CellCluster.Annot.counts)[2]]) \n",
    "table(sg)"
   ]
  },
  {
   "cell_type": "code",
   "execution_count": 149,
   "metadata": {},
   "outputs": [
    {
     "data": {
      "text/plain": [
       "Time difference of 2.174719 mins\n"
      ]
     },
     "metadata": {},
     "output_type": "display_data"
    }
   ],
   "source": [
    "%%R\n",
    "start.time <- Sys.time()\n",
    "diffRes <- getDiffAccessInformationGain(CellCluster.Annot.counts, groups=sg)\n",
    "end.time <- Sys.time()\n",
    "time.taken <- end.time - start.time\n",
    "time.taken"
   ]
  },
  {
   "cell_type": "markdown",
   "metadata": {},
   "source": [
    "We consider all the peaks that have an information gain of above 0.01 to be significant. So we extract those peaks."
   ]
  },
  {
   "cell_type": "code",
   "execution_count": 192,
   "metadata": {},
   "outputs": [
    {
     "data": {
      "text/plain": [
       "[1] 15391     7\n"
      ]
     },
     "metadata": {},
     "output_type": "display_data"
    }
   ],
   "source": [
    "%%R\n",
    "significantDEpeaks <- diffRes\n",
    "significantDEpeaks <- significantDEpeaks[order(significantDEpeaks$information.gain, decreasing=TRUE),]\n",
    "significantDEpeaks <- significantDEpeaks[significantDEpeaks$information.gain>0.01,]\n",
    "rownames(significantDEpeaks) <- paste0(significantDEpeaks[,1],'_',significantDEpeaks[,2],'_',significantDEpeaks[,3])\n",
    "print(dim(significantDEpeaks))"
   ]
  },
  {
   "cell_type": "markdown",
   "metadata": {},
   "source": [
    "There are 15391 peaks that are significantly differentially accessible in OE19 and HET1A."
   ]
  },
  {
   "cell_type": "code",
   "execution_count": 193,
   "metadata": {},
   "outputs": [
    {
     "data": {
      "text/plain": [
       "                           Chr     Start       end information.gain\n",
       "chr17_37858661_37867115  chr17  37858661  37867115        0.3570128\n",
       "chr17_37852761_37858463  chr17  37852761  37858463        0.3418310\n",
       "chr17_39944768_39950869  chr17  39944768  39950869        0.3070466\n",
       "chr7_157101284_157103548  chr7 157101284 157103548        0.2862330\n",
       "chr9_71354539_71356329    chr9  71354539  71356329        0.2683219\n",
       "chr6_42084948_42087120    chr6  42084948  42087120        0.2631854\n",
       "                         rawMeanGroup1 rawMeanGroup2 log2FoldChange\n",
       "chr17_37858661_37867115         0.9750    0.21153846       2.204482\n",
       "chr17_37852761_37858463         0.9750    0.23076923       2.078951\n",
       "chr17_39944768_39950869         0.9625    0.25000000       1.944858\n",
       "chr7_157101284_157103548        0.0250    0.69230769      -4.791413\n",
       "chr9_71354539_71356329          0.7250    0.03846154       4.236493\n",
       "chr6_42084948_42087120          0.7750    0.07692308       3.332708\n"
      ]
     },
     "metadata": {},
     "output_type": "display_data"
    }
   ],
   "source": [
    "%%R\n",
    "head(significantDEpeaks)"
   ]
  },
  {
   "cell_type": "markdown",
   "metadata": {},
   "source": [
    "We identify the peaks that are highly open in OE19 cells."
   ]
  },
  {
   "cell_type": "code",
   "execution_count": 206,
   "metadata": {},
   "outputs": [],
   "source": [
    "%%R\n",
    "sigOE19 <- significantDEpeaks[significantDEpeaks$log2FoldChange>0,]\n",
    "sigHET1A <- significantDEpeaks[significantDEpeaks$log2FoldChange<0,]"
   ]
  },
  {
   "cell_type": "markdown",
   "metadata": {},
   "source": [
    "## Annotating peaks\n",
    "\n",
    "We annotate the genes associated with the peaks now"
   ]
  },
  {
   "cell_type": "markdown",
   "metadata": {},
   "source": [
    "Converting the peaks to GRanges object"
   ]
  },
  {
   "cell_type": "code",
   "execution_count": 207,
   "metadata": {},
   "outputs": [],
   "source": [
    "%%R\n",
    "gr1 <- makeGRangesFromDataFrame(as.data.frame(sigOE19[,1:3]),\n",
    "                         keep.extra.columns=FALSE,\n",
    "                         ignore.strand=TRUE,\n",
    "                         seqinfo=NULL,\n",
    "                         seqnames.field=\"Chr\",\n",
    "                         #start.field=\"start\",\n",
    "                         #end.field=c(\"end\", \"stop\"),                         \n",
    "                         starts.in.df.are.0based=FALSE)\n",
    "metaData <- data.frame(peakNames = rownames(sigOE19), stringsAsFactors=FALSE)\n",
    "mcols(gr1) <- metaData"
   ]
  },
  {
   "cell_type": "markdown",
   "metadata": {},
   "source": [
    "### Prepare annotation data\n",
    "\n",
    "Annotation data should be an object of GRanges. We use the method toGRanges, which can return an object of GRanges, to represent the annotation data. An annotation data be constructed from not only BED, GFF or user defined readable text files, but also EnsDb or TxDb object, by calling the toGRanges method. "
   ]
  },
  {
   "cell_type": "code",
   "execution_count": 208,
   "metadata": {},
   "outputs": [
    {
     "data": {
      "text/plain": [
       "GRanges object with 2 ranges and 1 metadata column:\n",
       "                  seqnames         ranges strand |   gene_name\n",
       "                     <Rle>      <IRanges>  <Rle> | <character>\n",
       "  ENSG00000223972     chr1 [11869, 14409]      + |     DDX11L1\n",
       "  ENSG00000227232     chr1 [14404, 29570]      - |      WASH7P\n",
       "  -------\n",
       "  seqinfo: 357 sequences from GRCh38 genome\n"
      ]
     },
     "metadata": {},
     "output_type": "display_data"
    }
   ],
   "source": [
    "%%R\n",
    "annoData <- toGRanges(EnsDb.Hsapiens.v86, feature=\"gene\")\n",
    "annoData[1:2,'gene_name']"
   ]
  },
  {
   "cell_type": "markdown",
   "metadata": {},
   "source": [
    "### Annotate peaks\n",
    "\n",
    "Now we will use `annotatePeakInBatch()` or `annoPeaks()` to annotate the peaks to the overlaping regions of Hg19 genes."
   ]
  },
  {
   "cell_type": "code",
   "execution_count": 209,
   "metadata": {},
   "outputs": [
    {
     "data": {
      "text/plain": [
       "[1] \"YWHAEP7\" \"YWHAEP7\" \"LRRC3C\"  \"TRPM3\"   \"TAF8\"    NA       \n"
      ]
     },
     "metadata": {},
     "output_type": "display_data"
    }
   ],
   "source": [
    "%%R\n",
    "gr1.anno <- annotatePeakInBatch(gr1, \n",
    "                                     AnnotationData=annoData, \n",
    "                                     #output=\"nearestBiDirectionalPromoters\",\n",
    "                                     output = \"overlapping\",\n",
    "                                     #bindingRegion=c(-2000, 500))\n",
    "                                     maxgap=100)\n",
    "gr1.anno <- addGeneIDs(gr1.anno,\n",
    "                            \"org.Hs.eg.db\",\n",
    "                            IDs2Add = \"symbol\")\n",
    "print(head(gr1.anno$symbol))"
   ]
  },
  {
   "cell_type": "code",
   "execution_count": 210,
   "metadata": {},
   "outputs": [],
   "source": [
    "%%R\n",
    "write.csv(gr1.anno$symbol, 'OE19_Significant.csv')"
   ]
  },
  {
   "cell_type": "markdown",
   "metadata": {},
   "source": [
    "Two genes reported in the literature that are differentially expressed in OE19 are _GATA6_ and _PPFIA3_. Peaks associated with these two genes also have differential accessibility in our OE19 significant peaks. We then visualize the peaks of these two gene location in UCSCS browser which is reported in the paper. "
   ]
  },
  {
   "cell_type": "markdown",
   "metadata": {},
   "source": [
    "## Disease ontology analysis\n",
    "\n",
    "We now do a disease ontology analysis with the OE19 significant peaks and HET1A significant peaks. We will first identify the disease ontoogy assocaited with OE19 cells and then will try to find the significance of same disease ontology on HET1A cells. "
   ]
  },
  {
   "cell_type": "code",
   "execution_count": 211,
   "metadata": {},
   "outputs": [],
   "source": [
    "%%R\n",
    "singOE19Sel <- sigOE19[sigOE19$log2FoldChange>2,]"
   ]
  },
  {
   "cell_type": "code",
   "execution_count": 212,
   "metadata": {},
   "outputs": [],
   "source": [
    "%%R\n",
    "bedg1 = singOE19Sel\n",
    "jobg1 = submitGreatJob(bedg1, version = \"3.0\", species='hg19')"
   ]
  },
  {
   "cell_type": "code",
   "execution_count": 213,
   "metadata": {},
   "outputs": [],
   "source": [
    "%%R -w 550 -h 350\n",
    "tbDisG1 = getEnrichmentTables(jobg1, ontolog=\"Disease Ontology\")\n",
    "dftbDisG1 = data.frame(Name = tbDisG1[[1]][,2], Binom_p=-log10(tbDisG1[[1]][,8]))"
   ]
  },
  {
   "cell_type": "code",
   "execution_count": 214,
   "metadata": {},
   "outputs": [
    {
     "data": {
      "text/plain": [
       "                                   Name  Binom_p\n",
       "1                                cancer 35.66909\n",
       "2                             carcinoma 31.02175\n",
       "3                  epithelial carcinoma 30.08280\n",
       "4            reproductive system cancer 25.23526\n",
       "5          malignant neoplasm of thorax 24.58818\n",
       "6          malignant neoplasm of breast 24.49216\n",
       "7                       thoracic cancer 24.07995\n",
       "8           cancer by anatomical entity 23.91215\n",
       "9                        mammary cancer 23.10336\n",
       "10                       adenocarcinoma 22.89754\n",
       "11                              disease 22.38073\n",
       "12                        neck neoplasm 21.70345\n",
       "13                          neck cancer 21.61245\n",
       "14         disease of anatomical entity 20.83940\n",
       "15   glandular cell epithelial neoplasm 20.60640\n",
       "16               squamous cell neoplasm 20.44316\n",
       "17    glandular and epithelial neoplasm 19.48848\n",
       "18                      T-cell leukemia 19.46805\n",
       "19                       POEMS syndrome 19.37241\n",
       "20                 neovascular glaucoma 19.37241\n",
       "21 mucinous adenocarcinoma of the ovary 19.37241\n",
       "22                cystoid macular edema 19.37241\n",
       "23                        macular holes 19.37241\n",
       "24        cholesteatoma of external ear 19.37241\n",
       "25          transitional cell carcinoma 18.97086\n",
       "26                 genitourinary cancer 18.87226\n",
       "27                     thyroid neoplasm 18.86292\n",
       "28          active peptic ulcer disease 18.66238\n",
       "29        malignant neoplasm of thyroid 18.18632\n",
       "30                    laryngeal disease 17.74633\n"
      ]
     },
     "metadata": {},
     "output_type": "display_data"
    }
   ],
   "source": [
    "%%R\n",
    "dftbDisG1[1:30,]"
   ]
  },
  {
   "cell_type": "code",
   "execution_count": 217,
   "metadata": {},
   "outputs": [],
   "source": [
    "%%R\n",
    "sigHET1ASel <- sigHET1A[sigHET1A$log2FoldChange < (-2),]"
   ]
  },
  {
   "cell_type": "code",
   "execution_count": 218,
   "metadata": {},
   "outputs": [
    {
     "name": "stderr",
     "output_type": "stream",
     "text": [
      "/home/mqbsxsm2/anaconda3/lib/python3.6/site-packages/rpy2/rinterface/__init__.py:145: RRuntimeWarning: Don't make too frequent requests. The time break is 300s.\n",
      "Please wait for 143s for the next request.\n",
      "The time break can be set by `request_interval` argument.\n",
      "\n",
      "\n",
      "  warnings.warn(x, RRuntimeWarning)\n"
     ]
    },
    {
     "data": {
      "text/plain": [
       "\r",
       "  |                                                                            \r",
       "  |                                                                      |   0%\r",
       "  |                                                                            \r",
       "  |                                                                      |   1%\r",
       "  |                                                                            \r",
       "  |=                                                                     |   1%\r",
       "  |                                                                            \r",
       "  |=                                                                     |   2%\r",
       "  |                                                                            \r",
       "  |==                                                                    |   3%\r",
       "  |                                                                            \r",
       "  |===                                                                   |   4%\r",
       "  |                                                                            \r",
       "  |===                                                                   |   5%\r",
       "  |                                                                            \r",
       "  |====                                                                  |   6%\r",
       "  |                                                                            \r",
       "  |=====                                                                 |   7%\r",
       "  |                                                                            \r",
       "  |=====                                                                 |   8%\r",
       "  |                                                                            \r",
       "  |======                                                                |   8%\r",
       "  |                                                                            \r",
       "  |======                                                                |   9%\r",
       "  |                                                                            \r",
       "  |=======                                                               |  10%\r",
       "  |                                                                            \r",
       "  |========                                                              |  11%\r",
       "  |                                                                            \r",
       "  |========                                                              |  12%\r",
       "  |                                                                            \r",
       "  |=========                                                             |  13%\r",
       "  |                                                                            \r",
       "  |==========                                                            |  14%\r",
       "  |                                                                            \r",
       "  |==========                                                            |  15%\r",
       "  |                                                                            \r",
       "  |===========                                                           |  15%\r",
       "  |                                                                            \r",
       "  |===========                                                           |  16%\r",
       "  |                                                                            \r",
       "  |============                                                          |  17%\r",
       "  |                                                                            \r",
       "  |=============                                                         |  18%\r",
       "  |                                                                            \r",
       "  |=============                                                         |  19%\r",
       "  |                                                                            \r",
       "  |==============                                                        |  20%\r",
       "  |                                                                            \r",
       "  |===============                                                       |  21%\r",
       "  |                                                                            \r",
       "  |===============                                                       |  22%\r",
       "  |                                                                            \r",
       "  |================                                                      |  22%\r",
       "  |                                                                            \r",
       "  |================                                                      |  23%\r",
       "  |                                                                            \r",
       "  |=================                                                     |  24%\r",
       "  |                                                                            \r",
       "  |==================                                                    |  25%\r",
       "  |                                                                            \r",
       "  |==================                                                    |  26%\r",
       "  |                                                                            \r",
       "  |===================                                                   |  27%\r",
       "  |                                                                            \r",
       "  |====================                                                  |  28%\r",
       "  |                                                                            \r",
       "  |====================                                                  |  29%\r",
       "  |                                                                            \r",
       "  |=====================                                                 |  29%\r",
       "  |                                                                            \r",
       "  |=====================                                                 |  30%\r",
       "  |                                                                            \r",
       "  |======================                                                |  31%\r",
       "  |                                                                            \r",
       "  |=======================                                               |  32%\r",
       "  |                                                                            \r",
       "  |=======================                                               |  33%\r",
       "  |                                                                            \r",
       "  |=======================                                               |  34%\r",
       "  |                                                                            \r",
       "  |========================                                              |  34%\r",
       "  |                                                                            \r",
       "  |========================                                              |  35%\r",
       "  |                                                                            \r",
       "  |=========================                                             |  36%\r",
       "  |                                                                            \r",
       "  |==========================                                            |  37%\r",
       "  |                                                                            \r",
       "  |==========================                                            |  38%\r",
       "  |                                                                            \r",
       "  |===========================                                           |  38%\r",
       "  |                                                                            \r",
       "  |===========================                                           |  39%\r",
       "  |                                                                            \r",
       "  |============================                                          |  40%\r",
       "  |                                                                            \r",
       "  |============================                                          |  41%\r",
       "  |                                                                            \r",
       "  |=============================                                         |  41%\r",
       "  |                                                                            \r",
       "  |=============================                                         |  42%\r",
       "  |                                                                            \r",
       "  |==============================                                        |  43%\r",
       "  |                                                                            \r",
       "  |===============================                                       |  44%\r",
       "  |                                                                            \r",
       "  |===============================                                       |  45%\r",
       "  |                                                                            \r",
       "  |================================                                      |  45%\r",
       "  |                                                                            \r",
       "  |================================                                      |  46%\r",
       "  |                                                                            \r",
       "  |=================================                                     |  47%\r",
       "  |                                                                            \r",
       "  |=================================                                     |  48%\r",
       "  |                                                                            \r",
       "  |==================================                                    |  48%\r",
       "  |                                                                            \r",
       "  |==================================                                    |  49%\r",
       "  |                                                                            \r",
       "  |===================================                                   |  50%\r",
       "  |                                                                            \r",
       "  |====================================                                  |  51%\r",
       "  |                                                                            \r",
       "  |====================================                                  |  52%\r",
       "  |                                                                            \r",
       "  |=====================================                                 |  52%\r",
       "  |                                                                            \r",
       "  |=====================================                                 |  53%\r",
       "  |                                                                            \r",
       "  |======================================                                |  54%\r",
       "  |                                                                            \r",
       "  |======================================                                |  55%\r",
       "  |                                                                            \r",
       "  |=======================================                               |  55%\r",
       "  |                                                                            \r",
       "  |=======================================                               |  56%\r",
       "  |                                                                            \r",
       "  |========================================                              |  57%\r",
       "  |                                                                            \r",
       "  |=========================================                             |  58%\r",
       "  |                                                                            \r",
       "  |=========================================                             |  59%\r",
       "  |                                                                            \r",
       "  |==========================================                            |  59%\r",
       "  |                                                                            \r",
       "  |==========================================                            |  60%\r",
       "  |                                                                            \r",
       "  |===========================================                           |  61%\r",
       "  |                                                                            \r",
       "  |===========================================                           |  62%\r",
       "  |                                                                            \r",
       "  |============================================                          |  62%\r",
       "  |                                                                            \r",
       "  |============================================                          |  63%\r",
       "  |                                                                            \r",
       "  |=============================================                         |  64%\r",
       "  |                                                                            \r",
       "  |==============================================                        |  65%\r",
       "  |                                                                            \r",
       "  |==============================================                        |  66%\r",
       "  |                                                                            \r",
       "  |===============================================                       |  67%\r",
       "  |                                                                            \r",
       "  |===============================================                       |  68%\r",
       "  |                                                                            \r",
       "  |================================================                      |  69%\r",
       "  |                                                                            \r",
       "  |=================================================                     |  70%\r",
       "  |                                                                            \r",
       "  |=================================================                     |  71%\r",
       "  |                                                                            \r",
       "  |==================================================                    |  71%\r",
       "  |                                                                            \r",
       "  |==================================================                    |  72%\r",
       "  |                                                                            \r",
       "  |===================================================                   |  73%\r",
       "  |                                                                            \r",
       "  |====================================================                  |  74%\r",
       "  |                                                                            \r",
       "  |====================================================                  |  75%\r",
       "  |                                                                            \r",
       "  |=====================================================                 |  76%\r",
       "  |                                                                            \r",
       "  |======================================================                |  77%\r",
       "  |                                                                            \r",
       "  |======================================================                |  78%\r",
       "  |                                                                            \r",
       "  |=======================================================               |  78%\r",
       "  |                                                                            \r",
       "  |=======================================================               |  79%\r",
       "  |                                                                            \r",
       "  |========================================================              |  80%\r",
       "  |                                                                            \r",
       "  |=========================================================             |  81%\r",
       "  |                                                                            \r",
       "  |=========================================================             |  82%\r",
       "  |                                                                            \r",
       "  |==========================================================            |  83%\r",
       "  |                                                                            \r",
       "  |===========================================================           |  84%\r",
       "  |                                                                            \r",
       "  |===========================================================           |  85%\r",
       "  |                                                                            \r",
       "  |============================================================          |  85%\r",
       "  |                                                                            \r",
       "  |============================================================          |  86%\r",
       "  |                                                                            \r",
       "  |=============================================================         |  87%\r",
       "  |                                                                            \r",
       "  |==============================================================        |  88%\r",
       "  |                                                                            \r",
       "  |==============================================================        |  89%\r",
       "  |                                                                            \r",
       "  |===============================================================       |  89%\r",
       "  |                                                                            \r",
       "  |===============================================================       |  90%\r",
       "  |                                                                            \r",
       "  |================================================================      |  91%\r",
       "  |                                                                            \r",
       "  |================================================================      |  92%\r",
       "  |                                                                            \r",
       "  |=================================================================     |  92%\r",
       "  |                                                                            \r",
       "  |=================================================================     |  93%\r",
       "  |                                                                            \r",
       "  |==================================================================    |  94%\r",
       "  |                                                                            \r",
       "  |===================================================================   |  95%\r",
       "  |                                                                            \r",
       "  |===================================================================   |  96%\r",
       "  |                                                                            \r",
       "  |====================================================================  |  96%\r",
       "  |                                                                            \r",
       "  |====================================================================  |  97%\r",
       "  |                                                                            \r",
       "  |===================================================================== |  98%\r",
       "  |                                                                            \r",
       "  |===================================================================== |  99%\r",
       "  |                                                                            \r",
       "  |======================================================================| 100%\n"
      ]
     },
     "metadata": {},
     "output_type": "display_data"
    }
   ],
   "source": [
    "%%R\n",
    "bedg2 = sigHET1A[,1:3]\n",
    "jobg2 = submitGreatJob(bedg2, version = \"3.0\", species='hg19')"
   ]
  },
  {
   "cell_type": "code",
   "execution_count": 219,
   "metadata": {},
   "outputs": [],
   "source": [
    "%%R -w 550 -h 350\n",
    "tbDisG2 = getEnrichmentTables(jobg2, ontolog=\"Disease Ontology\")\n",
    "dftbDisG2 = data.frame(Name = tbDisG2[[1]][,2], Binom_p=-log10(tbDisG2[[1]][,8]))"
   ]
  },
  {
   "cell_type": "code",
   "execution_count": 220,
   "metadata": {},
   "outputs": [
    {
     "data": {
      "text/plain": [
       "                                         Name  Binom_p\n",
       "1              dsDNA virus infectious disease 22.89563\n",
       "2                DNA virus infectious disease 20.41672\n",
       "3                  reproductive system cancer 19.68900\n",
       "4                              mammary cancer 19.52828\n",
       "5  progressive multifocal leukoencephalopathy 18.72189\n",
       "6            Herpesviridae infectious disease 18.06720\n",
       "7                       female genital cancer 17.47434\n",
       "8                malignant neoplasm of breast 17.24607\n",
       "9          Cytomegalovirus infectious disease 17.24238\n",
       "10               malignant neoplasm of thorax 17.12734\n",
       "11                            thoracic cancer 16.54006\n",
       "12                                     cancer 16.09954\n",
       "13                           ovarian neoplasm 16.07262\n",
       "14                     squamous cell neoplasm 15.36043\n",
       "15                   viral infectious disease 15.35467\n",
       "16                 female reproductive cancer 15.25368\n",
       "17                 neoplasm of body of uterus 15.08738\n",
       "18                disease by infectious agent 14.62749\n",
       "19                                epithelioma 14.45157\n",
       "20                    squamous cell carcinoma 14.27593\n",
       "21      head and neck squamous cell carcinoma 14.11822\n",
       "22                malignant neoplasm of ovary 13.76721\n",
       "23                             lung carcinoma 13.65348\n",
       "24 malignant neoplasm of female genital organ 13.52401\n",
       "25                               angiosarcoma 13.43817\n",
       "26                            uterine disease 13.15064\n",
       "27           pancreatic ductal adenocarcinoma 13.02966\n",
       "28               hematopoietic system disease 12.99064\n",
       "29                    pancreas adenocarcinoma 12.88269\n",
       "30                  bone inflammation disease 12.87863\n"
      ]
     },
     "metadata": {},
     "output_type": "display_data"
    }
   ],
   "source": [
    "%%R\n",
    "dftbDisG2[1:30,]"
   ]
  },
  {
   "cell_type": "code",
   "execution_count": 221,
   "metadata": {},
   "outputs": [],
   "source": [
    "%%R\n",
    "topG1 <- dftbDisG1[1:15,]\n",
    "#Adding the esophageal carcinoma as well as OE19 cells are esophageal carcinoma\n",
    "topG1 <- rbind(topG1,dftbDisG1[grep('esophageal carcinoma',dftbDisG1$Name),])"
   ]
  },
  {
   "cell_type": "code",
   "execution_count": 222,
   "metadata": {},
   "outputs": [],
   "source": [
    "%%R\n",
    "clstTopInter <- dftbDisG2[as.character(dftbDisG2$Name) %in% as.character(topG1$Name),]"
   ]
  },
  {
   "cell_type": "code",
   "execution_count": 223,
   "metadata": {},
   "outputs": [
    {
     "data": {
      "text/plain": [
       "                                  Name   Binom_p\n",
       "3           reproductive system cancer 19.689002\n",
       "4                       mammary cancer 19.528279\n",
       "8         malignant neoplasm of breast 17.246065\n",
       "10        malignant neoplasm of thorax 17.127343\n",
       "11                     thoracic cancer 16.540064\n",
       "12                              cancer 16.099542\n",
       "33                      adenocarcinoma 12.214813\n",
       "41         cancer by anatomical entity 11.160126\n",
       "45                epithelial carcinoma 10.755831\n",
       "47  glandular cell epithelial neoplasm 10.730023\n",
       "136       disease of anatomical entity  6.756053\n",
       "141                          carcinoma  6.627016\n",
       "216                        neck cancer  4.936358\n",
       "223                      neck neoplasm  4.889893\n",
       "294                            disease  4.056264\n",
       "313               esophageal carcinoma  3.866564\n"
      ]
     },
     "metadata": {},
     "output_type": "display_data"
    }
   ],
   "source": [
    "%%R\n",
    "clstTopInter"
   ]
  },
  {
   "cell_type": "code",
   "execution_count": 224,
   "metadata": {},
   "outputs": [
    {
     "data": {
      "text/plain": [
       "                                 Name  Cluster2  Cluster3\n",
       "1                              cancer 35.669090 19.689002\n",
       "2                           carcinoma 31.021753 19.528279\n",
       "3                epithelial carcinoma 30.082802 17.246065\n",
       "4          reproductive system cancer 25.235257 17.127343\n",
       "5        malignant neoplasm of thorax 24.588176 16.540064\n",
       "6        malignant neoplasm of breast 24.492162 16.099542\n",
       "7                     thoracic cancer 24.079950 12.214813\n",
       "8         cancer by anatomical entity 23.912145 11.160126\n",
       "9                      mammary cancer 23.103356 10.755831\n",
       "10                     adenocarcinoma 22.897540 10.730023\n",
       "11                            disease 22.380727  6.756053\n",
       "12                      neck neoplasm 21.703447  6.627016\n",
       "13                        neck cancer 21.612454  0.981200\n",
       "14       disease of anatomical entity 20.839405  4.889893\n",
       "15 glandular cell epithelial neoplasm 20.606401  4.056264\n",
       "16               esophageal carcinoma  6.914241  3.866564\n"
      ]
     },
     "metadata": {},
     "output_type": "display_data"
    }
   ],
   "source": [
    "%%R\n",
    "dbBoth <- data.frame(Name=topG1$Name, Cluster2=topG1$Binom_p, Cluster3=clstTopInter$Binom_p)\n",
    "dbBoth[13,3] = 0.9812\n",
    "dbBoth"
   ]
  },
  {
   "cell_type": "code",
   "execution_count": 225,
   "metadata": {},
   "outputs": [
    {
     "data": {
      "image/png": "[encoded data removed]"
     },
     "metadata": {},
     "output_type": "display_data"
    }
   ],
   "source": [
    "%%R -w 600 -h 350\n",
    "library(reshape)\n",
    "df.long<-melt(dbBoth)\n",
    "p <- ggplot(df.long,aes(Name,value,fill=variable)) + ggtitle('Cluster2 & Cluster3 disease ontology') +\n",
    "    geom_bar(stat=\"identity\",position=\"dodge\",width = 1) + coord_flip()+\n",
    "        theme_light(base_size=12) +\n",
    "        theme(text=element_text(size=14,  face=\"bold\"),\n",
    "            strip.background = element_blank(),\n",
    "              panel.border     = element_blank(),\n",
    "              plot.title = element_text(hjust = 0.5))+ xlab(\"Disease Ontology\") + \n",
    "             ylab(\"-log10(Binom_p-value)\") +  \n",
    "             scale_fill_manual(\"variable\", values = c(\"Cluster2\" = \"red\", \"Cluster3\" = \"blue\"))\n",
    "print(p)"
   ]
  },
  {
   "cell_type": "code",
   "execution_count": 305,
   "metadata": {},
   "outputs": [
    {
     "data": {
      "text/plain": [
       "png \n",
       "  2 \n"
      ]
     },
     "metadata": {},
     "output_type": "display_data"
    }
   ],
   "source": [
    "%%R -w 600 -h 350\n",
    "pdf('Disease_ontology_updated.pdf', width=10, height=5)\n",
    "#library(reshape)\n",
    "df.long<-melt(dbBoth)\n",
    "p <- ggplot(df.long,aes(Name,value,fill=variable)) + ggtitle('Cluster2 & Cluster3 disease ontology') +\n",
    "    geom_bar(stat=\"identity\",position=\"dodge\",width = 1) + coord_flip()+\n",
    "        theme_light(base_size=12) +\n",
    "        theme(text=element_text(size=14,  face=\"bold\"),\n",
    "            strip.background = element_blank(),\n",
    "              panel.border     = element_blank(),\n",
    "              plot.title = element_text(hjust = 0.5))+ xlab(\"Disease Ontology\") + \n",
    "             ylab(\"-log10(Binom_p-value)\") +  \n",
    "             scale_fill_manual(\"variable\", values = c(\"Cluster2\" = \"red\", \"Cluster3\" = \"blue\"))\n",
    "print(p)\n",
    "dev.off()"
   ]
  },
  {
   "cell_type": "markdown",
   "metadata": {},
   "source": [
    "## Recall vs precision\n",
    "\n",
    "Scasat also has a functionality to plot the recall vs precision. Here we are doing it for class2 cells agains Bulk OE19 to see the sensitivity or TRUE positive rate for peaks that are differentially accessible in OE19 vs HET1A with statistical significance."
   ]
  },
  {
   "cell_type": "code",
   "execution_count": 229,
   "metadata": {},
   "outputs": [
    {
     "data": {
      "image/png": "[encoded data removed]"
     },
     "metadata": {},
     "output_type": "display_data"
    }
   ],
   "source": [
    "%%R\n",
    "OE19_peaks <- read.table('/home/mqbsxsm2/Rna-seq_Data-Analysis/syed_scATAC_ReDoing/AllCluster_Bulk_Files/OE19.Bulk_peaks.narrowPeak',\n",
    "                        sep='\\t', header=FALSE)\n",
    "\n",
    "\n",
    "colnames(OE19_peaks) <- c('chr','start','end')\n",
    "#pdf('Recall_vs_precision_OE19_Clust2.pdf')\n",
    "getPeakVsPrecision(OE19_peaks[,1:3], sigOE19[,1:3], stepSize=50)\n",
    "#dev.off()\n"
   ]
  },
  {
   "cell_type": "code",
   "execution_count": 270,
   "metadata": {},
   "outputs": [
    {
     "data": {
      "text/plain": [
       "png \n",
       "  2 \n"
      ]
     },
     "metadata": {},
     "output_type": "display_data"
    }
   ],
   "source": [
    "%%R\n",
    "pdf('Recall_vs_precision_OE19_Clust2.pdf')\n",
    "getPeakVsPrecision(OE19_peaks[,1:3], sigOE19[,1:3], stepSize=50)\n",
    "dev.off()"
   ]
  },
  {
   "cell_type": "code",
   "execution_count": 230,
   "metadata": {},
   "outputs": [],
   "source": [
    "%%R\n",
    "save.image('ScAsAT_Deconv_Redo.RData')"
   ]
  },
  {
   "cell_type": "code",
   "execution_count": null,
   "metadata": {
    "collapsed": true
   },
   "outputs": [],
   "source": []
  }
 ],
 "metadata": {
  "anaconda-cloud": {},
  "kernelspec": {
   "display_name": "Python 3",
   "language": "python",
   "name": "python3"
  },
  "language_info": {
   "codemirror_mode": {
    "name": "ipython",
    "version": 3
   },
   "file_extension": ".py",
   "mimetype": "text/x-python",
   "name": "python",
   "nbconvert_exporter": "python",
   "pygments_lexer": "ipython3",
   "version": "3.6.5"
  }
 },
 "nbformat": 4,
 "nbformat_minor": 1
}
